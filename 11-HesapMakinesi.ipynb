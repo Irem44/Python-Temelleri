{
 "cells": [
  {
   "cell_type": "code",
   "execution_count": 1,
   "id": "dbbea021",
   "metadata": {},
   "outputs": [
    {
     "name": "stdout",
     "output_type": "stream",
     "text": [
      "Welcome.You can to make choose :\n",
      "1-Addidion\n",
      "2-Elimination\n",
      "3-Multiplication\n",
      "4-Partition\n",
      "5-Exit\n",
      "Your choose: 6\n",
      "Stop!This entry is wrong\n",
      "\n",
      "Welcome.You can to make choose :\n",
      "1-Addidion\n",
      "2-Elimination\n",
      "3-Multiplication\n",
      "4-Partition\n",
      "5-Exit\n",
      "Your choose: 5\n",
      "Exiting....\n"
     ]
    }
   ],
   "source": [
    "while True:\n",
    "    print(\"Welcome.You can to make choose :\")\n",
    "    print(\"1-Addidion\")\n",
    "    print(\"2-Elimination\")\n",
    "    print(\"3-Multiplication\")\n",
    "    print(\"4-Partition\")\n",
    "    print(\"5-Exit\")\n",
    "    choose=int(input(\"Your choose: \"))\n",
    "   \n",
    "    \n",
    "    match choose:\n",
    "        case 1:\n",
    "            print(\"Please enter first number\")\n",
    "            number1=int(input(\"First Number: \"))\n",
    "            print(\"Please enter second number\")\n",
    "            number2=int(input(\"Second Number: \"))\n",
    "            resault=number1+number2\n",
    "            print(f\"Numbers's of additon: {resault} \\n\")\n",
    "            \n",
    "            \n",
    "        case 2:\n",
    "            print(\"Please enter first number: \")\n",
    "            number1=int(input(\"First Number: \"))\n",
    "            print(\"Pleas enter second number:\")\n",
    "            number2=int(input(\"Second Number: \"))\n",
    "            print(\"Do you want first use which number: \")\n",
    "            firstNumber=int(input(\"You choose: \"))\n",
    "            if firstNumber==number1:\n",
    "                resault=number1-number2\n",
    "                print(f\"Numbers's of elimination: {resault} \\n\")\n",
    "            else:\n",
    "                resault=number2-number1\n",
    "                print(f\"Numbers's of elimination: {resault} \\n\")\n",
    "            \n",
    "        case 3:\n",
    "            print(\"Please enter first number: \")\n",
    "            number1=int(input(\"First Number: \"))\n",
    "            print(\"Please enter second number: \")\n",
    "            number2=int(input(\"Second Number:\"))\n",
    "            resault=number1*number2\n",
    "            print(f\"Numbers's of Multiplication : {resault} \\n\")\n",
    "            \n",
    "        case 4:\n",
    "            print(\"Please enter first number:\")\n",
    "            number1=int(input(\"First NUmber: \"))\n",
    "            print(\"Please enter second number: \")\n",
    "            number2=int(input(\"Second Number: \"))\n",
    "            try:\n",
    "                resault=number1/number2\n",
    "                print(f\"Numbers's of partition: {resault} \\n\")\n",
    "            except:\n",
    "                print(\"Stop! you can not choose second number zero.Try again!\\n\")\n",
    "        case 5:    \n",
    "            print(\"Exiting....\")\n",
    "            break\n",
    "           \n",
    "    if choose!=1 or choose!=2 or choose!=3 or choose!=4 or choose==5:\n",
    "            print(\"Stop!This entry is wrong\\n\")        \n",
    "           \n",
    "            "
   ]
  },
  {
   "cell_type": "code",
   "execution_count": null,
   "id": "d14831ee",
   "metadata": {},
   "outputs": [],
   "source": []
  },
  {
   "cell_type": "code",
   "execution_count": null,
   "id": "4ebc1e20",
   "metadata": {},
   "outputs": [],
   "source": []
  }
 ],
 "metadata": {
  "kernelspec": {
   "display_name": "Python 3 (ipykernel)",
   "language": "python",
   "name": "python3"
  },
  "language_info": {
   "codemirror_mode": {
    "name": "ipython",
    "version": 3
   },
   "file_extension": ".py",
   "mimetype": "text/x-python",
   "name": "python",
   "nbconvert_exporter": "python",
   "pygments_lexer": "ipython3",
   "version": "3.11.4"
  }
 },
 "nbformat": 4,
 "nbformat_minor": 5
}
