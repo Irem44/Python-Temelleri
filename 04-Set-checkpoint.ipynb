{
 "cells": [
  {
   "cell_type": "markdown",
   "id": "96489b42",
   "metadata": {},
   "source": [
    "**Elemanlar benzersiz olmalı!"
   ]
  },
  {
   "cell_type": "code",
   "execution_count": 1,
   "id": "f2f7aa1c",
   "metadata": {},
   "outputs": [],
   "source": [
    "mySet={1,1,8,4,6}"
   ]
  },
  {
   "cell_type": "code",
   "execution_count": 2,
   "id": "11b330fe",
   "metadata": {},
   "outputs": [
    {
     "data": {
      "text/plain": [
       "set"
      ]
     },
     "execution_count": 2,
     "metadata": {},
     "output_type": "execute_result"
    }
   ],
   "source": [
    "type(mySet)"
   ]
  },
  {
   "cell_type": "code",
   "execution_count": 3,
   "id": "e0cb74a3",
   "metadata": {},
   "outputs": [
    {
     "data": {
      "text/plain": [
       "{1, 4, 6, 8}"
      ]
     },
     "execution_count": 3,
     "metadata": {},
     "output_type": "execute_result"
    }
   ],
   "source": [
    "mySet"
   ]
  },
  {
   "cell_type": "code",
   "execution_count": 6,
   "id": "b0389732",
   "metadata": {},
   "outputs": [],
   "source": [
    "myList=[1,4,7,2,88,2,2]"
   ]
  },
  {
   "cell_type": "code",
   "execution_count": 7,
   "id": "6f74b00a",
   "metadata": {},
   "outputs": [],
   "source": [
    "mySet=set(myList)"
   ]
  },
  {
   "cell_type": "code",
   "execution_count": 8,
   "id": "183024b5",
   "metadata": {},
   "outputs": [
    {
     "data": {
      "text/plain": [
       "{1, 2, 4, 7, 88}"
      ]
     },
     "execution_count": 8,
     "metadata": {},
     "output_type": "execute_result"
    }
   ],
   "source": [
    "mySet"
   ]
  },
  {
   "cell_type": "code",
   "execution_count": 9,
   "id": "2fc3962b",
   "metadata": {},
   "outputs": [],
   "source": [
    "myEmptySet=set()"
   ]
  },
  {
   "cell_type": "code",
   "execution_count": 10,
   "id": "625e6859",
   "metadata": {},
   "outputs": [
    {
     "data": {
      "text/plain": [
       "set"
      ]
     },
     "execution_count": 10,
     "metadata": {},
     "output_type": "execute_result"
    }
   ],
   "source": [
    "type(myEmptySet)"
   ]
  },
  {
   "cell_type": "code",
   "execution_count": 11,
   "id": "732041c6",
   "metadata": {},
   "outputs": [],
   "source": [
    "myEmptySet.add(\"Ali\")\n",
    "myEmptySet.add(\"Ayşe\")\n",
    "myEmptySet.add(\"Sude\")\n",
    "myEmptySet.add(\"Ahmet\")"
   ]
  },
  {
   "cell_type": "code",
   "execution_count": 12,
   "id": "32efad40",
   "metadata": {},
   "outputs": [
    {
     "data": {
      "text/plain": [
       "{'Ahmet', 'Ali', 'Ayşe', 'Sude'}"
      ]
     },
     "execution_count": 12,
     "metadata": {},
     "output_type": "execute_result"
    }
   ],
   "source": [
    "myEmptySet"
   ]
  },
  {
   "cell_type": "code",
   "execution_count": null,
   "id": "96d66167",
   "metadata": {},
   "outputs": [],
   "source": []
  }
 ],
 "metadata": {
  "kernelspec": {
   "display_name": "Python 3 (ipykernel)",
   "language": "python",
   "name": "python3"
  },
  "language_info": {
   "codemirror_mode": {
    "name": "ipython",
    "version": 3
   },
   "file_extension": ".py",
   "mimetype": "text/x-python",
   "name": "python",
   "nbconvert_exporter": "python",
   "pygments_lexer": "ipython3",
   "version": "3.11.4"
  }
 },
 "nbformat": 4,
 "nbformat_minor": 5
}
