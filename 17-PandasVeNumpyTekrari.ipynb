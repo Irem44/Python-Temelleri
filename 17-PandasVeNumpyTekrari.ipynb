{
 "cells": [
  {
   "cell_type": "code",
   "execution_count": 1,
   "id": "c49a8467",
   "metadata": {},
   "outputs": [],
   "source": [
    "import numpy as np"
   ]
  },
  {
   "cell_type": "code",
   "execution_count": 2,
   "id": "1362bbd9",
   "metadata": {},
   "outputs": [],
   "source": [
    "benimListem=[10,20,30,47]"
   ]
  },
  {
   "cell_type": "code",
   "execution_count": 3,
   "id": "e91d5e5b",
   "metadata": {},
   "outputs": [],
   "source": [
    "numpyArray=np.array(benimListem)"
   ]
  },
  {
   "cell_type": "code",
   "execution_count": 4,
   "id": "0c69519c",
   "metadata": {},
   "outputs": [
    {
     "data": {
      "text/plain": [
       "numpy.ndarray"
      ]
     },
     "execution_count": 4,
     "metadata": {},
     "output_type": "execute_result"
    }
   ],
   "source": [
    "type(numpyArray)"
   ]
  },
  {
   "cell_type": "code",
   "execution_count": 5,
   "id": "c05f2f63",
   "metadata": {},
   "outputs": [],
   "source": [
    "matrixListem=[[1,2,3],[4,5,6],[7,8,9]]"
   ]
  },
  {
   "cell_type": "code",
   "execution_count": 6,
   "id": "f366461e",
   "metadata": {},
   "outputs": [
    {
     "data": {
      "text/plain": [
       "[[1, 2, 3], [4, 5, 6], [7, 8, 9]]"
      ]
     },
     "execution_count": 6,
     "metadata": {},
     "output_type": "execute_result"
    }
   ],
   "source": [
    "matrixListem"
   ]
  },
  {
   "cell_type": "code",
   "execution_count": 7,
   "id": "399f785c",
   "metadata": {},
   "outputs": [],
   "source": [
    "numpyArrayMatrix=np.array(matrixListem)"
   ]
  },
  {
   "cell_type": "code",
   "execution_count": 8,
   "id": "333cbf39",
   "metadata": {},
   "outputs": [
    {
     "data": {
      "text/plain": [
       "array([[1, 2, 3],\n",
       "       [4, 5, 6],\n",
       "       [7, 8, 9]])"
      ]
     },
     "execution_count": 8,
     "metadata": {},
     "output_type": "execute_result"
    }
   ],
   "source": [
    "numpyArrayMatrix"
   ]
  },
  {
   "cell_type": "markdown",
   "id": "502f4919",
   "metadata": {},
   "source": [
    "**arange() fonksiyonu içerisine yazılan sınırlar arasında int sayı döndürür."
   ]
  },
  {
   "cell_type": "code",
   "execution_count": 9,
   "id": "22ee1d47",
   "metadata": {},
   "outputs": [
    {
     "data": {
      "text/plain": [
       "array([0, 1, 2, 3, 4, 5, 6, 7, 8, 9])"
      ]
     },
     "execution_count": 9,
     "metadata": {},
     "output_type": "execute_result"
    }
   ],
   "source": [
    "np.arange(0,10)"
   ]
  },
  {
   "cell_type": "code",
   "execution_count": 10,
   "id": "a2648b79",
   "metadata": {},
   "outputs": [
    {
     "data": {
      "text/plain": [
       "array([ 0,  1,  2,  3,  4,  5,  6,  7,  8,  9, 10, 11, 12, 13, 14, 15, 16,\n",
       "       17, 18, 19, 20, 21, 22, 23, 24, 25, 26, 27, 28, 29, 30, 31, 32, 33,\n",
       "       34, 35, 36, 37, 38, 39, 40, 41, 42, 43, 44, 45, 46, 47, 48, 49])"
      ]
     },
     "execution_count": 10,
     "metadata": {},
     "output_type": "execute_result"
    }
   ],
   "source": [
    "np.arange(0,50)"
   ]
  },
  {
   "cell_type": "code",
   "execution_count": 11,
   "id": "8ac7a04c",
   "metadata": {},
   "outputs": [
    {
     "data": {
      "text/plain": [
       "array([12, 13, 14, 15, 16, 17, 18, 19, 20, 21, 22, 23, 24, 25, 26, 27, 28,\n",
       "       29, 30, 31, 32, 33, 34, 35, 36, 37, 38, 39, 40, 41, 42, 43, 44])"
      ]
     },
     "execution_count": 11,
     "metadata": {},
     "output_type": "execute_result"
    }
   ],
   "source": [
    "np.arange(12,45)"
   ]
  },
  {
   "cell_type": "code",
   "execution_count": 12,
   "id": "545aab0f",
   "metadata": {},
   "outputs": [
    {
     "data": {
      "text/plain": [
       "array([ 0,  1,  2,  3,  4,  5,  6,  7,  8,  9, 10, 11])"
      ]
     },
     "execution_count": 12,
     "metadata": {},
     "output_type": "execute_result"
    }
   ],
   "source": [
    "np.arange(0,12)"
   ]
  },
  {
   "cell_type": "code",
   "execution_count": 13,
   "id": "30100d96",
   "metadata": {},
   "outputs": [
    {
     "data": {
      "text/plain": [
       "array([89, 90, 91, 92, 93, 94, 95, 96, 97, 98, 99])"
      ]
     },
     "execution_count": 13,
     "metadata": {},
     "output_type": "execute_result"
    }
   ],
   "source": [
    "np.arange(89,100)"
   ]
  },
  {
   "cell_type": "code",
   "execution_count": 14,
   "id": "98d5f6b2",
   "metadata": {},
   "outputs": [
    {
     "data": {
      "text/plain": [
       "array([45, 46, 47, 48, 49, 50, 51, 52, 53, 54, 55, 56, 57, 58, 59, 60, 61,\n",
       "       62, 63, 64, 65, 66, 67, 68, 69, 70, 71, 72, 73, 74, 75, 76, 77, 78,\n",
       "       79, 80, 81, 82, 83, 84, 85, 86, 87, 88, 89, 90, 91, 92, 93, 94, 95])"
      ]
     },
     "execution_count": 14,
     "metadata": {},
     "output_type": "execute_result"
    }
   ],
   "source": [
    "np.arange(45,96)"
   ]
  },
  {
   "cell_type": "code",
   "execution_count": 15,
   "id": "a4b18723",
   "metadata": {},
   "outputs": [
    {
     "data": {
      "text/plain": [
       "array([ 0,  2,  4,  6,  8, 10, 12, 14, 16, 18, 20, 22, 24, 26, 28, 30, 32,\n",
       "       34, 36, 38, 40, 42, 44, 46, 48])"
      ]
     },
     "execution_count": 15,
     "metadata": {},
     "output_type": "execute_result"
    }
   ],
   "source": [
    "np.arange(0,50,2)"
   ]
  },
  {
   "cell_type": "code",
   "execution_count": 16,
   "id": "7ee2fe29",
   "metadata": {},
   "outputs": [
    {
     "data": {
      "text/plain": [
       "array([50, 54, 58, 62, 66, 70, 74, 78, 82, 86, 90, 94, 98])"
      ]
     },
     "execution_count": 16,
     "metadata": {},
     "output_type": "execute_result"
    }
   ],
   "source": [
    "np.arange(50,100,4)"
   ]
  },
  {
   "cell_type": "code",
   "execution_count": 17,
   "id": "ad718c9c",
   "metadata": {},
   "outputs": [],
   "source": [
    "zero=np.zeros(5)"
   ]
  },
  {
   "cell_type": "code",
   "execution_count": 18,
   "id": "73506008",
   "metadata": {},
   "outputs": [],
   "source": [
    "yasListem=[12,25,48,46,12]"
   ]
  },
  {
   "cell_type": "code",
   "execution_count": 19,
   "id": "a555cb66",
   "metadata": {},
   "outputs": [],
   "source": [
    "yasListem=zero"
   ]
  },
  {
   "cell_type": "code",
   "execution_count": 20,
   "id": "b1b6a864",
   "metadata": {},
   "outputs": [
    {
     "data": {
      "text/plain": [
       "array([0., 0., 0., 0., 0.])"
      ]
     },
     "execution_count": 20,
     "metadata": {},
     "output_type": "execute_result"
    }
   ],
   "source": [
    "yasListem"
   ]
  },
  {
   "cell_type": "code",
   "execution_count": 21,
   "id": "cf2008af",
   "metadata": {},
   "outputs": [],
   "source": [
    "one=np.ones(5)"
   ]
  },
  {
   "cell_type": "code",
   "execution_count": 22,
   "id": "e5aaedfc",
   "metadata": {},
   "outputs": [],
   "source": [
    "yasListem=one"
   ]
  },
  {
   "cell_type": "code",
   "execution_count": 23,
   "id": "bd823ebe",
   "metadata": {},
   "outputs": [
    {
     "data": {
      "text/plain": [
       "array([1., 1., 1., 1., 1.])"
      ]
     },
     "execution_count": 23,
     "metadata": {},
     "output_type": "execute_result"
    }
   ],
   "source": [
    "yasListem"
   ]
  },
  {
   "cell_type": "markdown",
   "id": "70d907b4",
   "metadata": {},
   "source": [
    "**linspace() fonksiyonu seçtiğimiz aralıkta seçtiğimiz parça sayısına böler ve her parça arası eşit olur."
   ]
  },
  {
   "cell_type": "code",
   "execution_count": 24,
   "id": "0e47d688",
   "metadata": {},
   "outputs": [
    {
     "data": {
      "text/plain": [
       "array([ 0.,  5., 10., 15., 20.])"
      ]
     },
     "execution_count": 24,
     "metadata": {},
     "output_type": "execute_result"
    }
   ],
   "source": [
    "np.linspace(0,20,5)"
   ]
  },
  {
   "cell_type": "code",
   "execution_count": 25,
   "id": "a61e8c20",
   "metadata": {},
   "outputs": [
    {
     "data": {
      "text/plain": [
       "array([  0.,  25.,  50.,  75., 100.])"
      ]
     },
     "execution_count": 25,
     "metadata": {},
     "output_type": "execute_result"
    }
   ],
   "source": [
    "np.linspace(0,100,5)"
   ]
  },
  {
   "cell_type": "code",
   "execution_count": 26,
   "id": "f3a9ef4a",
   "metadata": {},
   "outputs": [
    {
     "data": {
      "text/plain": [
       "array([45.  , 56.25, 67.5 , 78.75, 90.  ])"
      ]
     },
     "execution_count": 26,
     "metadata": {},
     "output_type": "execute_result"
    }
   ],
   "source": [
    "np.linspace(45,90,5)"
   ]
  },
  {
   "cell_type": "code",
   "execution_count": 27,
   "id": "d17bf2c9",
   "metadata": {},
   "outputs": [
    {
     "data": {
      "text/plain": [
       "array([ 63.        ,  67.11111111,  71.22222222,  75.33333333,\n",
       "        79.44444444,  83.55555556,  87.66666667,  91.77777778,\n",
       "        95.88888889, 100.        ])"
      ]
     },
     "execution_count": 27,
     "metadata": {},
     "output_type": "execute_result"
    }
   ],
   "source": [
    "np.linspace(63,100,10)"
   ]
  },
  {
   "cell_type": "code",
   "execution_count": 28,
   "id": "3514fa83",
   "metadata": {},
   "outputs": [
    {
     "data": {
      "text/plain": [
       "array([[1., 0., 0., 0., 0., 0., 0., 0., 0., 0.],\n",
       "       [0., 1., 0., 0., 0., 0., 0., 0., 0., 0.],\n",
       "       [0., 0., 1., 0., 0., 0., 0., 0., 0., 0.],\n",
       "       [0., 0., 0., 1., 0., 0., 0., 0., 0., 0.],\n",
       "       [0., 0., 0., 0., 1., 0., 0., 0., 0., 0.],\n",
       "       [0., 0., 0., 0., 0., 1., 0., 0., 0., 0.],\n",
       "       [0., 0., 0., 0., 0., 0., 1., 0., 0., 0.],\n",
       "       [0., 0., 0., 0., 0., 0., 0., 1., 0., 0.],\n",
       "       [0., 0., 0., 0., 0., 0., 0., 0., 1., 0.],\n",
       "       [0., 0., 0., 0., 0., 0., 0., 0., 0., 1.]])"
      ]
     },
     "execution_count": 28,
     "metadata": {},
     "output_type": "execute_result"
    }
   ],
   "source": [
    "np.eye(10)"
   ]
  },
  {
   "cell_type": "code",
   "execution_count": 29,
   "id": "99a6f433",
   "metadata": {},
   "outputs": [
    {
     "data": {
      "text/plain": [
       "array([ 1.50420777, -0.73662904, -0.57801848, -1.05258808,  0.75231495,\n",
       "        0.10519285, -1.78047658,  0.94457149])"
      ]
     },
     "execution_count": 29,
     "metadata": {},
     "output_type": "execute_result"
    }
   ],
   "source": [
    "np.random.randn(8)"
   ]
  },
  {
   "cell_type": "code",
   "execution_count": 30,
   "id": "c2e362b7",
   "metadata": {},
   "outputs": [
    {
     "data": {
      "text/plain": [
       "array([-2.19166947, -0.56904728, -0.28831785,  0.82457464, -0.65571431])"
      ]
     },
     "execution_count": 30,
     "metadata": {},
     "output_type": "execute_result"
    }
   ],
   "source": [
    "np.random.randn(5)"
   ]
  },
  {
   "cell_type": "code",
   "execution_count": 31,
   "id": "6593b403",
   "metadata": {},
   "outputs": [
    {
     "data": {
      "text/plain": [
       "array([-0.96502039, -0.18043707])"
      ]
     },
     "execution_count": 31,
     "metadata": {},
     "output_type": "execute_result"
    }
   ],
   "source": [
    "np.random.randn(2)"
   ]
  },
  {
   "cell_type": "code",
   "execution_count": 32,
   "id": "4c7781ad",
   "metadata": {},
   "outputs": [
    {
     "data": {
      "text/plain": [
       "array([-0.70240127, -0.62532435,  1.83471416, -0.92504308, -0.180218  ])"
      ]
     },
     "execution_count": 32,
     "metadata": {},
     "output_type": "execute_result"
    }
   ],
   "source": [
    "np.random.randn(5)"
   ]
  },
  {
   "cell_type": "code",
   "execution_count": 33,
   "id": "c1b6d2a9",
   "metadata": {},
   "outputs": [
    {
     "data": {
      "text/plain": [
       "array([ 0.74932735, -0.20564512, -0.79033478,  0.63224416, -1.29542093,\n",
       "        0.8926649 , -0.09105368,  1.41062658,  0.12318133,  0.764863  ,\n",
       "        2.7919458 ,  0.78030898, -0.17178159, -1.26197361,  2.74798585,\n",
       "       -0.53899471, -0.27607857,  0.77739179, -0.81632258, -0.70673146])"
      ]
     },
     "execution_count": 33,
     "metadata": {},
     "output_type": "execute_result"
    }
   ],
   "source": [
    "np.random.randn(20)"
   ]
  },
  {
   "cell_type": "code",
   "execution_count": 34,
   "id": "94895d34",
   "metadata": {},
   "outputs": [
    {
     "data": {
      "text/plain": [
       "array([[ 0.88391942, -0.8349791 , -0.0357261 , -2.03831943],\n",
       "       [-0.52676569,  0.53622375, -0.61437375,  0.88692641],\n",
       "       [-1.05535697, -0.91955454, -0.76843677,  1.78179954],\n",
       "       [-0.09136913,  0.78797222, -1.09913087, -0.12954091]])"
      ]
     },
     "execution_count": 34,
     "metadata": {},
     "output_type": "execute_result"
    }
   ],
   "source": [
    "np.random.randn(4,4)"
   ]
  },
  {
   "cell_type": "code",
   "execution_count": 35,
   "id": "d2507958",
   "metadata": {},
   "outputs": [
    {
     "data": {
      "text/plain": [
       "array([[-1.5443813 ,  0.14844923, -1.00342166],\n",
       "       [-1.41823121, -1.77719837,  0.44380526],\n",
       "       [ 1.25413611, -1.27544185,  0.17777712]])"
      ]
     },
     "execution_count": 35,
     "metadata": {},
     "output_type": "execute_result"
    }
   ],
   "source": [
    "np.random.randn(3,3)"
   ]
  },
  {
   "cell_type": "code",
   "execution_count": 36,
   "id": "7740a644",
   "metadata": {},
   "outputs": [
    {
     "data": {
      "text/plain": [
       "array([[-0.69423245,  1.51628331],\n",
       "       [ 0.29506028, -0.65462041]])"
      ]
     },
     "execution_count": 36,
     "metadata": {},
     "output_type": "execute_result"
    }
   ],
   "source": [
    "np.random.randn(2,2)"
   ]
  },
  {
   "cell_type": "code",
   "execution_count": 37,
   "id": "88340318",
   "metadata": {},
   "outputs": [
    {
     "data": {
      "text/plain": [
       "3"
      ]
     },
     "execution_count": 37,
     "metadata": {},
     "output_type": "execute_result"
    }
   ],
   "source": [
    "np.random.randint(1,10)"
   ]
  },
  {
   "cell_type": "code",
   "execution_count": 38,
   "id": "a588e9bc",
   "metadata": {},
   "outputs": [
    {
     "data": {
      "text/plain": [
       "array([53,  4])"
      ]
     },
     "execution_count": 38,
     "metadata": {},
     "output_type": "execute_result"
    }
   ],
   "source": [
    "np.random.randint(1,100,2)"
   ]
  },
  {
   "cell_type": "code",
   "execution_count": 39,
   "id": "4837ab42",
   "metadata": {},
   "outputs": [
    {
     "data": {
      "text/plain": [
       "2"
      ]
     },
     "execution_count": 39,
     "metadata": {},
     "output_type": "execute_result"
    }
   ],
   "source": [
    "np.random.randint(3)"
   ]
  },
  {
   "cell_type": "code",
   "execution_count": 40,
   "id": "5fadf59c",
   "metadata": {},
   "outputs": [
    {
     "data": {
      "text/plain": [
       "array([35, 26,  6])"
      ]
     },
     "execution_count": 40,
     "metadata": {},
     "output_type": "execute_result"
    }
   ],
   "source": [
    "np.random.randint(3,45,3)"
   ]
  },
  {
   "cell_type": "code",
   "execution_count": 41,
   "id": "3508badf",
   "metadata": {},
   "outputs": [],
   "source": [
    "benimNumpyDizim=np.arange(30)"
   ]
  },
  {
   "cell_type": "code",
   "execution_count": 42,
   "id": "55c8b3e1",
   "metadata": {},
   "outputs": [
    {
     "data": {
      "text/plain": [
       "array([ 0,  1,  2,  3,  4,  5,  6,  7,  8,  9, 10, 11, 12, 13, 14, 15, 16,\n",
       "       17, 18, 19, 20, 21, 22, 23, 24, 25, 26, 27, 28, 29])"
      ]
     },
     "execution_count": 42,
     "metadata": {},
     "output_type": "execute_result"
    }
   ],
   "source": [
    "benimNumpyDizim"
   ]
  },
  {
   "cell_type": "code",
   "execution_count": 43,
   "id": "14679992",
   "metadata": {},
   "outputs": [],
   "source": [
    "matrixNumpyDizim=benimNumpyDizim.reshape(6,5)"
   ]
  },
  {
   "cell_type": "code",
   "execution_count": 44,
   "id": "0b9343b4",
   "metadata": {},
   "outputs": [
    {
     "data": {
      "text/plain": [
       "array([[ 0,  1,  2,  3,  4],\n",
       "       [ 5,  6,  7,  8,  9],\n",
       "       [10, 11, 12, 13, 14],\n",
       "       [15, 16, 17, 18, 19],\n",
       "       [20, 21, 22, 23, 24],\n",
       "       [25, 26, 27, 28, 29]])"
      ]
     },
     "execution_count": 44,
     "metadata": {},
     "output_type": "execute_result"
    }
   ],
   "source": [
    "matrixNumpyDizim"
   ]
  },
  {
   "cell_type": "code",
   "execution_count": 45,
   "id": "445f1ee5",
   "metadata": {},
   "outputs": [
    {
     "data": {
      "text/plain": [
       "array([[ 0,  1,  2,  3,  4,  5],\n",
       "       [ 6,  7,  8,  9, 10, 11],\n",
       "       [12, 13, 14, 15, 16, 17],\n",
       "       [18, 19, 20, 21, 22, 23],\n",
       "       [24, 25, 26, 27, 28, 29]])"
      ]
     },
     "execution_count": 45,
     "metadata": {},
     "output_type": "execute_result"
    }
   ],
   "source": [
    "benimNumpyDizim.reshape(5,6)"
   ]
  },
  {
   "cell_type": "code",
   "execution_count": 46,
   "id": "a70d31f9",
   "metadata": {},
   "outputs": [
    {
     "data": {
      "text/plain": [
       "array([[ 0,  1,  2,  3,  4,  5,  6,  7,  8,  9],\n",
       "       [10, 11, 12, 13, 14, 15, 16, 17, 18, 19],\n",
       "       [20, 21, 22, 23, 24, 25, 26, 27, 28, 29]])"
      ]
     },
     "execution_count": 46,
     "metadata": {},
     "output_type": "execute_result"
    }
   ],
   "source": [
    "benimNumpyDizim.reshape(3,10)"
   ]
  },
  {
   "cell_type": "code",
   "execution_count": 47,
   "id": "69463e70",
   "metadata": {},
   "outputs": [
    {
     "data": {
      "text/plain": [
       "29"
      ]
     },
     "execution_count": 47,
     "metadata": {},
     "output_type": "execute_result"
    }
   ],
   "source": [
    "benimNumpyDizim.max()"
   ]
  },
  {
   "cell_type": "code",
   "execution_count": 48,
   "id": "881165a8",
   "metadata": {},
   "outputs": [
    {
     "data": {
      "text/plain": [
       "0"
      ]
     },
     "execution_count": 48,
     "metadata": {},
     "output_type": "execute_result"
    }
   ],
   "source": [
    "benimNumpyDizim.min()"
   ]
  },
  {
   "cell_type": "code",
   "execution_count": 49,
   "id": "69779c0e",
   "metadata": {},
   "outputs": [
    {
     "data": {
      "text/plain": [
       "29"
      ]
     },
     "execution_count": 49,
     "metadata": {},
     "output_type": "execute_result"
    }
   ],
   "source": [
    "benimNumpyDizim.argmax()"
   ]
  },
  {
   "cell_type": "code",
   "execution_count": 50,
   "id": "a9377e2b",
   "metadata": {},
   "outputs": [
    {
     "data": {
      "text/plain": [
       "0"
      ]
     },
     "execution_count": 50,
     "metadata": {},
     "output_type": "execute_result"
    }
   ],
   "source": [
    "benimNumpyDizim.argmin()"
   ]
  },
  {
   "cell_type": "code",
   "execution_count": 51,
   "id": "ef7cb797",
   "metadata": {},
   "outputs": [
    {
     "data": {
      "text/plain": [
       "(6, 5)"
      ]
     },
     "execution_count": 51,
     "metadata": {},
     "output_type": "execute_result"
    }
   ],
   "source": [
    "matrixNumpyDizim.shape"
   ]
  },
  {
   "cell_type": "code",
   "execution_count": 52,
   "id": "3b40faba",
   "metadata": {},
   "outputs": [
    {
     "data": {
      "text/plain": [
       "array([15, 16, 17, 18, 19])"
      ]
     },
     "execution_count": 52,
     "metadata": {},
     "output_type": "execute_result"
    }
   ],
   "source": [
    "matrixNumpyDizim[3]"
   ]
  },
  {
   "cell_type": "code",
   "execution_count": 53,
   "id": "a7436dd9",
   "metadata": {},
   "outputs": [
    {
     "data": {
      "text/plain": [
       "array([[10, 11, 12, 13, 14],\n",
       "       [15, 16, 17, 18, 19]])"
      ]
     },
     "execution_count": 53,
     "metadata": {},
     "output_type": "execute_result"
    }
   ],
   "source": [
    "matrixNumpyDizim[2:4]"
   ]
  },
  {
   "cell_type": "code",
   "execution_count": 54,
   "id": "7b7a089f",
   "metadata": {},
   "outputs": [],
   "source": [
    "yeniMatrix=matrixNumpyDizim.copy()"
   ]
  },
  {
   "cell_type": "code",
   "execution_count": 55,
   "id": "46e9c80d",
   "metadata": {},
   "outputs": [
    {
     "data": {
      "text/plain": [
       "array([[ 0,  1,  2,  3,  4],\n",
       "       [ 5,  6,  7,  8,  9],\n",
       "       [10, 11, 12, 13, 14],\n",
       "       [15, 16, 17, 18, 19],\n",
       "       [20, 21, 22, 23, 24],\n",
       "       [25, 26, 27, 28, 29]])"
      ]
     },
     "execution_count": 55,
     "metadata": {},
     "output_type": "execute_result"
    }
   ],
   "source": [
    "yeniMatrix"
   ]
  },
  {
   "cell_type": "code",
   "execution_count": 56,
   "id": "a726d4d2",
   "metadata": {},
   "outputs": [],
   "source": [
    "yeniMatrix[3][4]=25"
   ]
  },
  {
   "cell_type": "code",
   "execution_count": 57,
   "id": "62a5cbf0",
   "metadata": {},
   "outputs": [
    {
     "data": {
      "text/plain": [
       "array([[ 0,  1,  2,  3,  4],\n",
       "       [ 5,  6,  7,  8,  9],\n",
       "       [10, 11, 12, 13, 14],\n",
       "       [15, 16, 17, 18, 25],\n",
       "       [20, 21, 22, 23, 24],\n",
       "       [25, 26, 27, 28, 29]])"
      ]
     },
     "execution_count": 57,
     "metadata": {},
     "output_type": "execute_result"
    }
   ],
   "source": [
    "yeniMatrix"
   ]
  },
  {
   "cell_type": "code",
   "execution_count": 58,
   "id": "e4f966b5",
   "metadata": {},
   "outputs": [],
   "source": [
    "yeniMatrix[:]=700"
   ]
  },
  {
   "cell_type": "code",
   "execution_count": 59,
   "id": "300b2999",
   "metadata": {},
   "outputs": [
    {
     "data": {
      "text/plain": [
       "array([[700, 700, 700, 700, 700],\n",
       "       [700, 700, 700, 700, 700],\n",
       "       [700, 700, 700, 700, 700],\n",
       "       [700, 700, 700, 700, 700],\n",
       "       [700, 700, 700, 700, 700],\n",
       "       [700, 700, 700, 700, 700]])"
      ]
     },
     "execution_count": 59,
     "metadata": {},
     "output_type": "execute_result"
    }
   ],
   "source": [
    "yeniMatrix"
   ]
  },
  {
   "cell_type": "code",
   "execution_count": 60,
   "id": "5952976a",
   "metadata": {},
   "outputs": [
    {
     "data": {
      "text/plain": [
       "array([[700, 700, 700, 700, 700],\n",
       "       [700, 700, 700, 700, 700],\n",
       "       [700, 700, 700, 700, 700],\n",
       "       [700, 700, 700, 700, 700],\n",
       "       [700, 700, 700, 700, 700],\n",
       "       [700, 700, 700, 700, 700]])"
      ]
     },
     "execution_count": 60,
     "metadata": {},
     "output_type": "execute_result"
    }
   ],
   "source": [
    "yeniMatrix"
   ]
  },
  {
   "cell_type": "code",
   "execution_count": 61,
   "id": "5f62e349",
   "metadata": {},
   "outputs": [
    {
     "data": {
      "text/plain": [
       "array([[ 0,  1,  2,  3,  4],\n",
       "       [ 5,  6,  7,  8,  9],\n",
       "       [10, 11, 12, 13, 14],\n",
       "       [15, 16, 17, 18, 19],\n",
       "       [20, 21, 22, 23, 24],\n",
       "       [25, 26, 27, 28, 29]])"
      ]
     },
     "execution_count": 61,
     "metadata": {},
     "output_type": "execute_result"
    }
   ],
   "source": [
    "matrixNumpyDizim"
   ]
  },
  {
   "cell_type": "code",
   "execution_count": 62,
   "id": "4fd8f6fa",
   "metadata": {},
   "outputs": [
    {
     "data": {
      "text/plain": [
       "7"
      ]
     },
     "execution_count": 62,
     "metadata": {},
     "output_type": "execute_result"
    }
   ],
   "source": [
    "matrixNumpyDizim[1,2]"
   ]
  },
  {
   "cell_type": "code",
   "execution_count": 63,
   "id": "32f5cb07",
   "metadata": {},
   "outputs": [
    {
     "data": {
      "text/plain": [
       "array([ 7, 12, 17, 22, 27])"
      ]
     },
     "execution_count": 63,
     "metadata": {},
     "output_type": "execute_result"
    }
   ],
   "source": [
    "matrixNumpyDizim[1:,2]"
   ]
  },
  {
   "cell_type": "code",
   "execution_count": 64,
   "id": "b4f1cf90",
   "metadata": {},
   "outputs": [
    {
     "data": {
      "text/plain": [
       "array([[10, 11, 12, 13, 14],\n",
       "       [15, 16, 17, 18, 19]])"
      ]
     },
     "execution_count": 64,
     "metadata": {},
     "output_type": "execute_result"
    }
   ],
   "source": [
    "matrixNumpyDizim[[2,3]]"
   ]
  },
  {
   "cell_type": "code",
   "execution_count": 65,
   "id": "0f52f63e",
   "metadata": {},
   "outputs": [
    {
     "data": {
      "text/plain": [
       "array([[10, 11, 12, 13, 14],\n",
       "       [15, 16, 17, 18, 19]])"
      ]
     },
     "execution_count": 65,
     "metadata": {},
     "output_type": "execute_result"
    }
   ],
   "source": [
    "matrixNumpyDizim[2:4]"
   ]
  },
  {
   "cell_type": "code",
   "execution_count": 66,
   "id": "61303416",
   "metadata": {},
   "outputs": [],
   "source": [
    "yeniDizi=np.random.randint(1,100,20)"
   ]
  },
  {
   "cell_type": "code",
   "execution_count": 67,
   "id": "031ac4dc",
   "metadata": {},
   "outputs": [
    {
     "data": {
      "text/plain": [
       "array([56, 95, 97, 48, 17, 43, 32,  7, 44, 21, 92,  3,  9, 28, 10, 78, 87,\n",
       "       39, 36,  8])"
      ]
     },
     "execution_count": 67,
     "metadata": {},
     "output_type": "execute_result"
    }
   ],
   "source": [
    "yeniDizi"
   ]
  },
  {
   "cell_type": "code",
   "execution_count": 68,
   "id": "38da92a7",
   "metadata": {},
   "outputs": [
    {
     "data": {
      "text/plain": [
       "array([ True,  True,  True,  True, False,  True,  True, False,  True,\n",
       "        True,  True, False, False,  True, False,  True,  True,  True,\n",
       "        True, False])"
      ]
     },
     "execution_count": 68,
     "metadata": {},
     "output_type": "execute_result"
    }
   ],
   "source": [
    "yeniDizi>20"
   ]
  },
  {
   "cell_type": "code",
   "execution_count": 69,
   "id": "a587c2ff",
   "metadata": {},
   "outputs": [],
   "source": [
    "sayı=yeniDizi[yeniDizi>20]"
   ]
  },
  {
   "cell_type": "code",
   "execution_count": 70,
   "id": "1d09f33d",
   "metadata": {},
   "outputs": [
    {
     "data": {
      "text/plain": [
       "14"
      ]
     },
     "execution_count": 70,
     "metadata": {},
     "output_type": "execute_result"
    }
   ],
   "source": [
    "len(sayı)"
   ]
  },
  {
   "cell_type": "code",
   "execution_count": 71,
   "id": "ebf1ee5a",
   "metadata": {},
   "outputs": [
    {
     "data": {
      "text/plain": [
       "array([56, 95, 97, 48, 43, 32, 44, 21, 92, 28, 78, 87, 39, 36])"
      ]
     },
     "execution_count": 71,
     "metadata": {},
     "output_type": "execute_result"
    }
   ],
   "source": [
    "sayı"
   ]
  },
  {
   "cell_type": "code",
   "execution_count": 72,
   "id": "4209a48b",
   "metadata": {},
   "outputs": [],
   "source": [
    "yeniDizi2=np.random.randint(1,50,20)"
   ]
  },
  {
   "cell_type": "code",
   "execution_count": 73,
   "id": "a7eaed38",
   "metadata": {},
   "outputs": [],
   "source": [
    "toplamSonuc=yeniDizi+yeniDizi2"
   ]
  },
  {
   "cell_type": "code",
   "execution_count": 74,
   "id": "fc465a50",
   "metadata": {},
   "outputs": [
    {
     "data": {
      "text/plain": [
       "array([ 1, 22, 23, 30, 34, 23, 28, 26, 47, 17, 23, 28, 32, 25, 43,  8, 12,\n",
       "        7, 20, 49])"
      ]
     },
     "execution_count": 74,
     "metadata": {},
     "output_type": "execute_result"
    }
   ],
   "source": [
    "yeniDizi2"
   ]
  },
  {
   "cell_type": "code",
   "execution_count": 75,
   "id": "f97e7052",
   "metadata": {},
   "outputs": [
    {
     "data": {
      "text/plain": [
       "array([ 57, 117, 120,  78,  51,  66,  60,  33,  91,  38, 115,  31,  41,\n",
       "        53,  53,  86,  99,  46,  56,  57])"
      ]
     },
     "execution_count": 75,
     "metadata": {},
     "output_type": "execute_result"
    }
   ],
   "source": [
    "toplamSonuc"
   ]
  },
  {
   "cell_type": "code",
   "execution_count": 76,
   "id": "65c64d2d",
   "metadata": {},
   "outputs": [],
   "source": [
    "sonucCarpma=yeniDizi*yeniDizi2"
   ]
  },
  {
   "cell_type": "code",
   "execution_count": 77,
   "id": "49ad867d",
   "metadata": {},
   "outputs": [
    {
     "data": {
      "text/plain": [
       "array([  56, 2090, 2231, 1440,  578,  989,  896,  182, 2068,  357, 2116,\n",
       "         84,  288,  700,  430,  624, 1044,  273,  720,  392])"
      ]
     },
     "execution_count": 77,
     "metadata": {},
     "output_type": "execute_result"
    }
   ],
   "source": [
    "sonucCarpma"
   ]
  },
  {
   "cell_type": "code",
   "execution_count": 78,
   "id": "bc334941",
   "metadata": {},
   "outputs": [],
   "source": [
    "sonucCikarma=yeniDizi-yeniDizi2"
   ]
  },
  {
   "cell_type": "code",
   "execution_count": 79,
   "id": "71bd4327",
   "metadata": {},
   "outputs": [
    {
     "data": {
      "text/plain": [
       "array([ 55,  73,  74,  18, -17,  20,   4, -19,  -3,   4,  69, -25, -23,\n",
       "         3, -33,  70,  75,  32,  16, -41])"
      ]
     },
     "execution_count": 79,
     "metadata": {},
     "output_type": "execute_result"
    }
   ],
   "source": [
    "sonucCikarma"
   ]
  },
  {
   "cell_type": "code",
   "execution_count": 80,
   "id": "83feb052",
   "metadata": {},
   "outputs": [],
   "source": [
    "sonucBolme=yeniDizi/yeniDizi2"
   ]
  },
  {
   "cell_type": "code",
   "execution_count": 81,
   "id": "cdffa3df",
   "metadata": {},
   "outputs": [
    {
     "data": {
      "text/plain": [
       "array([56.        ,  4.31818182,  4.2173913 ,  1.6       ,  0.5       ,\n",
       "        1.86956522,  1.14285714,  0.26923077,  0.93617021,  1.23529412,\n",
       "        4.        ,  0.10714286,  0.28125   ,  1.12      ,  0.23255814,\n",
       "        9.75      ,  7.25      ,  5.57142857,  1.8       ,  0.16326531])"
      ]
     },
     "execution_count": 81,
     "metadata": {},
     "output_type": "execute_result"
    }
   ],
   "source": [
    "sonucBolme"
   ]
  },
  {
   "cell_type": "code",
   "execution_count": 82,
   "id": "31c24ac4",
   "metadata": {},
   "outputs": [],
   "source": [
    "liste1=[1,2]\n",
    "liste2=[3,4]"
   ]
  },
  {
   "cell_type": "code",
   "execution_count": 83,
   "id": "19523161",
   "metadata": {},
   "outputs": [],
   "source": [
    "toplam=liste1+liste2"
   ]
  },
  {
   "cell_type": "code",
   "execution_count": 84,
   "id": "2c7a809c",
   "metadata": {},
   "outputs": [
    {
     "data": {
      "text/plain": [
       "[1, 2, 3, 4]"
      ]
     },
     "execution_count": 84,
     "metadata": {},
     "output_type": "execute_result"
    }
   ],
   "source": [
    "toplam"
   ]
  },
  {
   "cell_type": "code",
   "execution_count": 85,
   "id": "cfb0cdaa",
   "metadata": {},
   "outputs": [
    {
     "data": {
      "text/plain": [
       "2.0"
      ]
     },
     "execution_count": 85,
     "metadata": {},
     "output_type": "execute_result"
    }
   ],
   "source": [
    "np.sqrt(4)"
   ]
  },
  {
   "cell_type": "code",
   "execution_count": null,
   "id": "f993cb4e",
   "metadata": {},
   "outputs": [],
   "source": []
  },
  {
   "cell_type": "markdown",
   "id": "40812a6e",
   "metadata": {},
   "source": [
    "## Pandas Tekrarı"
   ]
  },
  {
   "cell_type": "code",
   "execution_count": 86,
   "id": "e9167bbb",
   "metadata": {},
   "outputs": [],
   "source": [
    "sozluk={\"İsim\":[\"Ali\",\"mehmet\",\"Canan\",\"Zeynep\"],\"Yaş\":[25,28,36.45]}"
   ]
  },
  {
   "cell_type": "code",
   "execution_count": 87,
   "id": "f1c5a43f",
   "metadata": {},
   "outputs": [
    {
     "data": {
      "text/plain": [
       "{'İsim': ['Ali', 'mehmet', 'Canan', 'Zeynep'], 'Yaş': [25, 28, 36.45]}"
      ]
     },
     "execution_count": 87,
     "metadata": {},
     "output_type": "execute_result"
    }
   ],
   "source": [
    "sozluk\n"
   ]
  },
  {
   "cell_type": "code",
   "execution_count": 88,
   "id": "012e24c7",
   "metadata": {},
   "outputs": [],
   "source": [
    "import pandas as pd"
   ]
  },
  {
   "cell_type": "code",
   "execution_count": 89,
   "id": "e194234b",
   "metadata": {},
   "outputs": [
    {
     "data": {
      "text/plain": [
       "İsim    [Ali, mehmet, Canan, Zeynep]\n",
       "Yaş                  [25, 28, 36.45]\n",
       "dtype: object"
      ]
     },
     "execution_count": 89,
     "metadata": {},
     "output_type": "execute_result"
    }
   ],
   "source": [
    "pd.Series(sozluk)"
   ]
  },
  {
   "cell_type": "code",
   "execution_count": 90,
   "id": "238b9fc7",
   "metadata": {},
   "outputs": [],
   "source": [
    "adlar=[\"Ali\",\"Ahmet\",\"Mehmet\",\"Zeynep\"]\n",
    "yaslar=[21,34,25,27]"
   ]
  },
  {
   "cell_type": "code",
   "execution_count": 91,
   "id": "5c76cae0",
   "metadata": {},
   "outputs": [
    {
     "data": {
      "text/plain": [
       "Ali       21\n",
       "Ahmet     34\n",
       "Mehmet    25\n",
       "Zeynep    27\n",
       "dtype: int64"
      ]
     },
     "execution_count": 91,
     "metadata": {},
     "output_type": "execute_result"
    }
   ],
   "source": [
    "pd.Series(yaslar,adlar)"
   ]
  },
  {
   "cell_type": "code",
   "execution_count": 92,
   "id": "f2bd80b8",
   "metadata": {},
   "outputs": [],
   "source": [
    "puanlar1=pd.Series([10,20,30],[\"Ali\",\"Ayşe\",\"Fatma\"])"
   ]
  },
  {
   "cell_type": "code",
   "execution_count": 93,
   "id": "14c37b89",
   "metadata": {},
   "outputs": [],
   "source": [
    "puanlar2=pd.Series([20,45,50],[\"Ali\",\"Ayşe\",\"Fatma\"])"
   ]
  },
  {
   "cell_type": "code",
   "execution_count": 94,
   "id": "33b69081",
   "metadata": {},
   "outputs": [],
   "source": [
    "sonuc=puanlar1+puanlar2"
   ]
  },
  {
   "cell_type": "code",
   "execution_count": 95,
   "id": "09972b9a",
   "metadata": {},
   "outputs": [
    {
     "data": {
      "text/plain": [
       "Ali      30\n",
       "Ayşe     65\n",
       "Fatma    80\n",
       "dtype: int64"
      ]
     },
     "execution_count": 95,
     "metadata": {},
     "output_type": "execute_result"
    }
   ],
   "source": [
    "sonuc"
   ]
  },
  {
   "cell_type": "code",
   "execution_count": 96,
   "id": "b8ad0a9d",
   "metadata": {},
   "outputs": [],
   "source": [
    "kalori1=pd.Series([100,200,50],[\"yumurta\",\"peynir\",\"domates\"])\n",
    "kalori2=pd.Series([100,400,50],[\"yumurta\",\"peynir\",\"domates\"])"
   ]
  },
  {
   "cell_type": "code",
   "execution_count": 97,
   "id": "69990f4f",
   "metadata": {},
   "outputs": [],
   "source": [
    "gunSonu=kalori1+kalori2"
   ]
  },
  {
   "cell_type": "code",
   "execution_count": 98,
   "id": "1ce6a348",
   "metadata": {},
   "outputs": [
    {
     "data": {
      "text/plain": [
       "yumurta    200\n",
       "peynir     600\n",
       "domates    100\n",
       "dtype: int64"
      ]
     },
     "execution_count": 98,
     "metadata": {},
     "output_type": "execute_result"
    }
   ],
   "source": [
    "gunSonu"
   ]
  },
  {
   "cell_type": "code",
   "execution_count": 99,
   "id": "16c48d5d",
   "metadata": {},
   "outputs": [],
   "source": [
    "kumeDataFrame=np.random.randn(4,4)"
   ]
  },
  {
   "cell_type": "code",
   "execution_count": 100,
   "id": "c39acd84",
   "metadata": {},
   "outputs": [
    {
     "data": {
      "text/plain": [
       "array([[ 0.32069959,  1.24989015, -0.80641142,  1.41717282],\n",
       "       [ 0.6312091 , -0.96965876,  0.4424149 , -1.14247061],\n",
       "       [-0.54888656, -0.62259607, -1.2444694 , -0.83349272],\n",
       "       [-1.03567387,  1.94973493, -0.03310222, -0.88493781]])"
      ]
     },
     "execution_count": 100,
     "metadata": {},
     "output_type": "execute_result"
    }
   ],
   "source": [
    "kumeDataFrame"
   ]
  },
  {
   "cell_type": "code",
   "execution_count": 101,
   "id": "ae4265ca",
   "metadata": {},
   "outputs": [],
   "source": [
    "yeniDataFrame=pd.DataFrame(kumeDataFrame,index=[\"1.satır\",\"2.satır\",\"3.satır\",\"4.satır\"],columns=[\"1.kolon\",\"2.kolon\",\"3.kolon\",\"4.kolon\"])"
   ]
  },
  {
   "cell_type": "code",
   "execution_count": 102,
   "id": "df851991",
   "metadata": {},
   "outputs": [
    {
     "data": {
      "text/html": [
       "<div>\n",
       "<style scoped>\n",
       "    .dataframe tbody tr th:only-of-type {\n",
       "        vertical-align: middle;\n",
       "    }\n",
       "\n",
       "    .dataframe tbody tr th {\n",
       "        vertical-align: top;\n",
       "    }\n",
       "\n",
       "    .dataframe thead th {\n",
       "        text-align: right;\n",
       "    }\n",
       "</style>\n",
       "<table border=\"1\" class=\"dataframe\">\n",
       "  <thead>\n",
       "    <tr style=\"text-align: right;\">\n",
       "      <th></th>\n",
       "      <th>1.kolon</th>\n",
       "      <th>2.kolon</th>\n",
       "      <th>3.kolon</th>\n",
       "      <th>4.kolon</th>\n",
       "    </tr>\n",
       "  </thead>\n",
       "  <tbody>\n",
       "    <tr>\n",
       "      <th>1.satır</th>\n",
       "      <td>0.320700</td>\n",
       "      <td>1.249890</td>\n",
       "      <td>-0.806411</td>\n",
       "      <td>1.417173</td>\n",
       "    </tr>\n",
       "    <tr>\n",
       "      <th>2.satır</th>\n",
       "      <td>0.631209</td>\n",
       "      <td>-0.969659</td>\n",
       "      <td>0.442415</td>\n",
       "      <td>-1.142471</td>\n",
       "    </tr>\n",
       "    <tr>\n",
       "      <th>3.satır</th>\n",
       "      <td>-0.548887</td>\n",
       "      <td>-0.622596</td>\n",
       "      <td>-1.244469</td>\n",
       "      <td>-0.833493</td>\n",
       "    </tr>\n",
       "    <tr>\n",
       "      <th>4.satır</th>\n",
       "      <td>-1.035674</td>\n",
       "      <td>1.949735</td>\n",
       "      <td>-0.033102</td>\n",
       "      <td>-0.884938</td>\n",
       "    </tr>\n",
       "  </tbody>\n",
       "</table>\n",
       "</div>"
      ],
      "text/plain": [
       "          1.kolon   2.kolon   3.kolon   4.kolon\n",
       "1.satır  0.320700  1.249890 -0.806411  1.417173\n",
       "2.satır  0.631209 -0.969659  0.442415 -1.142471\n",
       "3.satır -0.548887 -0.622596 -1.244469 -0.833493\n",
       "4.satır -1.035674  1.949735 -0.033102 -0.884938"
      ]
     },
     "execution_count": 102,
     "metadata": {},
     "output_type": "execute_result"
    }
   ],
   "source": [
    "yeniDataFrame"
   ]
  },
  {
   "cell_type": "code",
   "execution_count": 103,
   "id": "38958b69",
   "metadata": {},
   "outputs": [
    {
     "data": {
      "text/plain": [
       "1.satır    0.320700\n",
       "2.satır    0.631209\n",
       "3.satır   -0.548887\n",
       "4.satır   -1.035674\n",
       "Name: 1.kolon, dtype: float64"
      ]
     },
     "execution_count": 103,
     "metadata": {},
     "output_type": "execute_result"
    }
   ],
   "source": [
    "yeniDataFrame[\"1.kolon\"]"
   ]
  },
  {
   "cell_type": "code",
   "execution_count": 104,
   "id": "9ad202d2",
   "metadata": {},
   "outputs": [
    {
     "data": {
      "text/plain": [
       "1.satır    1.249890\n",
       "2.satır   -0.969659\n",
       "3.satır   -0.622596\n",
       "4.satır    1.949735\n",
       "Name: 2.kolon, dtype: float64"
      ]
     },
     "execution_count": 104,
     "metadata": {},
     "output_type": "execute_result"
    }
   ],
   "source": [
    "yeniDataFrame[\"2.kolon\"]"
   ]
  },
  {
   "cell_type": "code",
   "execution_count": 105,
   "id": "60430cd4",
   "metadata": {},
   "outputs": [
    {
     "data": {
      "text/plain": [
       "1.satır   -0.806411\n",
       "2.satır    0.442415\n",
       "3.satır   -1.244469\n",
       "4.satır   -0.033102\n",
       "Name: 3.kolon, dtype: float64"
      ]
     },
     "execution_count": 105,
     "metadata": {},
     "output_type": "execute_result"
    }
   ],
   "source": [
    "yeniDataFrame[\"3.kolon\"]"
   ]
  },
  {
   "cell_type": "code",
   "execution_count": 106,
   "id": "313e2ed0",
   "metadata": {},
   "outputs": [
    {
     "data": {
      "text/plain": [
       "1.satır    1.417173\n",
       "2.satır   -1.142471\n",
       "3.satır   -0.833493\n",
       "4.satır   -0.884938\n",
       "Name: 4.kolon, dtype: float64"
      ]
     },
     "execution_count": 106,
     "metadata": {},
     "output_type": "execute_result"
    }
   ],
   "source": [
    "yeniDataFrame[\"4.kolon\"]"
   ]
  },
  {
   "cell_type": "code",
   "execution_count": 107,
   "id": "cfd383bc",
   "metadata": {},
   "outputs": [
    {
     "data": {
      "text/plain": [
       "1.kolon    0.320700\n",
       "2.kolon    1.249890\n",
       "3.kolon   -0.806411\n",
       "4.kolon    1.417173\n",
       "Name: 1.satır, dtype: float64"
      ]
     },
     "execution_count": 107,
     "metadata": {},
     "output_type": "execute_result"
    }
   ],
   "source": [
    "yeniDataFrame.loc[\"1.satır\"]"
   ]
  },
  {
   "cell_type": "code",
   "execution_count": 108,
   "id": "b4e8b3fd",
   "metadata": {},
   "outputs": [
    {
     "data": {
      "text/plain": [
       "1.kolon    0.631209\n",
       "2.kolon   -0.969659\n",
       "3.kolon    0.442415\n",
       "4.kolon   -1.142471\n",
       "Name: 2.satır, dtype: float64"
      ]
     },
     "execution_count": 108,
     "metadata": {},
     "output_type": "execute_result"
    }
   ],
   "source": [
    "yeniDataFrame.loc[\"2.satır\"]"
   ]
  },
  {
   "cell_type": "markdown",
   "id": "eda5618b",
   "metadata": {},
   "source": [
    "#"
   ]
  },
  {
   "cell_type": "code",
   "execution_count": 111,
   "id": "7cb8baf4",
   "metadata": {},
   "outputs": [
    {
     "data": {
      "text/html": [
       "<div>\n",
       "<style scoped>\n",
       "    .dataframe tbody tr th:only-of-type {\n",
       "        vertical-align: middle;\n",
       "    }\n",
       "\n",
       "    .dataframe tbody tr th {\n",
       "        vertical-align: top;\n",
       "    }\n",
       "\n",
       "    .dataframe thead th {\n",
       "        text-align: right;\n",
       "    }\n",
       "</style>\n",
       "<table border=\"1\" class=\"dataframe\">\n",
       "  <thead>\n",
       "    <tr style=\"text-align: right;\">\n",
       "      <th></th>\n",
       "      <th>1.kolon</th>\n",
       "      <th>2.kolon</th>\n",
       "      <th>3.kolon</th>\n",
       "    </tr>\n",
       "  </thead>\n",
       "  <tbody>\n",
       "    <tr>\n",
       "      <th>1.satır</th>\n",
       "      <td>0.320700</td>\n",
       "      <td>1.249890</td>\n",
       "      <td>-0.806411</td>\n",
       "    </tr>\n",
       "    <tr>\n",
       "      <th>2.satır</th>\n",
       "      <td>0.631209</td>\n",
       "      <td>-0.969659</td>\n",
       "      <td>0.442415</td>\n",
       "    </tr>\n",
       "    <tr>\n",
       "      <th>3.satır</th>\n",
       "      <td>-0.548887</td>\n",
       "      <td>-0.622596</td>\n",
       "      <td>-1.244469</td>\n",
       "    </tr>\n",
       "    <tr>\n",
       "      <th>4.satır</th>\n",
       "      <td>-1.035674</td>\n",
       "      <td>1.949735</td>\n",
       "      <td>-0.033102</td>\n",
       "    </tr>\n",
       "  </tbody>\n",
       "</table>\n",
       "</div>"
      ],
      "text/plain": [
       "          1.kolon   2.kolon   3.kolon\n",
       "1.satır  0.320700  1.249890 -0.806411\n",
       "2.satır  0.631209 -0.969659  0.442415\n",
       "3.satır -0.548887 -0.622596 -1.244469\n",
       "4.satır -1.035674  1.949735 -0.033102"
      ]
     },
     "execution_count": 111,
     "metadata": {},
     "output_type": "execute_result"
    }
   ],
   "source": [
    "yeniDataFrame.drop(\"4.kolon\",axis=1)"
   ]
  },
  {
   "cell_type": "code",
   "execution_count": 112,
   "id": "cf8d3e61",
   "metadata": {},
   "outputs": [
    {
     "data": {
      "text/html": [
       "<div>\n",
       "<style scoped>\n",
       "    .dataframe tbody tr th:only-of-type {\n",
       "        vertical-align: middle;\n",
       "    }\n",
       "\n",
       "    .dataframe tbody tr th {\n",
       "        vertical-align: top;\n",
       "    }\n",
       "\n",
       "    .dataframe thead th {\n",
       "        text-align: right;\n",
       "    }\n",
       "</style>\n",
       "<table border=\"1\" class=\"dataframe\">\n",
       "  <thead>\n",
       "    <tr style=\"text-align: right;\">\n",
       "      <th></th>\n",
       "      <th>1.kolon</th>\n",
       "      <th>2.kolon</th>\n",
       "      <th>3.kolon</th>\n",
       "      <th>4.kolon</th>\n",
       "    </tr>\n",
       "  </thead>\n",
       "  <tbody>\n",
       "    <tr>\n",
       "      <th>1.satır</th>\n",
       "      <td>0.320700</td>\n",
       "      <td>1.249890</td>\n",
       "      <td>-0.806411</td>\n",
       "      <td>1.417173</td>\n",
       "    </tr>\n",
       "    <tr>\n",
       "      <th>2.satır</th>\n",
       "      <td>0.631209</td>\n",
       "      <td>-0.969659</td>\n",
       "      <td>0.442415</td>\n",
       "      <td>-1.142471</td>\n",
       "    </tr>\n",
       "    <tr>\n",
       "      <th>3.satır</th>\n",
       "      <td>-0.548887</td>\n",
       "      <td>-0.622596</td>\n",
       "      <td>-1.244469</td>\n",
       "      <td>-0.833493</td>\n",
       "    </tr>\n",
       "    <tr>\n",
       "      <th>4.satır</th>\n",
       "      <td>-1.035674</td>\n",
       "      <td>1.949735</td>\n",
       "      <td>-0.033102</td>\n",
       "      <td>-0.884938</td>\n",
       "    </tr>\n",
       "  </tbody>\n",
       "</table>\n",
       "</div>"
      ],
      "text/plain": [
       "          1.kolon   2.kolon   3.kolon   4.kolon\n",
       "1.satır  0.320700  1.249890 -0.806411  1.417173\n",
       "2.satır  0.631209 -0.969659  0.442415 -1.142471\n",
       "3.satır -0.548887 -0.622596 -1.244469 -0.833493\n",
       "4.satır -1.035674  1.949735 -0.033102 -0.884938"
      ]
     },
     "execution_count": 112,
     "metadata": {},
     "output_type": "execute_result"
    }
   ],
   "source": [
    "yeniDataFrame"
   ]
  },
  {
   "cell_type": "code",
   "execution_count": 113,
   "id": "bfaef51b",
   "metadata": {},
   "outputs": [
    {
     "data": {
      "text/html": [
       "<div>\n",
       "<style scoped>\n",
       "    .dataframe tbody tr th:only-of-type {\n",
       "        vertical-align: middle;\n",
       "    }\n",
       "\n",
       "    .dataframe tbody tr th {\n",
       "        vertical-align: top;\n",
       "    }\n",
       "\n",
       "    .dataframe thead th {\n",
       "        text-align: right;\n",
       "    }\n",
       "</style>\n",
       "<table border=\"1\" class=\"dataframe\">\n",
       "  <thead>\n",
       "    <tr style=\"text-align: right;\">\n",
       "      <th></th>\n",
       "      <th>1.kolon</th>\n",
       "      <th>2.kolon</th>\n",
       "      <th>4.kolon</th>\n",
       "    </tr>\n",
       "  </thead>\n",
       "  <tbody>\n",
       "    <tr>\n",
       "      <th>1.satır</th>\n",
       "      <td>0.320700</td>\n",
       "      <td>1.249890</td>\n",
       "      <td>1.417173</td>\n",
       "    </tr>\n",
       "    <tr>\n",
       "      <th>2.satır</th>\n",
       "      <td>0.631209</td>\n",
       "      <td>-0.969659</td>\n",
       "      <td>-1.142471</td>\n",
       "    </tr>\n",
       "    <tr>\n",
       "      <th>3.satır</th>\n",
       "      <td>-0.548887</td>\n",
       "      <td>-0.622596</td>\n",
       "      <td>-0.833493</td>\n",
       "    </tr>\n",
       "    <tr>\n",
       "      <th>4.satır</th>\n",
       "      <td>-1.035674</td>\n",
       "      <td>1.949735</td>\n",
       "      <td>-0.884938</td>\n",
       "    </tr>\n",
       "  </tbody>\n",
       "</table>\n",
       "</div>"
      ],
      "text/plain": [
       "          1.kolon   2.kolon   4.kolon\n",
       "1.satır  0.320700  1.249890  1.417173\n",
       "2.satır  0.631209 -0.969659 -1.142471\n",
       "3.satır -0.548887 -0.622596 -0.833493\n",
       "4.satır -1.035674  1.949735 -0.884938"
      ]
     },
     "execution_count": 113,
     "metadata": {},
     "output_type": "execute_result"
    }
   ],
   "source": [
    "yeniDataFrame.drop(\"3.kolon\",axis=1)"
   ]
  },
  {
   "cell_type": "code",
   "execution_count": 114,
   "id": "406ffaf0",
   "metadata": {},
   "outputs": [
    {
     "data": {
      "text/html": [
       "<div>\n",
       "<style scoped>\n",
       "    .dataframe tbody tr th:only-of-type {\n",
       "        vertical-align: middle;\n",
       "    }\n",
       "\n",
       "    .dataframe tbody tr th {\n",
       "        vertical-align: top;\n",
       "    }\n",
       "\n",
       "    .dataframe thead th {\n",
       "        text-align: right;\n",
       "    }\n",
       "</style>\n",
       "<table border=\"1\" class=\"dataframe\">\n",
       "  <thead>\n",
       "    <tr style=\"text-align: right;\">\n",
       "      <th></th>\n",
       "      <th>1.kolon</th>\n",
       "      <th>2.kolon</th>\n",
       "      <th>3.kolon</th>\n",
       "      <th>4.kolon</th>\n",
       "    </tr>\n",
       "  </thead>\n",
       "  <tbody>\n",
       "    <tr>\n",
       "      <th>1.satır</th>\n",
       "      <td>0.320700</td>\n",
       "      <td>1.249890</td>\n",
       "      <td>-0.806411</td>\n",
       "      <td>1.417173</td>\n",
       "    </tr>\n",
       "    <tr>\n",
       "      <th>2.satır</th>\n",
       "      <td>0.631209</td>\n",
       "      <td>-0.969659</td>\n",
       "      <td>0.442415</td>\n",
       "      <td>-1.142471</td>\n",
       "    </tr>\n",
       "    <tr>\n",
       "      <th>3.satır</th>\n",
       "      <td>-0.548887</td>\n",
       "      <td>-0.622596</td>\n",
       "      <td>-1.244469</td>\n",
       "      <td>-0.833493</td>\n",
       "    </tr>\n",
       "    <tr>\n",
       "      <th>4.satır</th>\n",
       "      <td>-1.035674</td>\n",
       "      <td>1.949735</td>\n",
       "      <td>-0.033102</td>\n",
       "      <td>-0.884938</td>\n",
       "    </tr>\n",
       "  </tbody>\n",
       "</table>\n",
       "</div>"
      ],
      "text/plain": [
       "          1.kolon   2.kolon   3.kolon   4.kolon\n",
       "1.satır  0.320700  1.249890 -0.806411  1.417173\n",
       "2.satır  0.631209 -0.969659  0.442415 -1.142471\n",
       "3.satır -0.548887 -0.622596 -1.244469 -0.833493\n",
       "4.satır -1.035674  1.949735 -0.033102 -0.884938"
      ]
     },
     "execution_count": 114,
     "metadata": {},
     "output_type": "execute_result"
    }
   ],
   "source": [
    "yeniDataFrame"
   ]
  },
  {
   "cell_type": "code",
   "execution_count": 116,
   "id": "b6dd9b14",
   "metadata": {},
   "outputs": [
    {
     "data": {
      "text/html": [
       "<div>\n",
       "<style scoped>\n",
       "    .dataframe tbody tr th:only-of-type {\n",
       "        vertical-align: middle;\n",
       "    }\n",
       "\n",
       "    .dataframe tbody tr th {\n",
       "        vertical-align: top;\n",
       "    }\n",
       "\n",
       "    .dataframe thead th {\n",
       "        text-align: right;\n",
       "    }\n",
       "</style>\n",
       "<table border=\"1\" class=\"dataframe\">\n",
       "  <thead>\n",
       "    <tr style=\"text-align: right;\">\n",
       "      <th></th>\n",
       "      <th>1.kolon</th>\n",
       "      <th>2.kolon</th>\n",
       "      <th>3.kolon</th>\n",
       "      <th>4.kolon</th>\n",
       "    </tr>\n",
       "  </thead>\n",
       "  <tbody>\n",
       "    <tr>\n",
       "      <th>1.satır</th>\n",
       "      <td>0.320700</td>\n",
       "      <td>1.249890</td>\n",
       "      <td>-0.806411</td>\n",
       "      <td>1.417173</td>\n",
       "    </tr>\n",
       "    <tr>\n",
       "      <th>2.satır</th>\n",
       "      <td>0.631209</td>\n",
       "      <td>-0.969659</td>\n",
       "      <td>0.442415</td>\n",
       "      <td>-1.142471</td>\n",
       "    </tr>\n",
       "    <tr>\n",
       "      <th>4.satır</th>\n",
       "      <td>-1.035674</td>\n",
       "      <td>1.949735</td>\n",
       "      <td>-0.033102</td>\n",
       "      <td>-0.884938</td>\n",
       "    </tr>\n",
       "  </tbody>\n",
       "</table>\n",
       "</div>"
      ],
      "text/plain": [
       "          1.kolon   2.kolon   3.kolon   4.kolon\n",
       "1.satır  0.320700  1.249890 -0.806411  1.417173\n",
       "2.satır  0.631209 -0.969659  0.442415 -1.142471\n",
       "4.satır -1.035674  1.949735 -0.033102 -0.884938"
      ]
     },
     "execution_count": 116,
     "metadata": {},
     "output_type": "execute_result"
    }
   ],
   "source": [
    "yeniDataFrame.drop(\"3.satır\",axis=0)"
   ]
  },
  {
   "cell_type": "code",
   "execution_count": 117,
   "id": "d5c98401",
   "metadata": {},
   "outputs": [
    {
     "data": {
      "text/html": [
       "<div>\n",
       "<style scoped>\n",
       "    .dataframe tbody tr th:only-of-type {\n",
       "        vertical-align: middle;\n",
       "    }\n",
       "\n",
       "    .dataframe tbody tr th {\n",
       "        vertical-align: top;\n",
       "    }\n",
       "\n",
       "    .dataframe thead th {\n",
       "        text-align: right;\n",
       "    }\n",
       "</style>\n",
       "<table border=\"1\" class=\"dataframe\">\n",
       "  <thead>\n",
       "    <tr style=\"text-align: right;\">\n",
       "      <th></th>\n",
       "      <th>1.kolon</th>\n",
       "      <th>2.kolon</th>\n",
       "      <th>3.kolon</th>\n",
       "      <th>4.kolon</th>\n",
       "    </tr>\n",
       "  </thead>\n",
       "  <tbody>\n",
       "    <tr>\n",
       "      <th>1.satır</th>\n",
       "      <td>0.320700</td>\n",
       "      <td>1.249890</td>\n",
       "      <td>-0.806411</td>\n",
       "      <td>1.417173</td>\n",
       "    </tr>\n",
       "    <tr>\n",
       "      <th>2.satır</th>\n",
       "      <td>0.631209</td>\n",
       "      <td>-0.969659</td>\n",
       "      <td>0.442415</td>\n",
       "      <td>-1.142471</td>\n",
       "    </tr>\n",
       "    <tr>\n",
       "      <th>3.satır</th>\n",
       "      <td>-0.548887</td>\n",
       "      <td>-0.622596</td>\n",
       "      <td>-1.244469</td>\n",
       "      <td>-0.833493</td>\n",
       "    </tr>\n",
       "    <tr>\n",
       "      <th>4.satır</th>\n",
       "      <td>-1.035674</td>\n",
       "      <td>1.949735</td>\n",
       "      <td>-0.033102</td>\n",
       "      <td>-0.884938</td>\n",
       "    </tr>\n",
       "  </tbody>\n",
       "</table>\n",
       "</div>"
      ],
      "text/plain": [
       "          1.kolon   2.kolon   3.kolon   4.kolon\n",
       "1.satır  0.320700  1.249890 -0.806411  1.417173\n",
       "2.satır  0.631209 -0.969659  0.442415 -1.142471\n",
       "3.satır -0.548887 -0.622596 -1.244469 -0.833493\n",
       "4.satır -1.035674  1.949735 -0.033102 -0.884938"
      ]
     },
     "execution_count": 117,
     "metadata": {},
     "output_type": "execute_result"
    }
   ],
   "source": [
    "yeniDataFrame"
   ]
  },
  {
   "cell_type": "code",
   "execution_count": 118,
   "id": "e0e07865",
   "metadata": {},
   "outputs": [],
   "source": [
    "yepYeniDataFrame=yeniDataFrame.copy()"
   ]
  },
  {
   "cell_type": "code",
   "execution_count": 119,
   "id": "1a31ef54",
   "metadata": {},
   "outputs": [],
   "source": [
    "yepYeniDataFrame.drop(\"4.kolon\",axis=1,inplace=True)"
   ]
  },
  {
   "cell_type": "code",
   "execution_count": 120,
   "id": "57627b01",
   "metadata": {},
   "outputs": [
    {
     "data": {
      "text/html": [
       "<div>\n",
       "<style scoped>\n",
       "    .dataframe tbody tr th:only-of-type {\n",
       "        vertical-align: middle;\n",
       "    }\n",
       "\n",
       "    .dataframe tbody tr th {\n",
       "        vertical-align: top;\n",
       "    }\n",
       "\n",
       "    .dataframe thead th {\n",
       "        text-align: right;\n",
       "    }\n",
       "</style>\n",
       "<table border=\"1\" class=\"dataframe\">\n",
       "  <thead>\n",
       "    <tr style=\"text-align: right;\">\n",
       "      <th></th>\n",
       "      <th>1.kolon</th>\n",
       "      <th>2.kolon</th>\n",
       "      <th>3.kolon</th>\n",
       "    </tr>\n",
       "  </thead>\n",
       "  <tbody>\n",
       "    <tr>\n",
       "      <th>1.satır</th>\n",
       "      <td>0.320700</td>\n",
       "      <td>1.249890</td>\n",
       "      <td>-0.806411</td>\n",
       "    </tr>\n",
       "    <tr>\n",
       "      <th>2.satır</th>\n",
       "      <td>0.631209</td>\n",
       "      <td>-0.969659</td>\n",
       "      <td>0.442415</td>\n",
       "    </tr>\n",
       "    <tr>\n",
       "      <th>3.satır</th>\n",
       "      <td>-0.548887</td>\n",
       "      <td>-0.622596</td>\n",
       "      <td>-1.244469</td>\n",
       "    </tr>\n",
       "    <tr>\n",
       "      <th>4.satır</th>\n",
       "      <td>-1.035674</td>\n",
       "      <td>1.949735</td>\n",
       "      <td>-0.033102</td>\n",
       "    </tr>\n",
       "  </tbody>\n",
       "</table>\n",
       "</div>"
      ],
      "text/plain": [
       "          1.kolon   2.kolon   3.kolon\n",
       "1.satır  0.320700  1.249890 -0.806411\n",
       "2.satır  0.631209 -0.969659  0.442415\n",
       "3.satır -0.548887 -0.622596 -1.244469\n",
       "4.satır -1.035674  1.949735 -0.033102"
      ]
     },
     "execution_count": 120,
     "metadata": {},
     "output_type": "execute_result"
    }
   ],
   "source": [
    "yepYeniDataFrame"
   ]
  },
  {
   "cell_type": "code",
   "execution_count": 121,
   "id": "e2c2d81b",
   "metadata": {},
   "outputs": [],
   "source": [
    "yepYeniDataFrame.drop(\"4.satır\",axis=0,inplace=True)"
   ]
  },
  {
   "cell_type": "code",
   "execution_count": 122,
   "id": "c82c411a",
   "metadata": {},
   "outputs": [
    {
     "data": {
      "text/html": [
       "<div>\n",
       "<style scoped>\n",
       "    .dataframe tbody tr th:only-of-type {\n",
       "        vertical-align: middle;\n",
       "    }\n",
       "\n",
       "    .dataframe tbody tr th {\n",
       "        vertical-align: top;\n",
       "    }\n",
       "\n",
       "    .dataframe thead th {\n",
       "        text-align: right;\n",
       "    }\n",
       "</style>\n",
       "<table border=\"1\" class=\"dataframe\">\n",
       "  <thead>\n",
       "    <tr style=\"text-align: right;\">\n",
       "      <th></th>\n",
       "      <th>1.kolon</th>\n",
       "      <th>2.kolon</th>\n",
       "      <th>3.kolon</th>\n",
       "    </tr>\n",
       "  </thead>\n",
       "  <tbody>\n",
       "    <tr>\n",
       "      <th>1.satır</th>\n",
       "      <td>0.320700</td>\n",
       "      <td>1.249890</td>\n",
       "      <td>-0.806411</td>\n",
       "    </tr>\n",
       "    <tr>\n",
       "      <th>2.satır</th>\n",
       "      <td>0.631209</td>\n",
       "      <td>-0.969659</td>\n",
       "      <td>0.442415</td>\n",
       "    </tr>\n",
       "    <tr>\n",
       "      <th>3.satır</th>\n",
       "      <td>-0.548887</td>\n",
       "      <td>-0.622596</td>\n",
       "      <td>-1.244469</td>\n",
       "    </tr>\n",
       "  </tbody>\n",
       "</table>\n",
       "</div>"
      ],
      "text/plain": [
       "          1.kolon   2.kolon   3.kolon\n",
       "1.satır  0.320700  1.249890 -0.806411\n",
       "2.satır  0.631209 -0.969659  0.442415\n",
       "3.satır -0.548887 -0.622596 -1.244469"
      ]
     },
     "execution_count": 122,
     "metadata": {},
     "output_type": "execute_result"
    }
   ],
   "source": [
    "yepYeniDataFrame\n"
   ]
  },
  {
   "cell_type": "code",
   "execution_count": 123,
   "id": "dbaeb592",
   "metadata": {},
   "outputs": [
    {
     "data": {
      "text/plain": [
       "0.32069959365792394"
      ]
     },
     "execution_count": 123,
     "metadata": {},
     "output_type": "execute_result"
    }
   ],
   "source": [
    "yepYeniDataFrame.loc[\"1.satır\"][\"1.kolon\"]"
   ]
  },
  {
   "cell_type": "code",
   "execution_count": 124,
   "id": "a9bec0ad",
   "metadata": {},
   "outputs": [
    {
     "data": {
      "text/plain": [
       "0.32069959365792394"
      ]
     },
     "execution_count": 124,
     "metadata": {},
     "output_type": "execute_result"
    }
   ],
   "source": [
    "yepYeniDataFrame.loc[\"1.satır\",\"1.kolon\"]"
   ]
  },
  {
   "cell_type": "code",
   "execution_count": 127,
   "id": "ba8902bc",
   "metadata": {},
   "outputs": [],
   "source": [
    "deger=yepYeniDataFrame[:]>0"
   ]
  },
  {
   "cell_type": "code",
   "execution_count": 128,
   "id": "758c7e33",
   "metadata": {},
   "outputs": [
    {
     "data": {
      "text/html": [
       "<div>\n",
       "<style scoped>\n",
       "    .dataframe tbody tr th:only-of-type {\n",
       "        vertical-align: middle;\n",
       "    }\n",
       "\n",
       "    .dataframe tbody tr th {\n",
       "        vertical-align: top;\n",
       "    }\n",
       "\n",
       "    .dataframe thead th {\n",
       "        text-align: right;\n",
       "    }\n",
       "</style>\n",
       "<table border=\"1\" class=\"dataframe\">\n",
       "  <thead>\n",
       "    <tr style=\"text-align: right;\">\n",
       "      <th></th>\n",
       "      <th>1.kolon</th>\n",
       "      <th>2.kolon</th>\n",
       "      <th>3.kolon</th>\n",
       "    </tr>\n",
       "  </thead>\n",
       "  <tbody>\n",
       "    <tr>\n",
       "      <th>1.satır</th>\n",
       "      <td>0.320700</td>\n",
       "      <td>1.24989</td>\n",
       "      <td>NaN</td>\n",
       "    </tr>\n",
       "    <tr>\n",
       "      <th>2.satır</th>\n",
       "      <td>0.631209</td>\n",
       "      <td>NaN</td>\n",
       "      <td>0.442415</td>\n",
       "    </tr>\n",
       "    <tr>\n",
       "      <th>3.satır</th>\n",
       "      <td>NaN</td>\n",
       "      <td>NaN</td>\n",
       "      <td>NaN</td>\n",
       "    </tr>\n",
       "  </tbody>\n",
       "</table>\n",
       "</div>"
      ],
      "text/plain": [
       "          1.kolon  2.kolon   3.kolon\n",
       "1.satır  0.320700  1.24989       NaN\n",
       "2.satır  0.631209      NaN  0.442415\n",
       "3.satır       NaN      NaN       NaN"
      ]
     },
     "execution_count": 128,
     "metadata": {},
     "output_type": "execute_result"
    }
   ],
   "source": [
    "yepYeniDataFrame[deger]"
   ]
  },
  {
   "cell_type": "code",
   "execution_count": 129,
   "id": "ce9b96f3",
   "metadata": {},
   "outputs": [
    {
     "data": {
      "text/html": [
       "<div>\n",
       "<style scoped>\n",
       "    .dataframe tbody tr th:only-of-type {\n",
       "        vertical-align: middle;\n",
       "    }\n",
       "\n",
       "    .dataframe tbody tr th {\n",
       "        vertical-align: top;\n",
       "    }\n",
       "\n",
       "    .dataframe thead th {\n",
       "        text-align: right;\n",
       "    }\n",
       "</style>\n",
       "<table border=\"1\" class=\"dataframe\">\n",
       "  <thead>\n",
       "    <tr style=\"text-align: right;\">\n",
       "      <th></th>\n",
       "      <th>1.kolon</th>\n",
       "      <th>2.kolon</th>\n",
       "      <th>3.kolon</th>\n",
       "    </tr>\n",
       "  </thead>\n",
       "  <tbody>\n",
       "    <tr>\n",
       "      <th>1.satır</th>\n",
       "      <td>0.320700</td>\n",
       "      <td>1.24989</td>\n",
       "      <td>NaN</td>\n",
       "    </tr>\n",
       "    <tr>\n",
       "      <th>2.satır</th>\n",
       "      <td>0.631209</td>\n",
       "      <td>NaN</td>\n",
       "      <td>0.442415</td>\n",
       "    </tr>\n",
       "    <tr>\n",
       "      <th>3.satır</th>\n",
       "      <td>NaN</td>\n",
       "      <td>NaN</td>\n",
       "      <td>NaN</td>\n",
       "    </tr>\n",
       "  </tbody>\n",
       "</table>\n",
       "</div>"
      ],
      "text/plain": [
       "          1.kolon  2.kolon   3.kolon\n",
       "1.satır  0.320700  1.24989       NaN\n",
       "2.satır  0.631209      NaN  0.442415\n",
       "3.satır       NaN      NaN       NaN"
      ]
     },
     "execution_count": 129,
     "metadata": {},
     "output_type": "execute_result"
    }
   ],
   "source": [
    "yepYeniDataFrame[yepYeniDataFrame[:]>0]"
   ]
  },
  {
   "cell_type": "markdown",
   "id": "2522b022",
   "metadata": {},
   "source": [
    "**yepYeniDataFrame.reset_index()"
   ]
  },
  {
   "cell_type": "code",
   "execution_count": 146,
   "id": "8b9d0af5",
   "metadata": {},
   "outputs": [
    {
     "data": {
      "text/html": [
       "<div>\n",
       "<style scoped>\n",
       "    .dataframe tbody tr th:only-of-type {\n",
       "        vertical-align: middle;\n",
       "    }\n",
       "\n",
       "    .dataframe tbody tr th {\n",
       "        vertical-align: top;\n",
       "    }\n",
       "\n",
       "    .dataframe thead th {\n",
       "        text-align: right;\n",
       "    }\n",
       "</style>\n",
       "<table border=\"1\" class=\"dataframe\">\n",
       "  <thead>\n",
       "    <tr style=\"text-align: right;\">\n",
       "      <th></th>\n",
       "      <th>level_0</th>\n",
       "      <th>index</th>\n",
       "      <th>1.kolon</th>\n",
       "      <th>2.kolon</th>\n",
       "      <th>3.kolon</th>\n",
       "    </tr>\n",
       "  </thead>\n",
       "  <tbody>\n",
       "    <tr>\n",
       "      <th>0</th>\n",
       "      <td>0</td>\n",
       "      <td>1.satır</td>\n",
       "      <td>0.320700</td>\n",
       "      <td>1.249890</td>\n",
       "      <td>-0.806411</td>\n",
       "    </tr>\n",
       "    <tr>\n",
       "      <th>1</th>\n",
       "      <td>1</td>\n",
       "      <td>2.satır</td>\n",
       "      <td>0.631209</td>\n",
       "      <td>-0.969659</td>\n",
       "      <td>0.442415</td>\n",
       "    </tr>\n",
       "    <tr>\n",
       "      <th>2</th>\n",
       "      <td>2</td>\n",
       "      <td>3.satır</td>\n",
       "      <td>-0.548887</td>\n",
       "      <td>-0.622596</td>\n",
       "      <td>-1.244469</td>\n",
       "    </tr>\n",
       "  </tbody>\n",
       "</table>\n",
       "</div>"
      ],
      "text/plain": [
       "   level_0    index   1.kolon   2.kolon   3.kolon\n",
       "0        0  1.satır  0.320700  1.249890 -0.806411\n",
       "1        1  2.satır  0.631209 -0.969659  0.442415\n",
       "2        2  3.satır -0.548887 -0.622596 -1.244469"
      ]
     },
     "execution_count": 146,
     "metadata": {},
     "output_type": "execute_result"
    }
   ],
   "source": [
    "yepYeniDataFrame"
   ]
  },
  {
   "cell_type": "code",
   "execution_count": null,
   "id": "c84a546f",
   "metadata": {},
   "outputs": [],
   "source": []
  }
 ],
 "metadata": {
  "kernelspec": {
   "display_name": "Python 3 (ipykernel)",
   "language": "python",
   "name": "python3"
  },
  "language_info": {
   "codemirror_mode": {
    "name": "ipython",
    "version": 3
   },
   "file_extension": ".py",
   "mimetype": "text/x-python",
   "name": "python",
   "nbconvert_exporter": "python",
   "pygments_lexer": "ipython3",
   "version": "3.11.4"
  }
 },
 "nbformat": 4,
 "nbformat_minor": 5
}
