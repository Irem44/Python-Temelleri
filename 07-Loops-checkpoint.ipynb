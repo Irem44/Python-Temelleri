{
 "cells": [
  {
   "cell_type": "markdown",
   "id": "4233788f",
   "metadata": {},
   "source": [
    "## For Loop\n"
   ]
  },
  {
   "cell_type": "code",
   "execution_count": 103,
   "id": "5f4f8fec",
   "metadata": {},
   "outputs": [],
   "source": [
    "studentExamPoint=[45,54,87,85,32,12]\n"
   ]
  },
  {
   "cell_type": "code",
   "execution_count": 104,
   "id": "e185b559",
   "metadata": {},
   "outputs": [],
   "source": [
    "newExamPoints=[]\n",
    "for newExamPoint in studentExamPoint:\n",
    "    newExamPoint=newExamPoint+5\n",
    "    newExamPoints.append(newExamPoint)\n",
    "    "
   ]
  },
  {
   "cell_type": "code",
   "execution_count": 105,
   "id": "e0ddfabf",
   "metadata": {},
   "outputs": [
    {
     "data": {
      "text/plain": [
       "[50, 59, 92, 90, 37, 17]"
      ]
     },
     "execution_count": 105,
     "metadata": {},
     "output_type": "execute_result"
    }
   ],
   "source": [
    "newExamPoints"
   ]
  },
  {
   "cell_type": "code",
   "execution_count": null,
   "id": "08efa255",
   "metadata": {},
   "outputs": [],
   "source": []
  },
  {
   "cell_type": "code",
   "execution_count": 106,
   "id": "56786b11",
   "metadata": {},
   "outputs": [],
   "source": [
    "numbers=[45,78,32,35,91]\n",
    "oddNumbers=[]\n",
    "evenNumbers=[]\n",
    "\n"
   ]
  },
  {
   "cell_type": "code",
   "execution_count": 107,
   "id": "7f6c0d2d",
   "metadata": {},
   "outputs": [
    {
     "name": "stdout",
     "output_type": "stream",
     "text": [
      "Odd List: [45, 35, 91]\n",
      "Even List: [78, 32]\n"
     ]
    }
   ],
   "source": [
    "for number in numbers:\n",
    "    if number%2==0:\n",
    "        evenNumbers.append(number)\n",
    "    elif number%2!=0:\n",
    "        oddNumbers.append(number)\n",
    "        \n",
    "print(f\"Odd List: {oddNumbers}\")\n",
    "print(f\"Even List: {evenNumbers}\")"
   ]
  },
  {
   "cell_type": "code",
   "execution_count": null,
   "id": "f3bc694f",
   "metadata": {},
   "outputs": [],
   "source": []
  },
  {
   "cell_type": "code",
   "execution_count": 108,
   "id": "f3dc25ff",
   "metadata": {},
   "outputs": [],
   "source": [
    "myTuple=((\"Ayşe\",45),(\"Elif\",23),(\"Sude\",21))"
   ]
  },
  {
   "cell_type": "code",
   "execution_count": 109,
   "id": "a9887c8a",
   "metadata": {},
   "outputs": [
    {
     "name": "stdout",
     "output_type": "stream",
     "text": [
      "45\n",
      "23\n",
      "21\n"
     ]
    }
   ],
   "source": [
    "for (name,age) in myTuple:\n",
    "    print(age)"
   ]
  },
  {
   "cell_type": "code",
   "execution_count": 110,
   "id": "d6df8d9e",
   "metadata": {},
   "outputs": [],
   "source": [
    "myDictionaries={\"İrem\":21,\"Elif\":23,\"Berfin\":12}"
   ]
  },
  {
   "cell_type": "code",
   "execution_count": 111,
   "id": "61b4e5c4",
   "metadata": {},
   "outputs": [
    {
     "name": "stdout",
     "output_type": "stream",
     "text": [
      "21\n",
      "23\n",
      "12\n"
     ]
    }
   ],
   "source": [
    "for (name,age) in myDictionaries.items():\n",
    "    print(age)"
   ]
  },
  {
   "cell_type": "code",
   "execution_count": null,
   "id": "07e6dbcc",
   "metadata": {},
   "outputs": [],
   "source": [
    "\n"
   ]
  },
  {
   "cell_type": "markdown",
   "id": "b883bc21",
   "metadata": {},
   "source": [
    "##  Continue-Break-Pass\n",
    "\n"
   ]
  },
  {
   "cell_type": "code",
   "execution_count": 112,
   "id": "0cc0cd05",
   "metadata": {},
   "outputs": [],
   "source": [
    "classStudent=[\"Ali\",\"Ayşe\",\"Fatma\",\"Nergis\",\"Bulut\",\"Berk\"]\n",
    "firstClass=[]\n",
    "secondClass=[]\n",
    "\n",
    "\n"
   ]
  },
  {
   "cell_type": "code",
   "execution_count": 113,
   "id": "31f3650b",
   "metadata": {},
   "outputs": [
    {
     "name": "stdout",
     "output_type": "stream",
     "text": [
      "First Class: ['Ali', 'Ayşe', 'Fatma']\n",
      "Second Class: ['Nergis', 'Bulut', 'Berk']\n"
     ]
    }
   ],
   "source": [
    "x=0\n",
    "\n",
    "for student in classStudent:\n",
    "   \n",
    "    if student==\"Nergis\":\n",
    "        break  \n",
    "        x=x+1    \n",
    "    firstClass.append(student)\n",
    "\n",
    "\n",
    "for i in range(3,6):\n",
    "    secondClass.append(classStudent[i])\n",
    "    \n",
    "print(f\"First Class: {firstClass}\")\n",
    "print(f\"Second Class: {secondClass}\")\n",
    "      \n",
    "\n",
    "        "
   ]
  },
  {
   "cell_type": "code",
   "execution_count": null,
   "id": "dcd8dff0",
   "metadata": {},
   "outputs": [],
   "source": []
  },
  {
   "cell_type": "code",
   "execution_count": 114,
   "id": "f1560042",
   "metadata": {},
   "outputs": [
    {
     "data": {
      "text/plain": [
       "['Ali', 'Ayşe', 'Fatma', 'Nergis', 'Bulut', 'Berk']"
      ]
     },
     "execution_count": 114,
     "metadata": {},
     "output_type": "execute_result"
    }
   ],
   "source": [
    "classStudent\n"
   ]
  },
  {
   "cell_type": "code",
   "execution_count": 118,
   "id": "9455a2fb",
   "metadata": {},
   "outputs": [
    {
     "name": "stdout",
     "output_type": "stream",
     "text": [
      "Ali\n",
      "Ayşe\n",
      "Fatma\n",
      "Nergis\n",
      "Berk\n"
     ]
    }
   ],
   "source": [
    "for myStudent in classStudent:\n",
    "    if myStudent==\"Bulut\":\n",
    "        continue\n",
    "    print(myStudent)"
   ]
  },
  {
   "cell_type": "code",
   "execution_count": null,
   "id": "d9bd733e",
   "metadata": {},
   "outputs": [],
   "source": []
  },
  {
   "cell_type": "code",
   "execution_count": 122,
   "id": "07bde4ae",
   "metadata": {},
   "outputs": [],
   "source": [
    "for i in classStudent:\n",
    "    pass"
   ]
  },
  {
   "cell_type": "markdown",
   "id": "a5b3d70d",
   "metadata": {},
   "source": []
  },
  {
   "cell_type": "markdown",
   "id": "1b517817",
   "metadata": {},
   "source": [
    "###  While Loop"
   ]
  },
  {
   "cell_type": "code",
   "execution_count": 5,
   "id": "9e493ae0",
   "metadata": {},
   "outputs": [
    {
     "name": "stdout",
     "output_type": "stream",
     "text": [
      "55\n"
     ]
    }
   ],
   "source": [
    "a=0\n",
    "y=0\n",
    "while y<=10:\n",
    "    a=a+y\n",
    "    y+=1\n",
    "\n",
    "print(a)"
   ]
  },
  {
   "cell_type": "code",
   "execution_count": null,
   "id": "df3dc9e2",
   "metadata": {},
   "outputs": [],
   "source": []
  },
  {
   "cell_type": "code",
   "execution_count": 3,
   "id": "3a7dcd1b",
   "metadata": {},
   "outputs": [],
   "source": [
    "list=[24,78,45,47]\n"
   ]
  },
  {
   "cell_type": "code",
   "execution_count": 4,
   "id": "c2c549cb",
   "metadata": {},
   "outputs": [
    {
     "name": "stdout",
     "output_type": "stream",
     "text": [
      "45 is here\n",
      "45 is here\n"
     ]
    }
   ],
   "source": [
    "while 45 in list:\n",
    "    print(\"45 is here\")\n",
    "    list.pop()"
   ]
  },
  {
   "cell_type": "markdown",
   "id": "2d542d8c",
   "metadata": {},
   "source": [
    "### Enumerate\n",
    "\n"
   ]
  },
  {
   "cell_type": "code",
   "execution_count": 9,
   "id": "a4d15104",
   "metadata": {},
   "outputs": [
    {
     "name": "stdout",
     "output_type": "stream",
     "text": [
      "(0, 'Ali')\n",
      "(1, 'Ayşe')\n",
      "(2, 'Fatma')\n",
      "(3, 'İrem')\n"
     ]
    }
   ],
   "source": [
    "list2=[\"Ali\",\"Ayşe\",\"Fatma\",\"İrem\"]\n",
    "for member in enumerate(list2):\n",
    "    print(member)"
   ]
  },
  {
   "cell_type": "code",
   "execution_count": 16,
   "id": "644aa429",
   "metadata": {},
   "outputs": [
    {
     "name": "stdout",
     "output_type": "stream",
     "text": [
      "(0, 0)\n",
      "(1, 1)\n",
      "(2, 2)\n",
      "(3, 3)\n",
      "(4, 4)\n",
      "(5, 5)\n",
      "(6, 6)\n",
      "(7, 7)\n",
      "(8, 8)\n",
      "(9, 9)\n",
      "(10, 10)\n",
      "(11, 11)\n",
      "(12, 12)\n",
      "(13, 13)\n",
      "(14, 14)\n"
     ]
    }
   ],
   "source": [
    "\n",
    "for number in enumerate(range(0,15)):\n",
    "    print(number)"
   ]
  },
  {
   "cell_type": "code",
   "execution_count": null,
   "id": "5cf194fa",
   "metadata": {},
   "outputs": [],
   "source": []
  },
  {
   "cell_type": "markdown",
   "id": "c6932c94",
   "metadata": {},
   "source": [
    "### Random"
   ]
  },
  {
   "cell_type": "code",
   "execution_count": 17,
   "id": "e686872e",
   "metadata": {},
   "outputs": [],
   "source": [
    "from random import randint"
   ]
  },
  {
   "cell_type": "code",
   "execution_count": 20,
   "id": "fe039090",
   "metadata": {},
   "outputs": [
    {
     "name": "stdout",
     "output_type": "stream",
     "text": [
      "Resault: 23\n"
     ]
    }
   ],
   "source": [
    "myChoose=randint(0,101)\n",
    "print(f\"Resault: {myChoose}\")"
   ]
  },
  {
   "cell_type": "code",
   "execution_count": 22,
   "id": "34e62e1f",
   "metadata": {},
   "outputs": [],
   "source": [
    "\n",
    "list2=[1,1,2,5,7]"
   ]
  },
  {
   "cell_type": "code",
   "execution_count": 25,
   "id": "894885f9",
   "metadata": {},
   "outputs": [],
   "source": [
    "from random import shuffle\n",
    "shuffle(list2)\n"
   ]
  },
  {
   "cell_type": "code",
   "execution_count": null,
   "id": "bec7dc01",
   "metadata": {},
   "outputs": [],
   "source": []
  }
 ],
 "metadata": {
  "kernelspec": {
   "display_name": "Python 3 (ipykernel)",
   "language": "python",
   "name": "python3"
  },
  "language_info": {
   "codemirror_mode": {
    "name": "ipython",
    "version": 3
   },
   "file_extension": ".py",
   "mimetype": "text/x-python",
   "name": "python",
   "nbconvert_exporter": "python",
   "pygments_lexer": "ipython3",
   "version": "3.11.4"
  }
 },
 "nbformat": 4,
 "nbformat_minor": 5
}
