{
 "cells": [
  {
   "cell_type": "markdown",
   "id": "ec81765c",
   "metadata": {},
   "source": [
    "### instance & attribut"
   ]
  },
  {
   "cell_type": "code",
   "execution_count": 22,
   "id": "c131fb87",
   "metadata": {},
   "outputs": [],
   "source": [
    "class Meyve():\n",
    "    def __init__(self,adı,renk,boyut):\n",
    "        self.renk=renk\n",
    "        self.boyut=boyut\n",
    "        self.adı=adı\n",
    "        \n",
    "    def kalori(self,kalori):\n",
    "        print(f\"{self.adı} meyvesi {kalori} kaloridir\")\n",
    "        \n",
    "        "
   ]
  },
  {
   "cell_type": "code",
   "execution_count": 23,
   "id": "266a7ee3",
   "metadata": {},
   "outputs": [],
   "source": [
    "karpuz=Meyve(\"karpuz\",\"yeşil\",\"büyük\")"
   ]
  },
  {
   "cell_type": "code",
   "execution_count": 24,
   "id": "fdc83337",
   "metadata": {},
   "outputs": [
    {
     "data": {
      "text/plain": [
       "'büyük'"
      ]
     },
     "execution_count": 24,
     "metadata": {},
     "output_type": "execute_result"
    }
   ],
   "source": [
    "karpuz.boyut"
   ]
  },
  {
   "cell_type": "code",
   "execution_count": 25,
   "id": "77a57bac",
   "metadata": {},
   "outputs": [
    {
     "data": {
      "text/plain": [
       "'yeşil'"
      ]
     },
     "execution_count": 25,
     "metadata": {},
     "output_type": "execute_result"
    }
   ],
   "source": [
    "karpuz.renk"
   ]
  },
  {
   "cell_type": "code",
   "execution_count": 26,
   "id": "77275b85",
   "metadata": {},
   "outputs": [
    {
     "name": "stdout",
     "output_type": "stream",
     "text": [
      "karpuz meyvesi 100 kaloridir\n"
     ]
    }
   ],
   "source": [
    "karpuz.kalori(100)"
   ]
  },
  {
   "cell_type": "code",
   "execution_count": 27,
   "id": "8d35c4c6",
   "metadata": {},
   "outputs": [],
   "source": [
    "elma=Meyve(\"elma\",\"kırmızı\",\"küçük\")"
   ]
  },
  {
   "cell_type": "code",
   "execution_count": 28,
   "id": "81c77da2",
   "metadata": {},
   "outputs": [
    {
     "data": {
      "text/plain": [
       "'elma'"
      ]
     },
     "execution_count": 28,
     "metadata": {},
     "output_type": "execute_result"
    }
   ],
   "source": [
    "elma.adı"
   ]
  },
  {
   "cell_type": "code",
   "execution_count": 29,
   "id": "f2272497",
   "metadata": {},
   "outputs": [
    {
     "data": {
      "text/plain": [
       "'küçük'"
      ]
     },
     "execution_count": 29,
     "metadata": {},
     "output_type": "execute_result"
    }
   ],
   "source": [
    "elma.boyut"
   ]
  },
  {
   "cell_type": "code",
   "execution_count": 30,
   "id": "e190d271",
   "metadata": {},
   "outputs": [
    {
     "name": "stdout",
     "output_type": "stream",
     "text": [
      "elma meyvesi 85 kaloridir\n"
     ]
    }
   ],
   "source": [
    "elma.kalori(85)"
   ]
  },
  {
   "cell_type": "code",
   "execution_count": 31,
   "id": "c1810dd0",
   "metadata": {},
   "outputs": [
    {
     "data": {
      "text/plain": [
       "'kırmızı'"
      ]
     },
     "execution_count": 31,
     "metadata": {},
     "output_type": "execute_result"
    }
   ],
   "source": [
    "elma.renk"
   ]
  },
  {
   "cell_type": "markdown",
   "id": "cc5578ea",
   "metadata": {},
   "source": [
    "### sınıfın içerisinde özellik tanımlarsak sınıfadı.özellik olarak sınıfın içersindeki methodda kullanabiliriz ama eğer bir methodda olan özelliği başka methodda kullanmak istersek self kullanmak zorundayız"
   ]
  },
  {
   "cell_type": "code",
   "execution_count": 39,
   "id": "95b66857",
   "metadata": {},
   "outputs": [],
   "source": [
    "class Kopek():\n",
    "    yilCarpanı=7\n",
    "    def __init__(self,yas=5):\n",
    "        self.yas=yas\n",
    "    def kopekInsanYasi(self):\n",
    "        return self.yas*Kopek.yilCarpanı\n",
    "        "
   ]
  },
  {
   "cell_type": "code",
   "execution_count": 40,
   "id": "3a07cc12",
   "metadata": {},
   "outputs": [],
   "source": [
    "dalmacyali=Kopek()"
   ]
  },
  {
   "cell_type": "code",
   "execution_count": 41,
   "id": "c4bfa1a9",
   "metadata": {},
   "outputs": [
    {
     "data": {
      "text/plain": [
       "35"
      ]
     },
     "execution_count": 41,
     "metadata": {},
     "output_type": "execute_result"
    }
   ],
   "source": [
    "dalmacyali.kopekInsanYasi()"
   ]
  },
  {
   "cell_type": "markdown",
   "id": "35feb7db",
   "metadata": {},
   "source": [
    "## Inheritance"
   ]
  },
  {
   "cell_type": "code",
   "execution_count": 42,
   "id": "2f6c25fb",
   "metadata": {},
   "outputs": [],
   "source": [
    "class Hayvan():\n",
    "    def __init__(self):\n",
    "        print(\"Hayvan sınıfı çağrıldı\")\n",
    "    def yurumek(self):\n",
    "        print(\"Bazı hayvanlar yürüyebilir\")\n",
    "    def beslenme(self):\n",
    "        print(\"Hayvanlar beslenirler\")"
   ]
  },
  {
   "cell_type": "code",
   "execution_count": 51,
   "id": "1ffe17a8",
   "metadata": {},
   "outputs": [],
   "source": [
    "class Kopek(Hayvan):\n",
    "    def __init__(self):\n",
    "        #Temel sınıfın init fonksiyonunu kalıtılan sınıfta çağırabiliriz\n",
    "        Hayvan.__init__(self)  \n",
    "        print(\"Köpek sınıfı oluşturuldu\")\n",
    "    "
   ]
  },
  {
   "cell_type": "code",
   "execution_count": 52,
   "id": "851c5746",
   "metadata": {},
   "outputs": [
    {
     "name": "stdout",
     "output_type": "stream",
     "text": [
      "Hayvan sınıfı çağrıldı\n",
      "Köpek sınıfı oluşturuldu\n"
     ]
    }
   ],
   "source": [
    "golden=Kopek()"
   ]
  },
  {
   "cell_type": "code",
   "execution_count": 53,
   "id": "cef34f98",
   "metadata": {},
   "outputs": [
    {
     "name": "stdout",
     "output_type": "stream",
     "text": [
      "Hayvanlar beslenirler\n"
     ]
    }
   ],
   "source": [
    "golden.beslenme()"
   ]
  },
  {
   "cell_type": "code",
   "execution_count": 50,
   "id": "2895d448",
   "metadata": {},
   "outputs": [
    {
     "name": "stdout",
     "output_type": "stream",
     "text": [
      "Bazı hayvanlar yürüyebilir\n"
     ]
    }
   ],
   "source": [
    "golden.yurumek()"
   ]
  },
  {
   "cell_type": "code",
   "execution_count": 54,
   "id": "5b27eaf0",
   "metadata": {},
   "outputs": [],
   "source": [
    "class Kus(Hayvan):\n",
    "    def __init__(self):\n",
    "        print(\"Kuş sınıfı oluşturuldu\")\n",
    "    #override\n",
    "    def yurumek(self):\n",
    "        print(\"Kuşlar uçarlar\")\n",
    "    #override\n",
    "    def beslenme(self):\n",
    "        print(\"Kuşlar yem ile beslenirler\")\n",
    "        "
   ]
  },
  {
   "cell_type": "code",
   "execution_count": 55,
   "id": "f7a729c6",
   "metadata": {},
   "outputs": [
    {
     "name": "stdout",
     "output_type": "stream",
     "text": [
      "Kuş sınıfı oluşturuldu\n"
     ]
    }
   ],
   "source": [
    "guvercin=Kus()"
   ]
  },
  {
   "cell_type": "code",
   "execution_count": 57,
   "id": "070c1926",
   "metadata": {},
   "outputs": [
    {
     "name": "stdout",
     "output_type": "stream",
     "text": [
      "Kuşlar yem ile beslenirler\n"
     ]
    }
   ],
   "source": [
    "guvercin.beslenme()"
   ]
  },
  {
   "cell_type": "markdown",
   "id": "753d4579",
   "metadata": {},
   "source": [
    "## Polymorphism"
   ]
  },
  {
   "cell_type": "markdown",
   "id": "3cb4f988",
   "metadata": {},
   "source": [
    "Çok biçimlilikte aynı isimde olan methodları farklı amaçlar doğrultusunda kullanabiliriz buna polymorphism denir."
   ]
  },
  {
   "cell_type": "markdown",
   "id": "27298695",
   "metadata": {},
   "source": [
    "##  Özel Methodlar\n"
   ]
  },
  {
   "cell_type": "code",
   "execution_count": 28,
   "id": "b13f4d2d",
   "metadata": {},
   "outputs": [],
   "source": [
    "class Kitap():\n",
    "    def __init__(self,adı,turu,sayfa):\n",
    "        self.adı=adı\n",
    "        self.turu=turu\n",
    "        self.sayfa=sayfa\n",
    "    def __str__(self):\n",
    "        return self.adı\n",
    "    def __len__(self):\n",
    "        return self.sayfa\n",
    "    "
   ]
  },
  {
   "cell_type": "code",
   "execution_count": 29,
   "id": "242323c9",
   "metadata": {},
   "outputs": [],
   "source": [
    "insanNeIleYasar=Kitap(\"insanNeIleYasar\",\"roman\",250)"
   ]
  },
  {
   "cell_type": "code",
   "execution_count": 30,
   "id": "00e01bc0",
   "metadata": {},
   "outputs": [
    {
     "data": {
      "text/plain": [
       "'insanNeIleYasar'"
      ]
     },
     "execution_count": 30,
     "metadata": {},
     "output_type": "execute_result"
    }
   ],
   "source": [
    "insanNeIleYasar.adı"
   ]
  },
  {
   "cell_type": "code",
   "execution_count": 31,
   "id": "6f41dfd1",
   "metadata": {},
   "outputs": [
    {
     "data": {
      "text/plain": [
       "'roman'"
      ]
     },
     "execution_count": 31,
     "metadata": {},
     "output_type": "execute_result"
    }
   ],
   "source": [
    "insanNeIleYasar.turu"
   ]
  },
  {
   "cell_type": "code",
   "execution_count": 32,
   "id": "61a9d28d",
   "metadata": {},
   "outputs": [
    {
     "name": "stdout",
     "output_type": "stream",
     "text": [
      "insanNeIleYasar\n"
     ]
    }
   ],
   "source": [
    "print(insanNeIleYasar)"
   ]
  },
  {
   "cell_type": "code",
   "execution_count": 33,
   "id": "d33b5a0f",
   "metadata": {},
   "outputs": [],
   "source": [
    "sucVeCeza=Kitap(\"sucVeCeza\",\"roman\",300)"
   ]
  },
  {
   "cell_type": "code",
   "execution_count": 34,
   "id": "8ac1c0ba",
   "metadata": {},
   "outputs": [
    {
     "name": "stdout",
     "output_type": "stream",
     "text": [
      "sucVeCeza\n"
     ]
    }
   ],
   "source": [
    "print(sucVeCeza)"
   ]
  },
  {
   "cell_type": "code",
   "execution_count": 35,
   "id": "00b5a4ca",
   "metadata": {},
   "outputs": [
    {
     "data": {
      "text/plain": [
       "300"
      ]
     },
     "execution_count": 35,
     "metadata": {},
     "output_type": "execute_result"
    }
   ],
   "source": [
    "len(sucVeCeza)"
   ]
  },
  {
   "cell_type": "code",
   "execution_count": 36,
   "id": "e72da24c",
   "metadata": {},
   "outputs": [
    {
     "data": {
      "text/plain": [
       "250"
      ]
     },
     "execution_count": 36,
     "metadata": {},
     "output_type": "execute_result"
    }
   ],
   "source": [
    "len(insanNeIleYasar)"
   ]
  },
  {
   "cell_type": "code",
   "execution_count": null,
   "id": "c8e6a7f3",
   "metadata": {},
   "outputs": [],
   "source": []
  }
 ],
 "metadata": {
  "kernelspec": {
   "display_name": "Python 3 (ipykernel)",
   "language": "python",
   "name": "python3"
  },
  "language_info": {
   "codemirror_mode": {
    "name": "ipython",
    "version": 3
   },
   "file_extension": ".py",
   "mimetype": "text/x-python",
   "name": "python",
   "nbconvert_exporter": "python",
   "pygments_lexer": "ipython3",
   "version": "3.11.4"
  }
 },
 "nbformat": 4,
 "nbformat_minor": 5
}
