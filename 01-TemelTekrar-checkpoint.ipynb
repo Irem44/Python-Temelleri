{
 "cells": [
  {
   "cell_type": "markdown",
   "id": "65119b04",
   "metadata": {},
   "source": [
    "##  Değişkenler Ve Veri Tipleri\n"
   ]
  },
  {
   "cell_type": "code",
   "execution_count": 16,
   "id": "937a451d",
   "metadata": {},
   "outputs": [
    {
     "data": {
      "text/plain": [
       "15"
      ]
     },
     "execution_count": 16,
     "metadata": {},
     "output_type": "execute_result"
    }
   ],
   "source": [
    "name=\"irem sude demir\"\n",
    "len(name)"
   ]
  },
  {
   "cell_type": "code",
   "execution_count": 17,
   "id": "66bd2797",
   "metadata": {},
   "outputs": [
    {
     "data": {
      "text/plain": [
       "'ei'"
      ]
     },
     "execution_count": 17,
     "metadata": {},
     "output_type": "execute_result"
    }
   ],
   "source": [
    "name[2]+name[0]"
   ]
  },
  {
   "cell_type": "code",
   "execution_count": 18,
   "id": "f6f9c69e",
   "metadata": {},
   "outputs": [
    {
     "data": {
      "text/plain": [
       "'r'"
      ]
     },
     "execution_count": 18,
     "metadata": {},
     "output_type": "execute_result"
    }
   ],
   "source": [
    "name[-1]"
   ]
  },
  {
   "cell_type": "code",
   "execution_count": 19,
   "id": "8817699c",
   "metadata": {},
   "outputs": [
    {
     "data": {
      "text/plain": [
       "'i'"
      ]
     },
     "execution_count": 19,
     "metadata": {},
     "output_type": "execute_result"
    }
   ],
   "source": [
    "name[-2]"
   ]
  },
  {
   "cell_type": "code",
   "execution_count": 20,
   "id": "7ea69b05",
   "metadata": {},
   "outputs": [
    {
     "data": {
      "text/plain": [
       "'m'"
      ]
     },
     "execution_count": 20,
     "metadata": {},
     "output_type": "execute_result"
    }
   ],
   "source": [
    "name[-3]"
   ]
  },
  {
   "cell_type": "code",
   "execution_count": 21,
   "id": "f2a3abf8",
   "metadata": {},
   "outputs": [
    {
     "data": {
      "text/plain": [
       "'em sude demir'"
      ]
     },
     "execution_count": 21,
     "metadata": {},
     "output_type": "execute_result"
    }
   ],
   "source": [
    "name[2:]"
   ]
  },
  {
   "cell_type": "code",
   "execution_count": 22,
   "id": "aa1fbc28",
   "metadata": {},
   "outputs": [
    {
     "data": {
      "text/plain": [
       "'ire'"
      ]
     },
     "execution_count": 22,
     "metadata": {},
     "output_type": "execute_result"
    }
   ],
   "source": [
    "name[0:3]"
   ]
  },
  {
   "cell_type": "code",
   "execution_count": 23,
   "id": "049781d3",
   "metadata": {},
   "outputs": [
    {
     "data": {
      "text/plain": [
       "'i em'"
      ]
     },
     "execution_count": 23,
     "metadata": {},
     "output_type": "execute_result"
    }
   ],
   "source": [
    "name[::4]"
   ]
  },
  {
   "cell_type": "code",
   "execution_count": 24,
   "id": "b1e989aa",
   "metadata": {},
   "outputs": [
    {
     "data": {
      "text/plain": [
       "'rimed edus meri'"
      ]
     },
     "execution_count": 24,
     "metadata": {},
     "output_type": "execute_result"
    }
   ],
   "source": [
    "name[::-1]"
   ]
  },
  {
   "cell_type": "code",
   "execution_count": 26,
   "id": "676bed80",
   "metadata": {},
   "outputs": [],
   "source": [
    "newname=name.capitalize()"
   ]
  },
  {
   "cell_type": "code",
   "execution_count": 27,
   "id": "3c15b203",
   "metadata": {},
   "outputs": [
    {
     "data": {
      "text/plain": [
       "'Irem sude demir'"
      ]
     },
     "execution_count": 27,
     "metadata": {},
     "output_type": "execute_result"
    }
   ],
   "source": [
    "newname"
   ]
  },
  {
   "cell_type": "code",
   "execution_count": 29,
   "id": "96f157c5",
   "metadata": {},
   "outputs": [],
   "source": [
    "newnamewithsplit=newname.split()"
   ]
  },
  {
   "cell_type": "code",
   "execution_count": 30,
   "id": "2f6e7a4a",
   "metadata": {},
   "outputs": [
    {
     "data": {
      "text/plain": [
       "'Irem'"
      ]
     },
     "execution_count": 30,
     "metadata": {},
     "output_type": "execute_result"
    }
   ],
   "source": [
    "newnamewithsplit[0]"
   ]
  },
  {
   "cell_type": "code",
   "execution_count": 31,
   "id": "4638f989",
   "metadata": {},
   "outputs": [
    {
     "data": {
      "text/plain": [
       "'IREM SUDE DEMIR'"
      ]
     },
     "execution_count": 31,
     "metadata": {},
     "output_type": "execute_result"
    }
   ],
   "source": [
    "name.upper()"
   ]
  },
  {
   "cell_type": "code",
   "execution_count": 32,
   "id": "3fd99227",
   "metadata": {},
   "outputs": [
    {
     "data": {
      "text/plain": [
       "'irem sude demir'"
      ]
     },
     "execution_count": 32,
     "metadata": {},
     "output_type": "execute_result"
    }
   ],
   "source": [
    "name.lower()"
   ]
  },
  {
   "cell_type": "code",
   "execution_count": 33,
   "id": "479af23e",
   "metadata": {},
   "outputs": [
    {
     "data": {
      "text/plain": [
       "'irem sude demirirem sude demirirem sude demirirem sude demirirem sude demir'"
      ]
     },
     "execution_count": 33,
     "metadata": {},
     "output_type": "execute_result"
    }
   ],
   "source": [
    "name*5"
   ]
  },
  {
   "cell_type": "code",
   "execution_count": null,
   "id": "e1a6f47c",
   "metadata": {},
   "outputs": [],
   "source": []
  }
 ],
 "metadata": {
  "kernelspec": {
   "display_name": "Python 3 (ipykernel)",
   "language": "python",
   "name": "python3"
  },
  "language_info": {
   "codemirror_mode": {
    "name": "ipython",
    "version": 3
   },
   "file_extension": ".py",
   "mimetype": "text/x-python",
   "name": "python",
   "nbconvert_exporter": "python",
   "pygments_lexer": "ipython3",
   "version": "3.11.4"
  }
 },
 "nbformat": 4,
 "nbformat_minor": 5
}
