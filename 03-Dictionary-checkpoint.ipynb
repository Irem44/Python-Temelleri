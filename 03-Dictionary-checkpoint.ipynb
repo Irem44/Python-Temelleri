{
 "cells": [
  {
   "cell_type": "markdown",
   "id": "28dfe013",
   "metadata": {},
   "source": [
    "**indeksleme yoktur\n",
    "\n",
    "**key-value pairing"
   ]
  },
  {
   "cell_type": "code",
   "execution_count": 1,
   "id": "74247902",
   "metadata": {},
   "outputs": [],
   "source": [
    "myDictionary={\"key\":\"value\"}"
   ]
  },
  {
   "cell_type": "code",
   "execution_count": 2,
   "id": "3c0e269f",
   "metadata": {},
   "outputs": [
    {
     "data": {
      "text/plain": [
       "{'key': 'value'}"
      ]
     },
     "execution_count": 2,
     "metadata": {},
     "output_type": "execute_result"
    }
   ],
   "source": [
    "myDictionary"
   ]
  },
  {
   "cell_type": "code",
   "execution_count": 3,
   "id": "a054a332",
   "metadata": {},
   "outputs": [
    {
     "data": {
      "text/plain": [
       "'value'"
      ]
     },
     "execution_count": 3,
     "metadata": {},
     "output_type": "execute_result"
    }
   ],
   "source": [
    "myDictionary[\"key\"]"
   ]
  },
  {
   "cell_type": "code",
   "execution_count": 4,
   "id": "4172bf9b",
   "metadata": {},
   "outputs": [
    {
     "data": {
      "text/plain": [
       "dict_keys(['key'])"
      ]
     },
     "execution_count": 4,
     "metadata": {},
     "output_type": "execute_result"
    }
   ],
   "source": [
    "myDictionary.keys()"
   ]
  },
  {
   "cell_type": "code",
   "execution_count": 5,
   "id": "2b85ae85",
   "metadata": {},
   "outputs": [
    {
     "data": {
      "text/plain": [
       "dict_values(['value'])"
      ]
     },
     "execution_count": 5,
     "metadata": {},
     "output_type": "execute_result"
    }
   ],
   "source": [
    "myDictionary.values()\n"
   ]
  },
  {
   "cell_type": "code",
   "execution_count": 9,
   "id": "798ff507",
   "metadata": {},
   "outputs": [],
   "source": [
    "booksAndItsKinds={\"Harry Potter\":\"Fantastic\",\"Heide\":\"Child\",\"Suç Ve Ceza\":\"Psychology Novel\"}"
   ]
  },
  {
   "cell_type": "code",
   "execution_count": 10,
   "id": "66a795ab",
   "metadata": {},
   "outputs": [
    {
     "data": {
      "text/plain": [
       "{'Harry Potter': 'Fantastic',\n",
       " 'Heide': 'Child',\n",
       " 'Suç Ve Ceza': 'Psychology Novel'}"
      ]
     },
     "execution_count": 10,
     "metadata": {},
     "output_type": "execute_result"
    }
   ],
   "source": [
    "booksAndItsKinds"
   ]
  },
  {
   "cell_type": "code",
   "execution_count": 11,
   "id": "757f69ed",
   "metadata": {},
   "outputs": [
    {
     "data": {
      "text/plain": [
       "dict_keys(['Harry Potter', 'Heide', 'Suç Ve Ceza'])"
      ]
     },
     "execution_count": 11,
     "metadata": {},
     "output_type": "execute_result"
    }
   ],
   "source": [
    "booksAndItsKinds.keys()"
   ]
  },
  {
   "cell_type": "code",
   "execution_count": 12,
   "id": "c6861a7c",
   "metadata": {},
   "outputs": [
    {
     "data": {
      "text/plain": [
       "dict_values(['Fantastic', 'Child', 'Psychology Novel'])"
      ]
     },
     "execution_count": 12,
     "metadata": {},
     "output_type": "execute_result"
    }
   ],
   "source": [
    "booksAndItsKinds.values()"
   ]
  },
  {
   "cell_type": "code",
   "execution_count": 13,
   "id": "d6945952",
   "metadata": {},
   "outputs": [],
   "source": [
    "booksAndItsKinds[\"Heide\"]=\"Child Stories\""
   ]
  },
  {
   "cell_type": "code",
   "execution_count": 14,
   "id": "b31f5726",
   "metadata": {},
   "outputs": [
    {
     "data": {
      "text/plain": [
       "{'Harry Potter': 'Fantastic',\n",
       " 'Heide': 'Child Stories',\n",
       " 'Suç Ve Ceza': 'Psychology Novel'}"
      ]
     },
     "execution_count": 14,
     "metadata": {},
     "output_type": "execute_result"
    }
   ],
   "source": [
    "booksAndItsKinds"
   ]
  },
  {
   "cell_type": "code",
   "execution_count": 15,
   "id": "9940cac0",
   "metadata": {},
   "outputs": [],
   "source": [
    "myNewDictionary=dict()"
   ]
  },
  {
   "cell_type": "code",
   "execution_count": 16,
   "id": "4e9e2242",
   "metadata": {},
   "outputs": [
    {
     "data": {
      "text/plain": [
       "{}"
      ]
     },
     "execution_count": 16,
     "metadata": {},
     "output_type": "execute_result"
    }
   ],
   "source": [
    "myNewDictionary"
   ]
  },
  {
   "cell_type": "code",
   "execution_count": 17,
   "id": "864b467b",
   "metadata": {},
   "outputs": [],
   "source": [
    "myNewDictionary[1]=\"Ali\"\n",
    "myNewDictionary[2]=\"Ahmet\"\n",
    "myNewDictionary[3]=\"İrem\"\n",
    "myNewDictionary[4]=\"Zeynep\"\n",
    "myNewDictionary[5]=\"Sude\""
   ]
  },
  {
   "cell_type": "code",
   "execution_count": 18,
   "id": "6d8ef754",
   "metadata": {},
   "outputs": [
    {
     "data": {
      "text/plain": [
       "{1: 'Ali', 2: 'Ahmet', 3: 'İrem', 4: 'Zeynep', 5: 'Sude'}"
      ]
     },
     "execution_count": 18,
     "metadata": {},
     "output_type": "execute_result"
    }
   ],
   "source": [
    "myNewDictionary"
   ]
  },
  {
   "cell_type": "code",
   "execution_count": 22,
   "id": "d05a70cf",
   "metadata": {},
   "outputs": [],
   "source": [
    "otherDictionary={\"Name\":\"İrem Sude\",\"Surname\":\"Demir\",\"Age\":\"21\",\"FavoriteActivity\":[\"Read a Book\",\"Play Chess\",\"Listening To Music\"],\"HerFamily\":{\"HerMother\":\"Emine\",\"HerFather\":\"Salih\",\"Sister\":\"Meryem\"}}"
   ]
  },
  {
   "cell_type": "code",
   "execution_count": 23,
   "id": "bffe0828",
   "metadata": {},
   "outputs": [
    {
     "data": {
      "text/plain": [
       "'21'"
      ]
     },
     "execution_count": 23,
     "metadata": {},
     "output_type": "execute_result"
    }
   ],
   "source": [
    "otherDictionary[\"Age\"]"
   ]
  },
  {
   "cell_type": "code",
   "execution_count": 24,
   "id": "e1ef54fa",
   "metadata": {},
   "outputs": [
    {
     "data": {
      "text/plain": [
       "'İrem Sude'"
      ]
     },
     "execution_count": 24,
     "metadata": {},
     "output_type": "execute_result"
    }
   ],
   "source": [
    "otherDictionary[\"Name\"]"
   ]
  },
  {
   "cell_type": "code",
   "execution_count": 25,
   "id": "6612528c",
   "metadata": {},
   "outputs": [
    {
     "data": {
      "text/plain": [
       "['Read a Book', 'Play Chess', 'Listening To Music']"
      ]
     },
     "execution_count": 25,
     "metadata": {},
     "output_type": "execute_result"
    }
   ],
   "source": [
    "otherDictionary[\"FavoriteActivity\"]"
   ]
  },
  {
   "cell_type": "code",
   "execution_count": 26,
   "id": "262c84e2",
   "metadata": {},
   "outputs": [
    {
     "data": {
      "text/plain": [
       "{'HerMother': 'Emine', 'HerFather': 'Salih', 'Sister': 'Meryem'}"
      ]
     },
     "execution_count": 26,
     "metadata": {},
     "output_type": "execute_result"
    }
   ],
   "source": [
    "otherDictionary[\"HerFamily\"]"
   ]
  },
  {
   "cell_type": "code",
   "execution_count": 27,
   "id": "c8092875",
   "metadata": {},
   "outputs": [
    {
     "data": {
      "text/plain": [
       "'Salih'"
      ]
     },
     "execution_count": 27,
     "metadata": {},
     "output_type": "execute_result"
    }
   ],
   "source": [
    "otherDictionary[\"HerFamily\"][\"HerFather\"]"
   ]
  },
  {
   "cell_type": "code",
   "execution_count": 28,
   "id": "fcf8df6e",
   "metadata": {},
   "outputs": [
    {
     "data": {
      "text/plain": [
       "'Demir'"
      ]
     },
     "execution_count": 28,
     "metadata": {},
     "output_type": "execute_result"
    }
   ],
   "source": [
    "otherDictionary[\"Surname\"]"
   ]
  },
  {
   "cell_type": "code",
   "execution_count": 29,
   "id": "9653b3d6",
   "metadata": {},
   "outputs": [
    {
     "data": {
      "text/plain": [
       "dict"
      ]
     },
     "execution_count": 29,
     "metadata": {},
     "output_type": "execute_result"
    }
   ],
   "source": [
    "type(otherDictionary)"
   ]
  },
  {
   "cell_type": "code",
   "execution_count": null,
   "id": "4cd7790d",
   "metadata": {},
   "outputs": [],
   "source": []
  }
 ],
 "metadata": {
  "kernelspec": {
   "display_name": "Python 3 (ipykernel)",
   "language": "python",
   "name": "python3"
  },
  "language_info": {
   "codemirror_mode": {
    "name": "ipython",
    "version": 3
   },
   "file_extension": ".py",
   "mimetype": "text/x-python",
   "name": "python",
   "nbconvert_exporter": "python",
   "pygments_lexer": "ipython3",
   "version": "3.11.4"
  }
 },
 "nbformat": 4,
 "nbformat_minor": 5
}
