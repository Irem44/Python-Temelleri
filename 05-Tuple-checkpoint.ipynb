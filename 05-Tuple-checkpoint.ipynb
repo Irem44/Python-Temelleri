{
 "cells": [
  {
   "cell_type": "markdown",
   "id": "f6ba4be5",
   "metadata": {},
   "source": [
    "**indeksleme var ama değiştirilemez!"
   ]
  },
  {
   "cell_type": "code",
   "execution_count": 3,
   "id": "907b2faa",
   "metadata": {},
   "outputs": [],
   "source": [
    "myTuple=(1,2,6,\"irem\")"
   ]
  },
  {
   "cell_type": "code",
   "execution_count": 5,
   "id": "0e5eef21",
   "metadata": {},
   "outputs": [
    {
     "data": {
      "text/plain": [
       "(1, 2, 6, 'irem')"
      ]
     },
     "execution_count": 5,
     "metadata": {},
     "output_type": "execute_result"
    }
   ],
   "source": [
    "myTuple"
   ]
  },
  {
   "cell_type": "code",
   "execution_count": 7,
   "id": "3d0d419b",
   "metadata": {},
   "outputs": [],
   "source": [
    "#myTuple[0]=20"
   ]
  },
  {
   "cell_type": "code",
   "execution_count": 8,
   "id": "b071a69b",
   "metadata": {},
   "outputs": [
    {
     "data": {
      "text/plain": [
       "1"
      ]
     },
     "execution_count": 8,
     "metadata": {},
     "output_type": "execute_result"
    }
   ],
   "source": [
    "myTuple.count(2)"
   ]
  },
  {
   "cell_type": "code",
   "execution_count": 9,
   "id": "b613d365",
   "metadata": {},
   "outputs": [
    {
     "data": {
      "text/plain": [
       "3"
      ]
     },
     "execution_count": 9,
     "metadata": {},
     "output_type": "execute_result"
    }
   ],
   "source": [
    "myTuple.index(\"irem\")"
   ]
  },
  {
   "cell_type": "code",
   "execution_count": null,
   "id": "cf5e3978",
   "metadata": {},
   "outputs": [],
   "source": []
  }
 ],
 "metadata": {
  "kernelspec": {
   "display_name": "Python 3 (ipykernel)",
   "language": "python",
   "name": "python3"
  },
  "language_info": {
   "codemirror_mode": {
    "name": "ipython",
    "version": 3
   },
   "file_extension": ".py",
   "mimetype": "text/x-python",
   "name": "python",
   "nbconvert_exporter": "python",
   "pygments_lexer": "ipython3",
   "version": "3.11.4"
  }
 },
 "nbformat": 4,
 "nbformat_minor": 5
}
