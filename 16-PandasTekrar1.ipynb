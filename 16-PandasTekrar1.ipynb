{
 "cells": [
  {
   "cell_type": "markdown",
   "id": "23793d5e",
   "metadata": {},
   "source": [
    "*Pandas series yapısı vardır indisler ile beraber verileri verir indisleri biz belirleyebiliriz."
   ]
  },
  {
   "cell_type": "code",
   "execution_count": 1,
   "id": "f998aa69",
   "metadata": {},
   "outputs": [],
   "source": [
    "import numpy as np\n",
    "import pandas as pd"
   ]
  },
  {
   "cell_type": "markdown",
   "id": "1e6e30db",
   "metadata": {},
   "source": [
    "** Bir sözlük oluşturlım ve bunu serilere dönüştürelim."
   ]
  },
  {
   "cell_type": "code",
   "execution_count": 2,
   "id": "a7e326eb",
   "metadata": {},
   "outputs": [],
   "source": [
    "myDictionary={'irem':21,'Nazlı':13,'Hakan':30,'Sude':20}"
   ]
  },
  {
   "cell_type": "code",
   "execution_count": 5,
   "id": "8f779b80",
   "metadata": {},
   "outputs": [
    {
     "data": {
      "text/plain": [
       "{'irem': 21, 'Nazlı': 13, 'Hakan': 30, 'Sude': 20}"
      ]
     },
     "execution_count": 5,
     "metadata": {},
     "output_type": "execute_result"
    }
   ],
   "source": [
    "myDictionary"
   ]
  },
  {
   "cell_type": "code",
   "execution_count": 6,
   "id": "5f6c043f",
   "metadata": {},
   "outputs": [],
   "source": [
    "mySeries=pd.Series(myDictionary)"
   ]
  },
  {
   "cell_type": "code",
   "execution_count": 7,
   "id": "c0187f3a",
   "metadata": {},
   "outputs": [
    {
     "data": {
      "text/plain": [
       "irem     21\n",
       "Nazlı    13\n",
       "Hakan    30\n",
       "Sude     20\n",
       "dtype: int64"
      ]
     },
     "execution_count": 7,
     "metadata": {},
     "output_type": "execute_result"
    }
   ],
   "source": [
    "mySeries"
   ]
  },
  {
   "cell_type": "markdown",
   "id": "e5120578",
   "metadata": {},
   "source": [
    "** Şimdide bir liste oluşturalım ve onu serilere dönüştürelim.\n"
   ]
  },
  {
   "cell_type": "code",
   "execution_count": 11,
   "id": "5ecf3d5f",
   "metadata": {},
   "outputs": [],
   "source": [
    "myList=[100,200,300,400,500,600]"
   ]
  },
  {
   "cell_type": "code",
   "execution_count": 12,
   "id": "d0ccca27",
   "metadata": {},
   "outputs": [
    {
     "data": {
      "text/plain": [
       "[100, 200, 300, 400, 500, 600]"
      ]
     },
     "execution_count": 12,
     "metadata": {},
     "output_type": "execute_result"
    }
   ],
   "source": [
    "myList"
   ]
  },
  {
   "cell_type": "code",
   "execution_count": 13,
   "id": "be0713c6",
   "metadata": {},
   "outputs": [],
   "source": [
    "myListSeries=pd.Series(myList)"
   ]
  },
  {
   "cell_type": "code",
   "execution_count": 14,
   "id": "9e607b11",
   "metadata": {},
   "outputs": [
    {
     "data": {
      "text/plain": [
       "0    100\n",
       "1    200\n",
       "2    300\n",
       "3    400\n",
       "4    500\n",
       "5    600\n",
       "dtype: int64"
      ]
     },
     "execution_count": 14,
     "metadata": {},
     "output_type": "execute_result"
    }
   ],
   "source": [
    "myListSeries"
   ]
  },
  {
   "cell_type": "code",
   "execution_count": 15,
   "id": "f5096ad0",
   "metadata": {},
   "outputs": [],
   "source": [
    "myListPrice=[\"Çanta\",\"Ayakkabı\",\"Sweet\",\"Pantolon\",\"Şapka\",\"Takı\"]"
   ]
  },
  {
   "cell_type": "code",
   "execution_count": 18,
   "id": "3f9482df",
   "metadata": {},
   "outputs": [],
   "source": [
    "myWholeSeries=pd.Series(data=myList,index=myListPrice)"
   ]
  },
  {
   "cell_type": "markdown",
   "id": "7d77e119",
   "metadata": {},
   "source": [
    "** Yukarıda parantez içine data ve index ile eşitlenmeyebilirdi.(myList,MyListPrice)"
   ]
  },
  {
   "cell_type": "code",
   "execution_count": 20,
   "id": "6aa853eb",
   "metadata": {},
   "outputs": [
    {
     "data": {
      "text/plain": [
       "Çanta       100\n",
       "Ayakkabı    200\n",
       "Sweet       300\n",
       "Pantolon    400\n",
       "Şapka       500\n",
       "Takı        600\n",
       "dtype: int64"
      ]
     },
     "execution_count": 20,
     "metadata": {},
     "output_type": "execute_result"
    }
   ],
   "source": [
    "myWholeSeries"
   ]
  },
  {
   "cell_type": "markdown",
   "id": "70806127",
   "metadata": {},
   "source": [
    "** Serileri kendi aralarında toplayabiliriz."
   ]
  },
  {
   "cell_type": "code",
   "execution_count": 21,
   "id": "e33a9333",
   "metadata": {},
   "outputs": [],
   "source": [
    "race1=pd.Series([10,5,6],[\"Ali\",\"Ahmet\",\"Mehmet\"])"
   ]
  },
  {
   "cell_type": "code",
   "execution_count": 22,
   "id": "316fdd0d",
   "metadata": {},
   "outputs": [],
   "source": [
    "race2=pd.Series([8,7,7],[\"Ali\",\"Ahmet\",\"Mehmet\"])"
   ]
  },
  {
   "cell_type": "code",
   "execution_count": 23,
   "id": "071e32ef",
   "metadata": {},
   "outputs": [],
   "source": [
    "endResault=race1+race2"
   ]
  },
  {
   "cell_type": "code",
   "execution_count": 24,
   "id": "1e2cb706",
   "metadata": {},
   "outputs": [
    {
     "data": {
      "text/plain": [
       "Ali       18\n",
       "Ahmet     12\n",
       "Mehmet    13\n",
       "dtype: int64"
      ]
     },
     "execution_count": 24,
     "metadata": {},
     "output_type": "execute_result"
    }
   ],
   "source": [
    "endResault"
   ]
  },
  {
   "cell_type": "markdown",
   "id": "76161816",
   "metadata": {},
   "source": [
    "** Peki iki seri tam eşleşemeseydi?"
   ]
  },
  {
   "cell_type": "code",
   "execution_count": 26,
   "id": "986be07c",
   "metadata": {},
   "outputs": [],
   "source": [
    "schoolPoint1=pd.Series([100,75,84],[\"Ali\",\"Ahmet\",\"Zeynep\"])"
   ]
  },
  {
   "cell_type": "code",
   "execution_count": 28,
   "id": "d58e3888",
   "metadata": {},
   "outputs": [],
   "source": [
    "schoolPoint2=pd.Series([100,98,96],[\"Ali\",\"Zeynep\",\"Fatma\"])"
   ]
  },
  {
   "cell_type": "code",
   "execution_count": 29,
   "id": "7289b85b",
   "metadata": {},
   "outputs": [
    {
     "data": {
      "text/plain": [
       "Ali       100\n",
       "Ahmet      75\n",
       "Zeynep     84\n",
       "dtype: int64"
      ]
     },
     "execution_count": 29,
     "metadata": {},
     "output_type": "execute_result"
    }
   ],
   "source": [
    "schoolPoint1"
   ]
  },
  {
   "cell_type": "code",
   "execution_count": 30,
   "id": "8bfb92f8",
   "metadata": {},
   "outputs": [
    {
     "data": {
      "text/plain": [
       "Ali       100\n",
       "Zeynep     98\n",
       "Fatma      96\n",
       "dtype: int64"
      ]
     },
     "execution_count": 30,
     "metadata": {},
     "output_type": "execute_result"
    }
   ],
   "source": [
    "schoolPoint2"
   ]
  },
  {
   "cell_type": "code",
   "execution_count": 31,
   "id": "ef29e01d",
   "metadata": {},
   "outputs": [],
   "source": [
    "pointResault=schoolPoint2+schoolPoint1"
   ]
  },
  {
   "cell_type": "code",
   "execution_count": 32,
   "id": "5c980a5a",
   "metadata": {},
   "outputs": [
    {
     "data": {
      "text/plain": [
       "Ahmet       NaN\n",
       "Ali       200.0\n",
       "Fatma       NaN\n",
       "Zeynep    182.0\n",
       "dtype: float64"
      ]
     },
     "execution_count": 32,
     "metadata": {},
     "output_type": "execute_result"
    }
   ],
   "source": [
    "pointResault"
   ]
  },
  {
   "cell_type": "markdown",
   "id": "35efa370",
   "metadata": {},
   "source": [
    "** Sonuç olarak her iki listede de ortak olanları topladı diğerlerine nan döndürdü."
   ]
  },
  {
   "cell_type": "markdown",
   "id": "ee507957",
   "metadata": {},
   "source": [
    "## DataFrame"
   ]
  },
  {
   "cell_type": "markdown",
   "id": "dd7d88bd",
   "metadata": {},
   "source": [
    "** Serilerin yan yana gelerek oluşturduğu bir excel tablosu olarak düşünülebilir."
   ]
  },
  {
   "cell_type": "markdown",
   "id": "0aa13d85",
   "metadata": {},
   "source": [
    "** (4,3) lük bir matris oluşturmak için numpy kütüphanesini kullanıcam."
   ]
  },
  {
   "cell_type": "code",
   "execution_count": 37,
   "id": "90b86a68",
   "metadata": {},
   "outputs": [],
   "source": [
    "data=np.random.randn(4,3)"
   ]
  },
  {
   "cell_type": "code",
   "execution_count": 34,
   "id": "0d7f512c",
   "metadata": {},
   "outputs": [
    {
     "data": {
      "text/plain": [
       "array([[-1.01584639,  1.24330472, -0.04008596],\n",
       "       [ 1.02407343, -0.00676416,  0.35209661],\n",
       "       [-3.16912145,  1.02619356,  2.41090789],\n",
       "       [-0.54702272, -0.29219994, -0.37399285]])"
      ]
     },
     "execution_count": 34,
     "metadata": {},
     "output_type": "execute_result"
    }
   ],
   "source": [
    "data"
   ]
  },
  {
   "cell_type": "markdown",
   "id": "965eeb70",
   "metadata": {},
   "source": [
    "** Şimdi bu data yı bir excel tablosunda gibi göstericeğiz."
   ]
  },
  {
   "cell_type": "code",
   "execution_count": 38,
   "id": "2621eb13",
   "metadata": {},
   "outputs": [],
   "source": [
    "dataFrame=pd.DataFrame(data)"
   ]
  },
  {
   "cell_type": "code",
   "execution_count": 39,
   "id": "f19f42dd",
   "metadata": {},
   "outputs": [
    {
     "data": {
      "text/html": [
       "<div>\n",
       "<style scoped>\n",
       "    .dataframe tbody tr th:only-of-type {\n",
       "        vertical-align: middle;\n",
       "    }\n",
       "\n",
       "    .dataframe tbody tr th {\n",
       "        vertical-align: top;\n",
       "    }\n",
       "\n",
       "    .dataframe thead th {\n",
       "        text-align: right;\n",
       "    }\n",
       "</style>\n",
       "<table border=\"1\" class=\"dataframe\">\n",
       "  <thead>\n",
       "    <tr style=\"text-align: right;\">\n",
       "      <th></th>\n",
       "      <th>0</th>\n",
       "      <th>1</th>\n",
       "      <th>2</th>\n",
       "    </tr>\n",
       "  </thead>\n",
       "  <tbody>\n",
       "    <tr>\n",
       "      <th>0</th>\n",
       "      <td>2.060362</td>\n",
       "      <td>-0.371661</td>\n",
       "      <td>1.392296</td>\n",
       "    </tr>\n",
       "    <tr>\n",
       "      <th>1</th>\n",
       "      <td>0.919978</td>\n",
       "      <td>-0.934058</td>\n",
       "      <td>-1.891480</td>\n",
       "    </tr>\n",
       "    <tr>\n",
       "      <th>2</th>\n",
       "      <td>-0.164291</td>\n",
       "      <td>0.599067</td>\n",
       "      <td>-1.595310</td>\n",
       "    </tr>\n",
       "    <tr>\n",
       "      <th>3</th>\n",
       "      <td>-0.357909</td>\n",
       "      <td>2.616952</td>\n",
       "      <td>1.089889</td>\n",
       "    </tr>\n",
       "  </tbody>\n",
       "</table>\n",
       "</div>"
      ],
      "text/plain": [
       "          0         1         2\n",
       "0  2.060362 -0.371661  1.392296\n",
       "1  0.919978 -0.934058 -1.891480\n",
       "2 -0.164291  0.599067 -1.595310\n",
       "3 -0.357909  2.616952  1.089889"
      ]
     },
     "execution_count": 39,
     "metadata": {},
     "output_type": "execute_result"
    }
   ],
   "source": [
    "dataFrame"
   ]
  },
  {
   "cell_type": "code",
   "execution_count": 40,
   "id": "aaf74d78",
   "metadata": {},
   "outputs": [
    {
     "data": {
      "text/plain": [
       "0    2.060362\n",
       "1    0.919978\n",
       "2   -0.164291\n",
       "3   -0.357909\n",
       "Name: 0, dtype: float64"
      ]
     },
     "execution_count": 40,
     "metadata": {},
     "output_type": "execute_result"
    }
   ],
   "source": [
    "dataFrame[0]"
   ]
  },
  {
   "cell_type": "markdown",
   "id": "7ceabcb1",
   "metadata": {},
   "source": [
    "** Bu şekilde 0. indisi istediğimizde bize sütundaki 0. indisin hepsini getirir.Peki 0.satırı istersek."
   ]
  },
  {
   "cell_type": "code",
   "execution_count": 42,
   "id": "ed5b489a",
   "metadata": {},
   "outputs": [],
   "source": [
    "newDataFrame=pd.DataFrame(data,index=[\"Ali\",\"Zeynep\",\"Çağla\",\"Nazım\"],columns=[\"Maaş\",\"Yaş\",\"Tecrübe\"])"
   ]
  },
  {
   "cell_type": "code",
   "execution_count": 43,
   "id": "13f80b07",
   "metadata": {},
   "outputs": [
    {
     "data": {
      "text/html": [
       "<div>\n",
       "<style scoped>\n",
       "    .dataframe tbody tr th:only-of-type {\n",
       "        vertical-align: middle;\n",
       "    }\n",
       "\n",
       "    .dataframe tbody tr th {\n",
       "        vertical-align: top;\n",
       "    }\n",
       "\n",
       "    .dataframe thead th {\n",
       "        text-align: right;\n",
       "    }\n",
       "</style>\n",
       "<table border=\"1\" class=\"dataframe\">\n",
       "  <thead>\n",
       "    <tr style=\"text-align: right;\">\n",
       "      <th></th>\n",
       "      <th>Maaş</th>\n",
       "      <th>Yaş</th>\n",
       "      <th>Tecrübe</th>\n",
       "    </tr>\n",
       "  </thead>\n",
       "  <tbody>\n",
       "    <tr>\n",
       "      <th>Ali</th>\n",
       "      <td>2.060362</td>\n",
       "      <td>-0.371661</td>\n",
       "      <td>1.392296</td>\n",
       "    </tr>\n",
       "    <tr>\n",
       "      <th>Zeynep</th>\n",
       "      <td>0.919978</td>\n",
       "      <td>-0.934058</td>\n",
       "      <td>-1.891480</td>\n",
       "    </tr>\n",
       "    <tr>\n",
       "      <th>Çağla</th>\n",
       "      <td>-0.164291</td>\n",
       "      <td>0.599067</td>\n",
       "      <td>-1.595310</td>\n",
       "    </tr>\n",
       "    <tr>\n",
       "      <th>Nazım</th>\n",
       "      <td>-0.357909</td>\n",
       "      <td>2.616952</td>\n",
       "      <td>1.089889</td>\n",
       "    </tr>\n",
       "  </tbody>\n",
       "</table>\n",
       "</div>"
      ],
      "text/plain": [
       "            Maaş       Yaş   Tecrübe\n",
       "Ali     2.060362 -0.371661  1.392296\n",
       "Zeynep  0.919978 -0.934058 -1.891480\n",
       "Çağla  -0.164291  0.599067 -1.595310\n",
       "Nazım  -0.357909  2.616952  1.089889"
      ]
     },
     "execution_count": 43,
     "metadata": {},
     "output_type": "execute_result"
    }
   ],
   "source": [
    "newDataFrame"
   ]
  },
  {
   "cell_type": "code",
   "execution_count": 44,
   "id": "eec5510d",
   "metadata": {},
   "outputs": [
    {
     "data": {
      "text/plain": [
       "Ali       2.060362\n",
       "Zeynep    0.919978\n",
       "Çağla    -0.164291\n",
       "Nazım    -0.357909\n",
       "Name: Maaş, dtype: float64"
      ]
     },
     "execution_count": 44,
     "metadata": {},
     "output_type": "execute_result"
    }
   ],
   "source": [
    "newDataFrame[\"Maaş\"]"
   ]
  },
  {
   "cell_type": "code",
   "execution_count": 47,
   "id": "26477765",
   "metadata": {},
   "outputs": [
    {
     "data": {
      "text/plain": [
       "Maaş       0.919978\n",
       "Yaş       -0.934058\n",
       "Tecrübe   -1.891480\n",
       "Name: Zeynep, dtype: float64"
      ]
     },
     "execution_count": 47,
     "metadata": {},
     "output_type": "execute_result"
    }
   ],
   "source": [
    "newDataFrame.loc[\"Zeynep\"]"
   ]
  },
  {
   "cell_type": "markdown",
   "id": "3a038a2f",
   "metadata": {},
   "source": [
    "** Aynı zamanda indeks numarasına görede çağırabilirsin."
   ]
  },
  {
   "cell_type": "code",
   "execution_count": 48,
   "id": "99168fb6",
   "metadata": {},
   "outputs": [
    {
     "data": {
      "text/plain": [
       "Maaş       0.919978\n",
       "Yaş       -0.934058\n",
       "Tecrübe   -1.891480\n",
       "Name: Zeynep, dtype: float64"
      ]
     },
     "execution_count": 48,
     "metadata": {},
     "output_type": "execute_result"
    }
   ],
   "source": [
    "newDataFrame.iloc[1]"
   ]
  },
  {
   "cell_type": "markdown",
   "id": "3c37e399",
   "metadata": {},
   "source": [
    "** Yeni bir sütun eklemek istersek!!"
   ]
  },
  {
   "cell_type": "code",
   "execution_count": 49,
   "id": "1f1b0fdd",
   "metadata": {},
   "outputs": [],
   "source": [
    "newDataFrame[\"İkramiye\"]=[100,200,300,400]"
   ]
  },
  {
   "cell_type": "code",
   "execution_count": 51,
   "id": "0677ec24",
   "metadata": {},
   "outputs": [
    {
     "data": {
      "text/html": [
       "<div>\n",
       "<style scoped>\n",
       "    .dataframe tbody tr th:only-of-type {\n",
       "        vertical-align: middle;\n",
       "    }\n",
       "\n",
       "    .dataframe tbody tr th {\n",
       "        vertical-align: top;\n",
       "    }\n",
       "\n",
       "    .dataframe thead th {\n",
       "        text-align: right;\n",
       "    }\n",
       "</style>\n",
       "<table border=\"1\" class=\"dataframe\">\n",
       "  <thead>\n",
       "    <tr style=\"text-align: right;\">\n",
       "      <th></th>\n",
       "      <th>Maaş</th>\n",
       "      <th>Yaş</th>\n",
       "      <th>Tecrübe</th>\n",
       "      <th>İkramiye</th>\n",
       "    </tr>\n",
       "  </thead>\n",
       "  <tbody>\n",
       "    <tr>\n",
       "      <th>Ali</th>\n",
       "      <td>2.060362</td>\n",
       "      <td>-0.371661</td>\n",
       "      <td>1.392296</td>\n",
       "      <td>100</td>\n",
       "    </tr>\n",
       "    <tr>\n",
       "      <th>Zeynep</th>\n",
       "      <td>0.919978</td>\n",
       "      <td>-0.934058</td>\n",
       "      <td>-1.891480</td>\n",
       "      <td>200</td>\n",
       "    </tr>\n",
       "    <tr>\n",
       "      <th>Çağla</th>\n",
       "      <td>-0.164291</td>\n",
       "      <td>0.599067</td>\n",
       "      <td>-1.595310</td>\n",
       "      <td>300</td>\n",
       "    </tr>\n",
       "    <tr>\n",
       "      <th>Nazım</th>\n",
       "      <td>-0.357909</td>\n",
       "      <td>2.616952</td>\n",
       "      <td>1.089889</td>\n",
       "      <td>400</td>\n",
       "    </tr>\n",
       "  </tbody>\n",
       "</table>\n",
       "</div>"
      ],
      "text/plain": [
       "            Maaş       Yaş   Tecrübe  İkramiye\n",
       "Ali     2.060362 -0.371661  1.392296       100\n",
       "Zeynep  0.919978 -0.934058 -1.891480       200\n",
       "Çağla  -0.164291  0.599067 -1.595310       300\n",
       "Nazım  -0.357909  2.616952  1.089889       400"
      ]
     },
     "execution_count": 51,
     "metadata": {},
     "output_type": "execute_result"
    }
   ],
   "source": [
    "newDataFrame"
   ]
  },
  {
   "cell_type": "markdown",
   "id": "7be8b467",
   "metadata": {},
   "source": [
    "** sütunu çıkarmak istersek."
   ]
  },
  {
   "cell_type": "code",
   "execution_count": 52,
   "id": "afbf4fb2",
   "metadata": {},
   "outputs": [
    {
     "data": {
      "text/html": [
       "<div>\n",
       "<style scoped>\n",
       "    .dataframe tbody tr th:only-of-type {\n",
       "        vertical-align: middle;\n",
       "    }\n",
       "\n",
       "    .dataframe tbody tr th {\n",
       "        vertical-align: top;\n",
       "    }\n",
       "\n",
       "    .dataframe thead th {\n",
       "        text-align: right;\n",
       "    }\n",
       "</style>\n",
       "<table border=\"1\" class=\"dataframe\">\n",
       "  <thead>\n",
       "    <tr style=\"text-align: right;\">\n",
       "      <th></th>\n",
       "      <th>Maaş</th>\n",
       "      <th>Yaş</th>\n",
       "      <th>Tecrübe</th>\n",
       "    </tr>\n",
       "  </thead>\n",
       "  <tbody>\n",
       "    <tr>\n",
       "      <th>Ali</th>\n",
       "      <td>2.060362</td>\n",
       "      <td>-0.371661</td>\n",
       "      <td>1.392296</td>\n",
       "    </tr>\n",
       "    <tr>\n",
       "      <th>Zeynep</th>\n",
       "      <td>0.919978</td>\n",
       "      <td>-0.934058</td>\n",
       "      <td>-1.891480</td>\n",
       "    </tr>\n",
       "    <tr>\n",
       "      <th>Çağla</th>\n",
       "      <td>-0.164291</td>\n",
       "      <td>0.599067</td>\n",
       "      <td>-1.595310</td>\n",
       "    </tr>\n",
       "    <tr>\n",
       "      <th>Nazım</th>\n",
       "      <td>-0.357909</td>\n",
       "      <td>2.616952</td>\n",
       "      <td>1.089889</td>\n",
       "    </tr>\n",
       "  </tbody>\n",
       "</table>\n",
       "</div>"
      ],
      "text/plain": [
       "            Maaş       Yaş   Tecrübe\n",
       "Ali     2.060362 -0.371661  1.392296\n",
       "Zeynep  0.919978 -0.934058 -1.891480\n",
       "Çağla  -0.164291  0.599067 -1.595310\n",
       "Nazım  -0.357909  2.616952  1.089889"
      ]
     },
     "execution_count": 52,
     "metadata": {},
     "output_type": "execute_result"
    }
   ],
   "source": [
    "newDataFrame.drop(\"İkramiye\",axis=1)"
   ]
  },
  {
   "cell_type": "markdown",
   "id": "d3a546e0",
   "metadata": {},
   "source": [
    "** axis eksen demektir axis=0 olursa  satır ekseni demektir.\n",
    "** axis=1 derse bu sütun ekseni demektir."
   ]
  },
  {
   "cell_type": "markdown",
   "id": "cb8a6a00",
   "metadata": {},
   "source": [
    "** Kalıcı değildir bu şekilde bu yüzden  \"INPLACE\" kullanmamız lazım."
   ]
  },
  {
   "cell_type": "code",
   "execution_count": 54,
   "id": "a29365e0",
   "metadata": {},
   "outputs": [
    {
     "data": {
      "text/html": [
       "<div>\n",
       "<style scoped>\n",
       "    .dataframe tbody tr th:only-of-type {\n",
       "        vertical-align: middle;\n",
       "    }\n",
       "\n",
       "    .dataframe tbody tr th {\n",
       "        vertical-align: top;\n",
       "    }\n",
       "\n",
       "    .dataframe thead th {\n",
       "        text-align: right;\n",
       "    }\n",
       "</style>\n",
       "<table border=\"1\" class=\"dataframe\">\n",
       "  <thead>\n",
       "    <tr style=\"text-align: right;\">\n",
       "      <th></th>\n",
       "      <th>Maaş</th>\n",
       "      <th>Yaş</th>\n",
       "      <th>Tecrübe</th>\n",
       "      <th>İkramiye</th>\n",
       "    </tr>\n",
       "  </thead>\n",
       "  <tbody>\n",
       "    <tr>\n",
       "      <th>Ali</th>\n",
       "      <td>2.060362</td>\n",
       "      <td>-0.371661</td>\n",
       "      <td>1.392296</td>\n",
       "      <td>100</td>\n",
       "    </tr>\n",
       "    <tr>\n",
       "      <th>Zeynep</th>\n",
       "      <td>0.919978</td>\n",
       "      <td>-0.934058</td>\n",
       "      <td>-1.891480</td>\n",
       "      <td>200</td>\n",
       "    </tr>\n",
       "    <tr>\n",
       "      <th>Çağla</th>\n",
       "      <td>-0.164291</td>\n",
       "      <td>0.599067</td>\n",
       "      <td>-1.595310</td>\n",
       "      <td>300</td>\n",
       "    </tr>\n",
       "    <tr>\n",
       "      <th>Nazım</th>\n",
       "      <td>-0.357909</td>\n",
       "      <td>2.616952</td>\n",
       "      <td>1.089889</td>\n",
       "      <td>400</td>\n",
       "    </tr>\n",
       "  </tbody>\n",
       "</table>\n",
       "</div>"
      ],
      "text/plain": [
       "            Maaş       Yaş   Tecrübe  İkramiye\n",
       "Ali     2.060362 -0.371661  1.392296       100\n",
       "Zeynep  0.919978 -0.934058 -1.891480       200\n",
       "Çağla  -0.164291  0.599067 -1.595310       300\n",
       "Nazım  -0.357909  2.616952  1.089889       400"
      ]
     },
     "execution_count": 54,
     "metadata": {},
     "output_type": "execute_result"
    }
   ],
   "source": [
    "newDataFrame"
   ]
  },
  {
   "cell_type": "code",
   "execution_count": 55,
   "id": "ac62386b",
   "metadata": {},
   "outputs": [],
   "source": [
    "newDataFrame.drop(\"İkramiye\",axis=1,inplace=True)"
   ]
  },
  {
   "cell_type": "code",
   "execution_count": 56,
   "id": "645745fb",
   "metadata": {},
   "outputs": [
    {
     "data": {
      "text/html": [
       "<div>\n",
       "<style scoped>\n",
       "    .dataframe tbody tr th:only-of-type {\n",
       "        vertical-align: middle;\n",
       "    }\n",
       "\n",
       "    .dataframe tbody tr th {\n",
       "        vertical-align: top;\n",
       "    }\n",
       "\n",
       "    .dataframe thead th {\n",
       "        text-align: right;\n",
       "    }\n",
       "</style>\n",
       "<table border=\"1\" class=\"dataframe\">\n",
       "  <thead>\n",
       "    <tr style=\"text-align: right;\">\n",
       "      <th></th>\n",
       "      <th>Maaş</th>\n",
       "      <th>Yaş</th>\n",
       "      <th>Tecrübe</th>\n",
       "    </tr>\n",
       "  </thead>\n",
       "  <tbody>\n",
       "    <tr>\n",
       "      <th>Ali</th>\n",
       "      <td>2.060362</td>\n",
       "      <td>-0.371661</td>\n",
       "      <td>1.392296</td>\n",
       "    </tr>\n",
       "    <tr>\n",
       "      <th>Zeynep</th>\n",
       "      <td>0.919978</td>\n",
       "      <td>-0.934058</td>\n",
       "      <td>-1.891480</td>\n",
       "    </tr>\n",
       "    <tr>\n",
       "      <th>Çağla</th>\n",
       "      <td>-0.164291</td>\n",
       "      <td>0.599067</td>\n",
       "      <td>-1.595310</td>\n",
       "    </tr>\n",
       "    <tr>\n",
       "      <th>Nazım</th>\n",
       "      <td>-0.357909</td>\n",
       "      <td>2.616952</td>\n",
       "      <td>1.089889</td>\n",
       "    </tr>\n",
       "  </tbody>\n",
       "</table>\n",
       "</div>"
      ],
      "text/plain": [
       "            Maaş       Yaş   Tecrübe\n",
       "Ali     2.060362 -0.371661  1.392296\n",
       "Zeynep  0.919978 -0.934058 -1.891480\n",
       "Çağla  -0.164291  0.599067 -1.595310\n",
       "Nazım  -0.357909  2.616952  1.089889"
      ]
     },
     "execution_count": 56,
     "metadata": {},
     "output_type": "execute_result"
    }
   ],
   "source": [
    "newDataFrame"
   ]
  },
  {
   "cell_type": "markdown",
   "id": "096a8739",
   "metadata": {},
   "source": [
    "** Artık kalıcı olarak silindi!"
   ]
  },
  {
   "cell_type": "code",
   "execution_count": 57,
   "id": "0302acb5",
   "metadata": {},
   "outputs": [
    {
     "data": {
      "text/plain": [
       "2.060362017370175"
      ]
     },
     "execution_count": 57,
     "metadata": {},
     "output_type": "execute_result"
    }
   ],
   "source": [
    "newDataFrame.loc[\"Ali\"][\"Maaş\"]"
   ]
  },
  {
   "cell_type": "code",
   "execution_count": 58,
   "id": "902e86b2",
   "metadata": {},
   "outputs": [
    {
     "data": {
      "text/plain": [
       "2.060362017370175"
      ]
     },
     "execution_count": 58,
     "metadata": {},
     "output_type": "execute_result"
    }
   ],
   "source": [
    "newDataFrame.loc[\"Ali\",\"Maaş\"]"
   ]
  },
  {
   "cell_type": "code",
   "execution_count": 59,
   "id": "c8e94f36",
   "metadata": {},
   "outputs": [
    {
     "data": {
      "text/plain": [
       "2.060362017370175"
      ]
     },
     "execution_count": 59,
     "metadata": {},
     "output_type": "execute_result"
    }
   ],
   "source": [
    "newDataFrame[\"Maaş\"][\"Ali\"]"
   ]
  },
  {
   "cell_type": "code",
   "execution_count": 62,
   "id": "c443d470",
   "metadata": {},
   "outputs": [
    {
     "data": {
      "text/html": [
       "<div>\n",
       "<style scoped>\n",
       "    .dataframe tbody tr th:only-of-type {\n",
       "        vertical-align: middle;\n",
       "    }\n",
       "\n",
       "    .dataframe tbody tr th {\n",
       "        vertical-align: top;\n",
       "    }\n",
       "\n",
       "    .dataframe thead th {\n",
       "        text-align: right;\n",
       "    }\n",
       "</style>\n",
       "<table border=\"1\" class=\"dataframe\">\n",
       "  <thead>\n",
       "    <tr style=\"text-align: right;\">\n",
       "      <th></th>\n",
       "      <th>Maaş</th>\n",
       "      <th>Yaş</th>\n",
       "      <th>Tecrübe</th>\n",
       "    </tr>\n",
       "  </thead>\n",
       "  <tbody>\n",
       "    <tr>\n",
       "      <th>Ali</th>\n",
       "      <td>False</td>\n",
       "      <td>False</td>\n",
       "      <td>False</td>\n",
       "    </tr>\n",
       "    <tr>\n",
       "      <th>Zeynep</th>\n",
       "      <td>False</td>\n",
       "      <td>False</td>\n",
       "      <td>True</td>\n",
       "    </tr>\n",
       "    <tr>\n",
       "      <th>Çağla</th>\n",
       "      <td>False</td>\n",
       "      <td>False</td>\n",
       "      <td>True</td>\n",
       "    </tr>\n",
       "    <tr>\n",
       "      <th>Nazım</th>\n",
       "      <td>False</td>\n",
       "      <td>False</td>\n",
       "      <td>False</td>\n",
       "    </tr>\n",
       "  </tbody>\n",
       "</table>\n",
       "</div>"
      ],
      "text/plain": [
       "         Maaş    Yaş  Tecrübe\n",
       "Ali     False  False    False\n",
       "Zeynep  False  False     True\n",
       "Çağla   False  False     True\n",
       "Nazım   False  False    False"
      ]
     },
     "execution_count": 62,
     "metadata": {},
     "output_type": "execute_result"
    }
   ],
   "source": [
    "newDataFrame<-1"
   ]
  },
  {
   "cell_type": "code",
   "execution_count": 64,
   "id": "cfee9b06",
   "metadata": {},
   "outputs": [
    {
     "data": {
      "text/html": [
       "<div>\n",
       "<style scoped>\n",
       "    .dataframe tbody tr th:only-of-type {\n",
       "        vertical-align: middle;\n",
       "    }\n",
       "\n",
       "    .dataframe tbody tr th {\n",
       "        vertical-align: top;\n",
       "    }\n",
       "\n",
       "    .dataframe thead th {\n",
       "        text-align: right;\n",
       "    }\n",
       "</style>\n",
       "<table border=\"1\" class=\"dataframe\">\n",
       "  <thead>\n",
       "    <tr style=\"text-align: right;\">\n",
       "      <th></th>\n",
       "      <th>Maaş</th>\n",
       "      <th>Yaş</th>\n",
       "      <th>Tecrübe</th>\n",
       "    </tr>\n",
       "  </thead>\n",
       "  <tbody>\n",
       "    <tr>\n",
       "      <th>Ali</th>\n",
       "      <td>NaN</td>\n",
       "      <td>NaN</td>\n",
       "      <td>NaN</td>\n",
       "    </tr>\n",
       "    <tr>\n",
       "      <th>Zeynep</th>\n",
       "      <td>NaN</td>\n",
       "      <td>NaN</td>\n",
       "      <td>-1.89148</td>\n",
       "    </tr>\n",
       "    <tr>\n",
       "      <th>Çağla</th>\n",
       "      <td>NaN</td>\n",
       "      <td>NaN</td>\n",
       "      <td>-1.59531</td>\n",
       "    </tr>\n",
       "    <tr>\n",
       "      <th>Nazım</th>\n",
       "      <td>NaN</td>\n",
       "      <td>NaN</td>\n",
       "      <td>NaN</td>\n",
       "    </tr>\n",
       "  </tbody>\n",
       "</table>\n",
       "</div>"
      ],
      "text/plain": [
       "        Maaş  Yaş  Tecrübe\n",
       "Ali      NaN  NaN      NaN\n",
       "Zeynep   NaN  NaN -1.89148\n",
       "Çağla    NaN  NaN -1.59531\n",
       "Nazım    NaN  NaN      NaN"
      ]
     },
     "execution_count": 64,
     "metadata": {},
     "output_type": "execute_result"
    }
   ],
   "source": [
    "newDataFrame[newDataFrame<-1]"
   ]
  },
  {
   "cell_type": "code",
   "execution_count": 65,
   "id": "a08296a9",
   "metadata": {},
   "outputs": [
    {
     "data": {
      "text/html": [
       "<div>\n",
       "<style scoped>\n",
       "    .dataframe tbody tr th:only-of-type {\n",
       "        vertical-align: middle;\n",
       "    }\n",
       "\n",
       "    .dataframe tbody tr th {\n",
       "        vertical-align: top;\n",
       "    }\n",
       "\n",
       "    .dataframe thead th {\n",
       "        text-align: right;\n",
       "    }\n",
       "</style>\n",
       "<table border=\"1\" class=\"dataframe\">\n",
       "  <thead>\n",
       "    <tr style=\"text-align: right;\">\n",
       "      <th></th>\n",
       "      <th>Maaş</th>\n",
       "      <th>Yaş</th>\n",
       "      <th>Tecrübe</th>\n",
       "    </tr>\n",
       "  </thead>\n",
       "  <tbody>\n",
       "    <tr>\n",
       "      <th>Ali</th>\n",
       "      <td>False</td>\n",
       "      <td>True</td>\n",
       "      <td>False</td>\n",
       "    </tr>\n",
       "    <tr>\n",
       "      <th>Zeynep</th>\n",
       "      <td>False</td>\n",
       "      <td>True</td>\n",
       "      <td>True</td>\n",
       "    </tr>\n",
       "    <tr>\n",
       "      <th>Çağla</th>\n",
       "      <td>True</td>\n",
       "      <td>False</td>\n",
       "      <td>True</td>\n",
       "    </tr>\n",
       "    <tr>\n",
       "      <th>Nazım</th>\n",
       "      <td>True</td>\n",
       "      <td>False</td>\n",
       "      <td>False</td>\n",
       "    </tr>\n",
       "  </tbody>\n",
       "</table>\n",
       "</div>"
      ],
      "text/plain": [
       "         Maaş    Yaş  Tecrübe\n",
       "Ali     False   True    False\n",
       "Zeynep  False   True     True\n",
       "Çağla    True  False     True\n",
       "Nazım    True  False    False"
      ]
     },
     "execution_count": 65,
     "metadata": {},
     "output_type": "execute_result"
    }
   ],
   "source": [
    "newDataFrame<0"
   ]
  },
  {
   "cell_type": "code",
   "execution_count": 66,
   "id": "f2e0f3bf",
   "metadata": {},
   "outputs": [
    {
     "data": {
      "text/html": [
       "<div>\n",
       "<style scoped>\n",
       "    .dataframe tbody tr th:only-of-type {\n",
       "        vertical-align: middle;\n",
       "    }\n",
       "\n",
       "    .dataframe tbody tr th {\n",
       "        vertical-align: top;\n",
       "    }\n",
       "\n",
       "    .dataframe thead th {\n",
       "        text-align: right;\n",
       "    }\n",
       "</style>\n",
       "<table border=\"1\" class=\"dataframe\">\n",
       "  <thead>\n",
       "    <tr style=\"text-align: right;\">\n",
       "      <th></th>\n",
       "      <th>Maaş</th>\n",
       "      <th>Yaş</th>\n",
       "      <th>Tecrübe</th>\n",
       "    </tr>\n",
       "  </thead>\n",
       "  <tbody>\n",
       "    <tr>\n",
       "      <th>Ali</th>\n",
       "      <td>NaN</td>\n",
       "      <td>-0.371661</td>\n",
       "      <td>NaN</td>\n",
       "    </tr>\n",
       "    <tr>\n",
       "      <th>Zeynep</th>\n",
       "      <td>NaN</td>\n",
       "      <td>-0.934058</td>\n",
       "      <td>-1.89148</td>\n",
       "    </tr>\n",
       "    <tr>\n",
       "      <th>Çağla</th>\n",
       "      <td>-0.164291</td>\n",
       "      <td>NaN</td>\n",
       "      <td>-1.59531</td>\n",
       "    </tr>\n",
       "    <tr>\n",
       "      <th>Nazım</th>\n",
       "      <td>-0.357909</td>\n",
       "      <td>NaN</td>\n",
       "      <td>NaN</td>\n",
       "    </tr>\n",
       "  </tbody>\n",
       "</table>\n",
       "</div>"
      ],
      "text/plain": [
       "            Maaş       Yaş  Tecrübe\n",
       "Ali          NaN -0.371661      NaN\n",
       "Zeynep       NaN -0.934058 -1.89148\n",
       "Çağla  -0.164291       NaN -1.59531\n",
       "Nazım  -0.357909       NaN      NaN"
      ]
     },
     "execution_count": 66,
     "metadata": {},
     "output_type": "execute_result"
    }
   ],
   "source": [
    "newDataFrame[newDataFrame<0]"
   ]
  },
  {
   "cell_type": "code",
   "execution_count": 69,
   "id": "57f7a1be",
   "metadata": {},
   "outputs": [],
   "source": [
    "boolKnowledge=newDataFrame[\"Yaş\"]<0"
   ]
  },
  {
   "cell_type": "code",
   "execution_count": 70,
   "id": "7f60f334",
   "metadata": {},
   "outputs": [
    {
     "data": {
      "text/html": [
       "<div>\n",
       "<style scoped>\n",
       "    .dataframe tbody tr th:only-of-type {\n",
       "        vertical-align: middle;\n",
       "    }\n",
       "\n",
       "    .dataframe tbody tr th {\n",
       "        vertical-align: top;\n",
       "    }\n",
       "\n",
       "    .dataframe thead th {\n",
       "        text-align: right;\n",
       "    }\n",
       "</style>\n",
       "<table border=\"1\" class=\"dataframe\">\n",
       "  <thead>\n",
       "    <tr style=\"text-align: right;\">\n",
       "      <th></th>\n",
       "      <th>Maaş</th>\n",
       "      <th>Yaş</th>\n",
       "      <th>Tecrübe</th>\n",
       "    </tr>\n",
       "  </thead>\n",
       "  <tbody>\n",
       "    <tr>\n",
       "      <th>Ali</th>\n",
       "      <td>2.060362</td>\n",
       "      <td>-0.371661</td>\n",
       "      <td>1.392296</td>\n",
       "    </tr>\n",
       "    <tr>\n",
       "      <th>Zeynep</th>\n",
       "      <td>0.919978</td>\n",
       "      <td>-0.934058</td>\n",
       "      <td>-1.891480</td>\n",
       "    </tr>\n",
       "  </tbody>\n",
       "</table>\n",
       "</div>"
      ],
      "text/plain": [
       "            Maaş       Yaş   Tecrübe\n",
       "Ali     2.060362 -0.371661  1.392296\n",
       "Zeynep  0.919978 -0.934058 -1.891480"
      ]
     },
     "execution_count": 70,
     "metadata": {},
     "output_type": "execute_result"
    }
   ],
   "source": [
    "newDataFrame[boolKnowledge]"
   ]
  },
  {
   "cell_type": "code",
   "execution_count": 71,
   "id": "f0652f62",
   "metadata": {},
   "outputs": [],
   "source": [
    "boolKnowledge2=newDataFrame[\"Maaş\"]>2"
   ]
  },
  {
   "cell_type": "code",
   "execution_count": 72,
   "id": "b03f3f16",
   "metadata": {},
   "outputs": [
    {
     "data": {
      "text/html": [
       "<div>\n",
       "<style scoped>\n",
       "    .dataframe tbody tr th:only-of-type {\n",
       "        vertical-align: middle;\n",
       "    }\n",
       "\n",
       "    .dataframe tbody tr th {\n",
       "        vertical-align: top;\n",
       "    }\n",
       "\n",
       "    .dataframe thead th {\n",
       "        text-align: right;\n",
       "    }\n",
       "</style>\n",
       "<table border=\"1\" class=\"dataframe\">\n",
       "  <thead>\n",
       "    <tr style=\"text-align: right;\">\n",
       "      <th></th>\n",
       "      <th>Maaş</th>\n",
       "      <th>Yaş</th>\n",
       "      <th>Tecrübe</th>\n",
       "    </tr>\n",
       "  </thead>\n",
       "  <tbody>\n",
       "    <tr>\n",
       "      <th>Ali</th>\n",
       "      <td>2.060362</td>\n",
       "      <td>-0.371661</td>\n",
       "      <td>1.392296</td>\n",
       "    </tr>\n",
       "  </tbody>\n",
       "</table>\n",
       "</div>"
      ],
      "text/plain": [
       "         Maaş       Yaş   Tecrübe\n",
       "Ali  2.060362 -0.371661  1.392296"
      ]
     },
     "execution_count": 72,
     "metadata": {},
     "output_type": "execute_result"
    }
   ],
   "source": [
    "newDataFrame[boolKnowledge2]"
   ]
  },
  {
   "cell_type": "code",
   "execution_count": null,
   "id": "0cc97437",
   "metadata": {},
   "outputs": [],
   "source": []
  }
 ],
 "metadata": {
  "kernelspec": {
   "display_name": "Python 3 (ipykernel)",
   "language": "python",
   "name": "python3"
  },
  "language_info": {
   "codemirror_mode": {
    "name": "ipython",
    "version": 3
   },
   "file_extension": ".py",
   "mimetype": "text/x-python",
   "name": "python",
   "nbconvert_exporter": "python",
   "pygments_lexer": "ipython3",
   "version": "3.11.4"
  }
 },
 "nbformat": 4,
 "nbformat_minor": 5
}
