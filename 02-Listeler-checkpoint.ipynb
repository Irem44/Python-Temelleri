{
 "cells": [
  {
   "cell_type": "markdown",
   "id": "d2f09a06",
   "metadata": {},
   "source": [
    "##  Listeler"
   ]
  },
  {
   "cell_type": "code",
   "execution_count": 2,
   "id": "b6df98cb",
   "metadata": {},
   "outputs": [],
   "source": [
    "name=\"irem\"\n",
    "#name[0]=\"K\""
   ]
  },
  {
   "cell_type": "code",
   "execution_count": 3,
   "id": "81e77d54",
   "metadata": {},
   "outputs": [],
   "source": [
    "myList=[20,30,78,45]"
   ]
  },
  {
   "cell_type": "code",
   "execution_count": 4,
   "id": "889f0e79",
   "metadata": {},
   "outputs": [
    {
     "data": {
      "text/plain": [
       "list"
      ]
     },
     "execution_count": 4,
     "metadata": {},
     "output_type": "execute_result"
    }
   ],
   "source": [
    "type(myList)"
   ]
  },
  {
   "cell_type": "code",
   "execution_count": 5,
   "id": "6dd48b91",
   "metadata": {},
   "outputs": [
    {
     "data": {
      "text/plain": [
       "20"
      ]
     },
     "execution_count": 5,
     "metadata": {},
     "output_type": "execute_result"
    }
   ],
   "source": [
    "myList[0]"
   ]
  },
  {
   "cell_type": "code",
   "execution_count": 6,
   "id": "21094686",
   "metadata": {},
   "outputs": [],
   "source": [
    "myList[0]=100"
   ]
  },
  {
   "cell_type": "code",
   "execution_count": 7,
   "id": "296fe59d",
   "metadata": {},
   "outputs": [
    {
     "data": {
      "text/plain": [
       "[100, 30, 78, 45]"
      ]
     },
     "execution_count": 7,
     "metadata": {},
     "output_type": "execute_result"
    }
   ],
   "source": [
    "myList"
   ]
  },
  {
   "cell_type": "code",
   "execution_count": 8,
   "id": "b4f7d364",
   "metadata": {},
   "outputs": [],
   "source": [
    "herList=[45,30,45,96]"
   ]
  },
  {
   "cell_type": "markdown",
   "id": "3fdc7a93",
   "metadata": {},
   "source": [
    "nestedList=myList+herList"
   ]
  },
  {
   "cell_type": "code",
   "execution_count": 10,
   "id": "ed9a682b",
   "metadata": {},
   "outputs": [
    {
     "data": {
      "text/plain": [
       "[100, 30, 78, 45, 45, 30, 45, 96]"
      ]
     },
     "execution_count": 10,
     "metadata": {},
     "output_type": "execute_result"
    }
   ],
   "source": [
    "\n",
    "nestedList\n"
   ]
  },
  {
   "cell_type": "code",
   "execution_count": 11,
   "id": "90e449c0",
   "metadata": {},
   "outputs": [],
   "source": [
    "nestedList=herList+myList"
   ]
  },
  {
   "cell_type": "code",
   "execution_count": 12,
   "id": "72ce51e0",
   "metadata": {},
   "outputs": [
    {
     "data": {
      "text/plain": [
       "[45, 30, 45, 96, 100, 30, 78, 45]"
      ]
     },
     "execution_count": 12,
     "metadata": {},
     "output_type": "execute_result"
    }
   ],
   "source": [
    "nestedList"
   ]
  },
  {
   "cell_type": "markdown",
   "id": "3a705eb9",
   "metadata": {},
   "source": [
    "**append methodu ile liste sonuna eleman ekledik."
   ]
  },
  {
   "cell_type": "code",
   "execution_count": 13,
   "id": "b4050242",
   "metadata": {},
   "outputs": [],
   "source": [
    "nestedList.append(200)"
   ]
  },
  {
   "cell_type": "code",
   "execution_count": 14,
   "id": "1ce0013f",
   "metadata": {},
   "outputs": [
    {
     "data": {
      "text/plain": [
       "[45, 30, 45, 96, 100, 30, 78, 45, 200]"
      ]
     },
     "execution_count": 14,
     "metadata": {},
     "output_type": "execute_result"
    }
   ],
   "source": [
    "nestedList"
   ]
  },
  {
   "cell_type": "markdown",
   "id": "8df9f7ab",
   "metadata": {},
   "source": [
    "**pop() methodu liste sonundaki eleman çıkartılır."
   ]
  },
  {
   "cell_type": "code",
   "execution_count": 16,
   "id": "5c308f99",
   "metadata": {},
   "outputs": [
    {
     "data": {
      "text/plain": [
       "200"
      ]
     },
     "execution_count": 16,
     "metadata": {},
     "output_type": "execute_result"
    }
   ],
   "source": [
    "nestedList.pop()"
   ]
  },
  {
   "cell_type": "code",
   "execution_count": 19,
   "id": "9a5b0f36",
   "metadata": {},
   "outputs": [
    {
     "data": {
      "text/plain": [
       "[45, 30, 45, 96, 100, 30, 78, 45]"
      ]
     },
     "execution_count": 19,
     "metadata": {},
     "output_type": "execute_result"
    }
   ],
   "source": [
    "nestedList"
   ]
  },
  {
   "cell_type": "code",
   "execution_count": 20,
   "id": "e4b3e822",
   "metadata": {},
   "outputs": [
    {
     "data": {
      "text/plain": [
       "45"
      ]
     },
     "execution_count": 20,
     "metadata": {},
     "output_type": "execute_result"
    }
   ],
   "source": [
    "nestedList.pop()"
   ]
  },
  {
   "cell_type": "code",
   "execution_count": 21,
   "id": "012bcccf",
   "metadata": {},
   "outputs": [
    {
     "data": {
      "text/plain": [
       "[45, 30, 45, 96, 100, 30, 78]"
      ]
     },
     "execution_count": 21,
     "metadata": {},
     "output_type": "execute_result"
    }
   ],
   "source": [
    "nestedList"
   ]
  },
  {
   "cell_type": "markdown",
   "id": "d3d13c6e",
   "metadata": {},
   "source": [
    "**count() methodu parentex içine yazılan elemanın listede kaç tane olduğunu döndürür."
   ]
  },
  {
   "cell_type": "code",
   "execution_count": 22,
   "id": "e1addd81",
   "metadata": {},
   "outputs": [
    {
     "data": {
      "text/plain": [
       "2"
      ]
     },
     "execution_count": 22,
     "metadata": {},
     "output_type": "execute_result"
    }
   ],
   "source": [
    "nestedList.count(45)"
   ]
  },
  {
   "cell_type": "code",
   "execution_count": 23,
   "id": "83e5d6b6",
   "metadata": {},
   "outputs": [
    {
     "data": {
      "text/plain": [
       "2"
      ]
     },
     "execution_count": 23,
     "metadata": {},
     "output_type": "execute_result"
    }
   ],
   "source": [
    "nestedList.count(30)"
   ]
  },
  {
   "cell_type": "code",
   "execution_count": 25,
   "id": "8d9bc7bc",
   "metadata": {},
   "outputs": [
    {
     "data": {
      "text/plain": [
       "1"
      ]
     },
     "execution_count": 25,
     "metadata": {},
     "output_type": "execute_result"
    }
   ],
   "source": [
    "nestedList.count(96)"
   ]
  },
  {
   "cell_type": "code",
   "execution_count": 26,
   "id": "84dd5e16",
   "metadata": {},
   "outputs": [],
   "source": [
    "nestedList.remove(45)"
   ]
  },
  {
   "cell_type": "code",
   "execution_count": 27,
   "id": "4c617149",
   "metadata": {},
   "outputs": [
    {
     "data": {
      "text/plain": [
       "[30, 45, 96, 100, 30, 78]"
      ]
     },
     "execution_count": 27,
     "metadata": {},
     "output_type": "execute_result"
    }
   ],
   "source": [
    "nestedList\n"
   ]
  },
  {
   "cell_type": "code",
   "execution_count": 29,
   "id": "9b4948c4",
   "metadata": {},
   "outputs": [],
   "source": [
    "nestedList.remove(30)\n"
   ]
  },
  {
   "cell_type": "code",
   "execution_count": 30,
   "id": "87101f4d",
   "metadata": {},
   "outputs": [
    {
     "data": {
      "text/plain": [
       "[45, 96, 100, 30, 78]"
      ]
     },
     "execution_count": 30,
     "metadata": {},
     "output_type": "execute_result"
    }
   ],
   "source": [
    "nestedList"
   ]
  },
  {
   "cell_type": "markdown",
   "id": "418f85e8",
   "metadata": {},
   "source": [
    "**reverse() methodu ile listemi ters çeviriri."
   ]
  },
  {
   "cell_type": "code",
   "execution_count": 31,
   "id": "1f74b34d",
   "metadata": {},
   "outputs": [],
   "source": [
    "nestedList.reverse()"
   ]
  },
  {
   "cell_type": "code",
   "execution_count": 32,
   "id": "cad0ea7b",
   "metadata": {},
   "outputs": [
    {
     "data": {
      "text/plain": [
       "[78, 30, 100, 96, 45]"
      ]
     },
     "execution_count": 32,
     "metadata": {},
     "output_type": "execute_result"
    }
   ],
   "source": [
    "nestedList"
   ]
  },
  {
   "cell_type": "code",
   "execution_count": 33,
   "id": "fd66dbb6",
   "metadata": {},
   "outputs": [],
   "source": [
    "otherList=[15,78,[17,8,[1,2]],[\"a\",\"z\"]]"
   ]
  },
  {
   "cell_type": "code",
   "execution_count": 34,
   "id": "994eef50",
   "metadata": {},
   "outputs": [
    {
     "data": {
      "text/plain": [
       "2"
      ]
     },
     "execution_count": 34,
     "metadata": {},
     "output_type": "execute_result"
    }
   ],
   "source": [
    "otherList[2][2][1]"
   ]
  },
  {
   "cell_type": "code",
   "execution_count": 35,
   "id": "d6103554",
   "metadata": {},
   "outputs": [
    {
     "data": {
      "text/plain": [
       "['a', 'z']"
      ]
     },
     "execution_count": 35,
     "metadata": {},
     "output_type": "execute_result"
    }
   ],
   "source": [
    "otherList[3]"
   ]
  },
  {
   "cell_type": "code",
   "execution_count": 36,
   "id": "743f5dba",
   "metadata": {},
   "outputs": [
    {
     "data": {
      "text/plain": [
       "'z'"
      ]
     },
     "execution_count": 36,
     "metadata": {},
     "output_type": "execute_result"
    }
   ],
   "source": [
    "otherList[3][1]"
   ]
  },
  {
   "cell_type": "code",
   "execution_count": 37,
   "id": "6d563509",
   "metadata": {},
   "outputs": [
    {
     "data": {
      "text/plain": [
       "[['a', 'z']]"
      ]
     },
     "execution_count": 37,
     "metadata": {},
     "output_type": "execute_result"
    }
   ],
   "source": [
    "otherList[3:]"
   ]
  },
  {
   "cell_type": "code",
   "execution_count": 38,
   "id": "634e4020",
   "metadata": {},
   "outputs": [
    {
     "data": {
      "text/plain": [
       "[15, 78, [17, 8, [1, 2]]]"
      ]
     },
     "execution_count": 38,
     "metadata": {},
     "output_type": "execute_result"
    }
   ],
   "source": [
    "otherList[:3]"
   ]
  },
  {
   "cell_type": "code",
   "execution_count": 39,
   "id": "79a5f8d4",
   "metadata": {},
   "outputs": [
    {
     "data": {
      "text/plain": [
       "[['a', 'z'], [17, 8, [1, 2]], 78, 15]"
      ]
     },
     "execution_count": 39,
     "metadata": {},
     "output_type": "execute_result"
    }
   ],
   "source": [
    "otherList[::-1]"
   ]
  },
  {
   "cell_type": "markdown",
   "id": "ce08a495",
   "metadata": {},
   "source": [
    "**sort() methodu listemizi sıralar ama int ve string beraber sıralamaz stringler kendi arasında alfabetik sırada sıralanır."
   ]
  },
  {
   "cell_type": "code",
   "execution_count": 40,
   "id": "873ccb55",
   "metadata": {},
   "outputs": [],
   "source": [
    "nestedList.sort()"
   ]
  },
  {
   "cell_type": "code",
   "execution_count": 41,
   "id": "acfb06ce",
   "metadata": {},
   "outputs": [
    {
     "data": {
      "text/plain": [
       "[30, 45, 78, 96, 100]"
      ]
     },
     "execution_count": 41,
     "metadata": {},
     "output_type": "execute_result"
    }
   ],
   "source": [
    "nestedList"
   ]
  },
  {
   "cell_type": "code",
   "execution_count": 43,
   "id": "47413bfa",
   "metadata": {},
   "outputs": [],
   "source": [
    "#otherList.sort()"
   ]
  },
  {
   "cell_type": "code",
   "execution_count": 44,
   "id": "e1d39e8b",
   "metadata": {},
   "outputs": [],
   "source": [
    "strList=[\"irem\",\"sude\",\"demir\"]"
   ]
  },
  {
   "cell_type": "code",
   "execution_count": 45,
   "id": "a7d5ee60",
   "metadata": {},
   "outputs": [],
   "source": [
    "strList.sort()"
   ]
  },
  {
   "cell_type": "code",
   "execution_count": 47,
   "id": "d093e205",
   "metadata": {},
   "outputs": [
    {
     "data": {
      "text/plain": [
       "['demir', 'irem', 'sude']"
      ]
     },
     "execution_count": 47,
     "metadata": {},
     "output_type": "execute_result"
    }
   ],
   "source": [
    "strList"
   ]
  },
  {
   "cell_type": "code",
   "execution_count": null,
   "id": "acd685c6",
   "metadata": {},
   "outputs": [],
   "source": []
  }
 ],
 "metadata": {
  "kernelspec": {
   "display_name": "Python 3 (ipykernel)",
   "language": "python",
   "name": "python3"
  },
  "language_info": {
   "codemirror_mode": {
    "name": "ipython",
    "version": 3
   },
   "file_extension": ".py",
   "mimetype": "text/x-python",
   "name": "python",
   "nbconvert_exporter": "python",
   "pygments_lexer": "ipython3",
   "version": "3.11.4"
  }
 },
 "nbformat": 4,
 "nbformat_minor": 5
}
