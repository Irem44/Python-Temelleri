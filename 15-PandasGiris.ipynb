{
 "cells": [
  {
   "cell_type": "code",
   "execution_count": 1,
   "id": "69aa2e62",
   "metadata": {},
   "outputs": [],
   "source": [
    "import numpy as np\n",
    "import pandas as pd"
   ]
  },
  {
   "cell_type": "markdown",
   "id": "8a861dae",
   "metadata": {},
   "source": [
    "##  Series"
   ]
  },
  {
   "cell_type": "code",
   "execution_count": 2,
   "id": "faa1d5ec",
   "metadata": {},
   "outputs": [],
   "source": [
    "myDicitionary={\"İrem\":21,\"Zeynep\":35,\"Ali\":24,\"Zeynep\":12}"
   ]
  },
  {
   "cell_type": "code",
   "execution_count": 3,
   "id": "97476578",
   "metadata": {},
   "outputs": [
    {
     "data": {
      "text/plain": [
       "{'İrem': 21, 'Zeynep': 12, 'Ali': 24}"
      ]
     },
     "execution_count": 3,
     "metadata": {},
     "output_type": "execute_result"
    }
   ],
   "source": [
    "myDicitionary"
   ]
  },
  {
   "cell_type": "code",
   "execution_count": 4,
   "id": "9ef5cbc7",
   "metadata": {},
   "outputs": [
    {
     "data": {
      "text/plain": [
       "İrem      21\n",
       "Zeynep    12\n",
       "Ali       24\n",
       "dtype: int64"
      ]
     },
     "execution_count": 4,
     "metadata": {},
     "output_type": "execute_result"
    }
   ],
   "source": [
    "pd.Series(myDicitionary)"
   ]
  },
  {
   "cell_type": "code",
   "execution_count": 5,
   "id": "d9f80b69",
   "metadata": {},
   "outputs": [],
   "source": [
    "myList=[\"Armut\",\"Elma\",\"Üzüm\",\"Kiraz\",\"Erik\"]"
   ]
  },
  {
   "cell_type": "code",
   "execution_count": 6,
   "id": "3f7fd347",
   "metadata": {},
   "outputs": [
    {
     "data": {
      "text/plain": [
       "0    Armut\n",
       "1     Elma\n",
       "2     Üzüm\n",
       "3    Kiraz\n",
       "4     Erik\n",
       "dtype: object"
      ]
     },
     "execution_count": 6,
     "metadata": {},
     "output_type": "execute_result"
    }
   ],
   "source": [
    "pd.Series(myList)"
   ]
  },
  {
   "cell_type": "code",
   "execution_count": 7,
   "id": "aac1f2dc",
   "metadata": {},
   "outputs": [],
   "source": [
    "mySeries=pd.Series(data=myList,index=[\"1.kasa\",\"2.kasa\",\"3. kasa\",\"4.kasa\",\"5. kasa\"])"
   ]
  },
  {
   "cell_type": "code",
   "execution_count": 8,
   "id": "5e021d1d",
   "metadata": {},
   "outputs": [
    {
     "data": {
      "text/plain": [
       "1.kasa     Armut\n",
       "2.kasa      Elma\n",
       "3. kasa     Üzüm\n",
       "4.kasa     Kiraz\n",
       "5. kasa     Erik\n",
       "dtype: object"
      ]
     },
     "execution_count": 8,
     "metadata": {},
     "output_type": "execute_result"
    }
   ],
   "source": [
    "mySeries"
   ]
  },
  {
   "cell_type": "code",
   "execution_count": 9,
   "id": "96836b69",
   "metadata": {},
   "outputs": [],
   "source": [
    "yarismaSonucu1=pd.Series([10,20,30],[\"İrem\",\"Mehmet\",\"Zeynep\"])\n"
   ]
  },
  {
   "cell_type": "code",
   "execution_count": 10,
   "id": "69a0eab0",
   "metadata": {},
   "outputs": [],
   "source": [
    "yarismaSonucu2=pd.Series([15,23,10],[\"İrem\",\"Mehmet\",\"Zeynep\"])"
   ]
  },
  {
   "cell_type": "code",
   "execution_count": 11,
   "id": "16cb143e",
   "metadata": {},
   "outputs": [
    {
     "data": {
      "text/plain": [
       "İrem      10\n",
       "Mehmet    20\n",
       "Zeynep    30\n",
       "dtype: int64"
      ]
     },
     "execution_count": 11,
     "metadata": {},
     "output_type": "execute_result"
    }
   ],
   "source": [
    "yarismaSonucu1"
   ]
  },
  {
   "cell_type": "code",
   "execution_count": 12,
   "id": "275f1a85",
   "metadata": {},
   "outputs": [
    {
     "data": {
      "text/plain": [
       "İrem      15\n",
       "Mehmet    23\n",
       "Zeynep    10\n",
       "dtype: int64"
      ]
     },
     "execution_count": 12,
     "metadata": {},
     "output_type": "execute_result"
    }
   ],
   "source": [
    "yarismaSonucu2"
   ]
  },
  {
   "cell_type": "code",
   "execution_count": 13,
   "id": "5042a25c",
   "metadata": {},
   "outputs": [],
   "source": [
    "sonSonuc=yarismaSonucu1+yarismaSonucu2"
   ]
  },
  {
   "cell_type": "code",
   "execution_count": 14,
   "id": "4fa88828",
   "metadata": {},
   "outputs": [
    {
     "data": {
      "text/plain": [
       "İrem      25\n",
       "Mehmet    43\n",
       "Zeynep    40\n",
       "dtype: int64"
      ]
     },
     "execution_count": 14,
     "metadata": {},
     "output_type": "execute_result"
    }
   ],
   "source": [
    "sonSonuc"
   ]
  },
  {
   "cell_type": "code",
   "execution_count": 15,
   "id": "21d7e157",
   "metadata": {},
   "outputs": [],
   "source": [
    "vizeNotları=pd.Series([45,85,55],[\"Ali\",\"Ahmet\",\"Mehmet\"])"
   ]
  },
  {
   "cell_type": "code",
   "execution_count": 16,
   "id": "60f78966",
   "metadata": {},
   "outputs": [],
   "source": [
    "finalNotları=pd.Series([46,56,78],[\"Nergis\",\"Salih\",\"Ahmet\"])"
   ]
  },
  {
   "cell_type": "code",
   "execution_count": 17,
   "id": "0205edf3",
   "metadata": {},
   "outputs": [],
   "source": [
    "sonuc=vizeNotları+finalNotları"
   ]
  },
  {
   "cell_type": "code",
   "execution_count": 18,
   "id": "06302a97",
   "metadata": {},
   "outputs": [
    {
     "data": {
      "text/plain": [
       "Ahmet     163.0\n",
       "Ali         NaN\n",
       "Mehmet      NaN\n",
       "Nergis      NaN\n",
       "Salih       NaN\n",
       "dtype: float64"
      ]
     },
     "execution_count": 18,
     "metadata": {},
     "output_type": "execute_result"
    }
   ],
   "source": [
    "sonuc"
   ]
  },
  {
   "cell_type": "markdown",
   "id": "c538cd78",
   "metadata": {},
   "source": [
    "## Data Frame"
   ]
  },
  {
   "cell_type": "code",
   "execution_count": 19,
   "id": "048349be",
   "metadata": {},
   "outputs": [],
   "source": [
    "# Serilerin yan yana getirilmesiyle oluşan bir  excel tablosu olarak düşünülebilir."
   ]
  },
  {
   "cell_type": "code",
   "execution_count": 20,
   "id": "6a890ee0",
   "metadata": {},
   "outputs": [],
   "source": [
    "data =np.random.randn(4,3)"
   ]
  },
  {
   "cell_type": "code",
   "execution_count": 21,
   "id": "e5750d43",
   "metadata": {},
   "outputs": [
    {
     "data": {
      "text/plain": [
       "array([[-0.43196551,  0.8815036 , -0.67735128],\n",
       "       [ 0.4669139 ,  1.95997893, -1.2496912 ],\n",
       "       [ 0.46053377,  0.55878846,  0.23072281],\n",
       "       [-0.56544507, -0.59792984,  0.42810532]])"
      ]
     },
     "execution_count": 21,
     "metadata": {},
     "output_type": "execute_result"
    }
   ],
   "source": [
    "data"
   ]
  },
  {
   "cell_type": "code",
   "execution_count": 22,
   "id": "e6846a96",
   "metadata": {},
   "outputs": [],
   "source": [
    "# 0. indeksi çağırdığında 0. satır gelir"
   ]
  },
  {
   "cell_type": "code",
   "execution_count": 23,
   "id": "e50a7f42",
   "metadata": {},
   "outputs": [
    {
     "data": {
      "text/plain": [
       "array([-0.43196551,  0.8815036 , -0.67735128])"
      ]
     },
     "execution_count": 23,
     "metadata": {},
     "output_type": "execute_result"
    }
   ],
   "source": [
    "data[0]"
   ]
  },
  {
   "cell_type": "code",
   "execution_count": 24,
   "id": "f8392fe4",
   "metadata": {},
   "outputs": [],
   "source": [
    "yeniDataFrame=pd.DataFrame(data)"
   ]
  },
  {
   "cell_type": "code",
   "execution_count": 25,
   "id": "9759b6bc",
   "metadata": {},
   "outputs": [
    {
     "data": {
      "text/html": [
       "<div>\n",
       "<style scoped>\n",
       "    .dataframe tbody tr th:only-of-type {\n",
       "        vertical-align: middle;\n",
       "    }\n",
       "\n",
       "    .dataframe tbody tr th {\n",
       "        vertical-align: top;\n",
       "    }\n",
       "\n",
       "    .dataframe thead th {\n",
       "        text-align: right;\n",
       "    }\n",
       "</style>\n",
       "<table border=\"1\" class=\"dataframe\">\n",
       "  <thead>\n",
       "    <tr style=\"text-align: right;\">\n",
       "      <th></th>\n",
       "      <th>0</th>\n",
       "      <th>1</th>\n",
       "      <th>2</th>\n",
       "    </tr>\n",
       "  </thead>\n",
       "  <tbody>\n",
       "    <tr>\n",
       "      <th>0</th>\n",
       "      <td>-0.431966</td>\n",
       "      <td>0.881504</td>\n",
       "      <td>-0.677351</td>\n",
       "    </tr>\n",
       "    <tr>\n",
       "      <th>1</th>\n",
       "      <td>0.466914</td>\n",
       "      <td>1.959979</td>\n",
       "      <td>-1.249691</td>\n",
       "    </tr>\n",
       "    <tr>\n",
       "      <th>2</th>\n",
       "      <td>0.460534</td>\n",
       "      <td>0.558788</td>\n",
       "      <td>0.230723</td>\n",
       "    </tr>\n",
       "    <tr>\n",
       "      <th>3</th>\n",
       "      <td>-0.565445</td>\n",
       "      <td>-0.597930</td>\n",
       "      <td>0.428105</td>\n",
       "    </tr>\n",
       "  </tbody>\n",
       "</table>\n",
       "</div>"
      ],
      "text/plain": [
       "          0         1         2\n",
       "0 -0.431966  0.881504 -0.677351\n",
       "1  0.466914  1.959979 -1.249691\n",
       "2  0.460534  0.558788  0.230723\n",
       "3 -0.565445 -0.597930  0.428105"
      ]
     },
     "execution_count": 25,
     "metadata": {},
     "output_type": "execute_result"
    }
   ],
   "source": [
    "yeniDataFrame"
   ]
  },
  {
   "cell_type": "code",
   "execution_count": 26,
   "id": "ad30fb40",
   "metadata": {},
   "outputs": [],
   "source": [
    "data2=np.random.randn(4,4)"
   ]
  },
  {
   "cell_type": "code",
   "execution_count": 27,
   "id": "bddcfaab",
   "metadata": {},
   "outputs": [
    {
     "data": {
      "text/plain": [
       "array([[-0.90127197,  0.23435177, -0.13717031, -1.10656918],\n",
       "       [-2.20711484, -0.23721352, -1.07379838,  0.5740718 ],\n",
       "       [ 0.94863029, -1.18738043, -0.18150156,  0.30864456],\n",
       "       [ 0.54529487, -0.34287916,  0.49680632, -0.85285789]])"
      ]
     },
     "execution_count": 27,
     "metadata": {},
     "output_type": "execute_result"
    }
   ],
   "source": [
    "data2"
   ]
  },
  {
   "cell_type": "code",
   "execution_count": 28,
   "id": "24716619",
   "metadata": {},
   "outputs": [
    {
     "data": {
      "text/plain": [
       "array([-2.20711484, -0.23721352, -1.07379838,  0.5740718 ])"
      ]
     },
     "execution_count": 28,
     "metadata": {},
     "output_type": "execute_result"
    }
   ],
   "source": [
    "data2[1]"
   ]
  },
  {
   "cell_type": "code",
   "execution_count": 29,
   "id": "56d68321",
   "metadata": {},
   "outputs": [],
   "source": [
    "yeniDataFrame2=pd.DataFrame(data2)"
   ]
  },
  {
   "cell_type": "code",
   "execution_count": 30,
   "id": "df5118b3",
   "metadata": {},
   "outputs": [
    {
     "data": {
      "text/html": [
       "<div>\n",
       "<style scoped>\n",
       "    .dataframe tbody tr th:only-of-type {\n",
       "        vertical-align: middle;\n",
       "    }\n",
       "\n",
       "    .dataframe tbody tr th {\n",
       "        vertical-align: top;\n",
       "    }\n",
       "\n",
       "    .dataframe thead th {\n",
       "        text-align: right;\n",
       "    }\n",
       "</style>\n",
       "<table border=\"1\" class=\"dataframe\">\n",
       "  <thead>\n",
       "    <tr style=\"text-align: right;\">\n",
       "      <th></th>\n",
       "      <th>0</th>\n",
       "      <th>1</th>\n",
       "      <th>2</th>\n",
       "      <th>3</th>\n",
       "    </tr>\n",
       "  </thead>\n",
       "  <tbody>\n",
       "    <tr>\n",
       "      <th>0</th>\n",
       "      <td>-0.901272</td>\n",
       "      <td>0.234352</td>\n",
       "      <td>-0.137170</td>\n",
       "      <td>-1.106569</td>\n",
       "    </tr>\n",
       "    <tr>\n",
       "      <th>1</th>\n",
       "      <td>-2.207115</td>\n",
       "      <td>-0.237214</td>\n",
       "      <td>-1.073798</td>\n",
       "      <td>0.574072</td>\n",
       "    </tr>\n",
       "    <tr>\n",
       "      <th>2</th>\n",
       "      <td>0.948630</td>\n",
       "      <td>-1.187380</td>\n",
       "      <td>-0.181502</td>\n",
       "      <td>0.308645</td>\n",
       "    </tr>\n",
       "    <tr>\n",
       "      <th>3</th>\n",
       "      <td>0.545295</td>\n",
       "      <td>-0.342879</td>\n",
       "      <td>0.496806</td>\n",
       "      <td>-0.852858</td>\n",
       "    </tr>\n",
       "  </tbody>\n",
       "</table>\n",
       "</div>"
      ],
      "text/plain": [
       "          0         1         2         3\n",
       "0 -0.901272  0.234352 -0.137170 -1.106569\n",
       "1 -2.207115 -0.237214 -1.073798  0.574072\n",
       "2  0.948630 -1.187380 -0.181502  0.308645\n",
       "3  0.545295 -0.342879  0.496806 -0.852858"
      ]
     },
     "execution_count": 30,
     "metadata": {},
     "output_type": "execute_result"
    }
   ],
   "source": [
    "yeniDataFrame2"
   ]
  },
  {
   "cell_type": "code",
   "execution_count": 31,
   "id": "4af39117",
   "metadata": {},
   "outputs": [],
   "source": [
    "sınıftakiKİsiler=[\"Ali\",\"Ahmet\",\"Mehmet\",\"Zeynep\",\"Ayşe\"]\n",
    "notlar=[100,55,78,46,41]"
   ]
  },
  {
   "cell_type": "code",
   "execution_count": 32,
   "id": "95b75f03",
   "metadata": {},
   "outputs": [],
   "source": [
    "sonuc=pd.DataFrame(notlar,index=sınıftakiKİsiler,columns=[\"Notlar\"])"
   ]
  },
  {
   "cell_type": "code",
   "execution_count": 33,
   "id": "ec48c60a",
   "metadata": {},
   "outputs": [
    {
     "data": {
      "text/html": [
       "<div>\n",
       "<style scoped>\n",
       "    .dataframe tbody tr th:only-of-type {\n",
       "        vertical-align: middle;\n",
       "    }\n",
       "\n",
       "    .dataframe tbody tr th {\n",
       "        vertical-align: top;\n",
       "    }\n",
       "\n",
       "    .dataframe thead th {\n",
       "        text-align: right;\n",
       "    }\n",
       "</style>\n",
       "<table border=\"1\" class=\"dataframe\">\n",
       "  <thead>\n",
       "    <tr style=\"text-align: right;\">\n",
       "      <th></th>\n",
       "      <th>Notlar</th>\n",
       "    </tr>\n",
       "  </thead>\n",
       "  <tbody>\n",
       "    <tr>\n",
       "      <th>Ali</th>\n",
       "      <td>100</td>\n",
       "    </tr>\n",
       "    <tr>\n",
       "      <th>Ahmet</th>\n",
       "      <td>55</td>\n",
       "    </tr>\n",
       "    <tr>\n",
       "      <th>Mehmet</th>\n",
       "      <td>78</td>\n",
       "    </tr>\n",
       "    <tr>\n",
       "      <th>Zeynep</th>\n",
       "      <td>46</td>\n",
       "    </tr>\n",
       "    <tr>\n",
       "      <th>Ayşe</th>\n",
       "      <td>41</td>\n",
       "    </tr>\n",
       "  </tbody>\n",
       "</table>\n",
       "</div>"
      ],
      "text/plain": [
       "        Notlar\n",
       "Ali        100\n",
       "Ahmet       55\n",
       "Mehmet      78\n",
       "Zeynep      46\n",
       "Ayşe        41"
      ]
     },
     "execution_count": 33,
     "metadata": {},
     "output_type": "execute_result"
    }
   ],
   "source": [
    "sonuc"
   ]
  },
  {
   "cell_type": "code",
   "execution_count": 36,
   "id": "740ac48c",
   "metadata": {},
   "outputs": [],
   "source": [
    "sinif={\"isimler\":[\"Ali\",\"Ahmet\",\"Mehmet\"],\"1.notlar\":[100,55,78],\"2.notlar\":[45,96,78]}"
   ]
  },
  {
   "cell_type": "code",
   "execution_count": 42,
   "id": "ca0f2823",
   "metadata": {},
   "outputs": [],
   "source": [
    "sinifinDataFrame=pd.DataFrame(sinif,index=[1,2,3])"
   ]
  },
  {
   "cell_type": "code",
   "execution_count": 43,
   "id": "cf3c36a1",
   "metadata": {},
   "outputs": [
    {
     "data": {
      "text/html": [
       "<div>\n",
       "<style scoped>\n",
       "    .dataframe tbody tr th:only-of-type {\n",
       "        vertical-align: middle;\n",
       "    }\n",
       "\n",
       "    .dataframe tbody tr th {\n",
       "        vertical-align: top;\n",
       "    }\n",
       "\n",
       "    .dataframe thead th {\n",
       "        text-align: right;\n",
       "    }\n",
       "</style>\n",
       "<table border=\"1\" class=\"dataframe\">\n",
       "  <thead>\n",
       "    <tr style=\"text-align: right;\">\n",
       "      <th></th>\n",
       "      <th>isimler</th>\n",
       "      <th>1.notlar</th>\n",
       "      <th>2.notlar</th>\n",
       "    </tr>\n",
       "  </thead>\n",
       "  <tbody>\n",
       "    <tr>\n",
       "      <th>1</th>\n",
       "      <td>Ali</td>\n",
       "      <td>100</td>\n",
       "      <td>45</td>\n",
       "    </tr>\n",
       "    <tr>\n",
       "      <th>2</th>\n",
       "      <td>Ahmet</td>\n",
       "      <td>55</td>\n",
       "      <td>96</td>\n",
       "    </tr>\n",
       "    <tr>\n",
       "      <th>3</th>\n",
       "      <td>Mehmet</td>\n",
       "      <td>78</td>\n",
       "      <td>78</td>\n",
       "    </tr>\n",
       "  </tbody>\n",
       "</table>\n",
       "</div>"
      ],
      "text/plain": [
       "  isimler  1.notlar  2.notlar\n",
       "1     Ali       100        45\n",
       "2   Ahmet        55        96\n",
       "3  Mehmet        78        78"
      ]
     },
     "execution_count": 43,
     "metadata": {},
     "output_type": "execute_result"
    }
   ],
   "source": [
    "sinifinDataFrame"
   ]
  },
  {
   "cell_type": "code",
   "execution_count": 46,
   "id": "c8910a1b",
   "metadata": {},
   "outputs": [],
   "source": [
    "isciler={\"yas\":[32,24,58],\"maaslar\":[20.000,15.000,35.000]}"
   ]
  },
  {
   "cell_type": "code",
   "execution_count": 47,
   "id": "87b3eec0",
   "metadata": {},
   "outputs": [],
   "source": [
    "iscilerDataFrame=pd.DataFrame(isciler,index=[\"Ali\",\"Ahmet\",\"Mehmet\"])"
   ]
  },
  {
   "cell_type": "code",
   "execution_count": 48,
   "id": "4ec74c0b",
   "metadata": {},
   "outputs": [
    {
     "data": {
      "text/html": [
       "<div>\n",
       "<style scoped>\n",
       "    .dataframe tbody tr th:only-of-type {\n",
       "        vertical-align: middle;\n",
       "    }\n",
       "\n",
       "    .dataframe tbody tr th {\n",
       "        vertical-align: top;\n",
       "    }\n",
       "\n",
       "    .dataframe thead th {\n",
       "        text-align: right;\n",
       "    }\n",
       "</style>\n",
       "<table border=\"1\" class=\"dataframe\">\n",
       "  <thead>\n",
       "    <tr style=\"text-align: right;\">\n",
       "      <th></th>\n",
       "      <th>yas</th>\n",
       "      <th>maaslar</th>\n",
       "    </tr>\n",
       "  </thead>\n",
       "  <tbody>\n",
       "    <tr>\n",
       "      <th>Ali</th>\n",
       "      <td>32</td>\n",
       "      <td>20.0</td>\n",
       "    </tr>\n",
       "    <tr>\n",
       "      <th>Ahmet</th>\n",
       "      <td>24</td>\n",
       "      <td>15.0</td>\n",
       "    </tr>\n",
       "    <tr>\n",
       "      <th>Mehmet</th>\n",
       "      <td>58</td>\n",
       "      <td>35.0</td>\n",
       "    </tr>\n",
       "  </tbody>\n",
       "</table>\n",
       "</div>"
      ],
      "text/plain": [
       "        yas  maaslar\n",
       "Ali      32     20.0\n",
       "Ahmet    24     15.0\n",
       "Mehmet   58     35.0"
      ]
     },
     "execution_count": 48,
     "metadata": {},
     "output_type": "execute_result"
    }
   ],
   "source": [
    "iscilerDataFrame"
   ]
  },
  {
   "cell_type": "code",
   "execution_count": 50,
   "id": "d9ac55fe",
   "metadata": {},
   "outputs": [
    {
     "data": {
      "text/plain": [
       "Ali       32\n",
       "Ahmet     24\n",
       "Mehmet    58\n",
       "Name: yas, dtype: int64"
      ]
     },
     "execution_count": 50,
     "metadata": {},
     "output_type": "execute_result"
    }
   ],
   "source": [
    "iscilerDataFrame[\"yas\"]"
   ]
  },
  {
   "cell_type": "code",
   "execution_count": 51,
   "id": "fdc42edb",
   "metadata": {},
   "outputs": [
    {
     "data": {
      "text/plain": [
       "Ali       20.0\n",
       "Ahmet     15.0\n",
       "Mehmet    35.0\n",
       "Name: maaslar, dtype: float64"
      ]
     },
     "execution_count": 51,
     "metadata": {},
     "output_type": "execute_result"
    }
   ],
   "source": [
    "iscilerDataFrame[\"maaslar\"]"
   ]
  },
  {
   "cell_type": "code",
   "execution_count": 52,
   "id": "8c09c469",
   "metadata": {},
   "outputs": [
    {
     "data": {
      "text/html": [
       "<div>\n",
       "<style scoped>\n",
       "    .dataframe tbody tr th:only-of-type {\n",
       "        vertical-align: middle;\n",
       "    }\n",
       "\n",
       "    .dataframe tbody tr th {\n",
       "        vertical-align: top;\n",
       "    }\n",
       "\n",
       "    .dataframe thead th {\n",
       "        text-align: right;\n",
       "    }\n",
       "</style>\n",
       "<table border=\"1\" class=\"dataframe\">\n",
       "  <thead>\n",
       "    <tr style=\"text-align: right;\">\n",
       "      <th></th>\n",
       "      <th>yas</th>\n",
       "      <th>maaslar</th>\n",
       "    </tr>\n",
       "  </thead>\n",
       "  <tbody>\n",
       "    <tr>\n",
       "      <th>Ali</th>\n",
       "      <td>32</td>\n",
       "      <td>20.0</td>\n",
       "    </tr>\n",
       "    <tr>\n",
       "      <th>Ahmet</th>\n",
       "      <td>24</td>\n",
       "      <td>15.0</td>\n",
       "    </tr>\n",
       "    <tr>\n",
       "      <th>Mehmet</th>\n",
       "      <td>58</td>\n",
       "      <td>35.0</td>\n",
       "    </tr>\n",
       "  </tbody>\n",
       "</table>\n",
       "</div>"
      ],
      "text/plain": [
       "        yas  maaslar\n",
       "Ali      32     20.0\n",
       "Ahmet    24     15.0\n",
       "Mehmet   58     35.0"
      ]
     },
     "execution_count": 52,
     "metadata": {},
     "output_type": "execute_result"
    }
   ],
   "source": [
    "iscilerDataFrame[[\"yas\",\"maaslar\"]]"
   ]
  },
  {
   "cell_type": "code",
   "execution_count": 53,
   "id": "74a83dba",
   "metadata": {},
   "outputs": [
    {
     "data": {
      "text/plain": [
       "yas        32.0\n",
       "maaslar    20.0\n",
       "Name: Ali, dtype: float64"
      ]
     },
     "execution_count": 53,
     "metadata": {},
     "output_type": "execute_result"
    }
   ],
   "source": [
    "iscilerDataFrame.loc[\"Ali\"]"
   ]
  },
  {
   "cell_type": "code",
   "execution_count": 54,
   "id": "89778224",
   "metadata": {},
   "outputs": [
    {
     "data": {
      "text/plain": [
       "yas        58.0\n",
       "maaslar    35.0\n",
       "Name: Mehmet, dtype: float64"
      ]
     },
     "execution_count": 54,
     "metadata": {},
     "output_type": "execute_result"
    }
   ],
   "source": [
    "iscilerDataFrame.loc[\"Mehmet\"]"
   ]
  },
  {
   "cell_type": "code",
   "execution_count": 55,
   "id": "9a3ee52c",
   "metadata": {},
   "outputs": [
    {
     "data": {
      "text/plain": [
       "yas        32.0\n",
       "maaslar    20.0\n",
       "Name: Ali, dtype: float64"
      ]
     },
     "execution_count": 55,
     "metadata": {},
     "output_type": "execute_result"
    }
   ],
   "source": [
    "iscilerDataFrame.iloc[0]"
   ]
  },
  {
   "cell_type": "code",
   "execution_count": null,
   "id": "5131ba16",
   "metadata": {},
   "outputs": [],
   "source": []
  }
 ],
 "metadata": {
  "kernelspec": {
   "display_name": "Python 3 (ipykernel)",
   "language": "python",
   "name": "python3"
  },
  "language_info": {
   "codemirror_mode": {
    "name": "ipython",
    "version": 3
   },
   "file_extension": ".py",
   "mimetype": "text/x-python",
   "name": "python",
   "nbconvert_exporter": "python",
   "pygments_lexer": "ipython3",
   "version": "3.11.4"
  }
 },
 "nbformat": 4,
 "nbformat_minor": 5
}
