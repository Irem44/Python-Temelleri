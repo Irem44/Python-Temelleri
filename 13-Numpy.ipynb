{
 "cells": [
  {
   "cell_type": "code",
   "execution_count": 1,
   "id": "28ed72d6",
   "metadata": {},
   "outputs": [],
   "source": [
    "import numpy as np"
   ]
  },
  {
   "cell_type": "code",
   "execution_count": 2,
   "id": "266c82df",
   "metadata": {},
   "outputs": [],
   "source": [
    "myList=[10,78,45,96]\n"
   ]
  },
  {
   "cell_type": "code",
   "execution_count": 5,
   "id": "a7d67523",
   "metadata": {},
   "outputs": [],
   "source": [
    "myNumpyList=np.array(myList)"
   ]
  },
  {
   "cell_type": "code",
   "execution_count": 9,
   "id": "8236fd71",
   "metadata": {},
   "outputs": [
    {
     "data": {
      "text/plain": [
       "numpy.ndarray"
      ]
     },
     "execution_count": 9,
     "metadata": {},
     "output_type": "execute_result"
    }
   ],
   "source": [
    "type(myNumpyList)"
   ]
  },
  {
   "cell_type": "code",
   "execution_count": 10,
   "id": "18b3ddf1",
   "metadata": {},
   "outputs": [],
   "source": [
    "matrixArray=[[12,45,78],[45,12,63],[36,78,12]]"
   ]
  },
  {
   "cell_type": "code",
   "execution_count": 11,
   "id": "4e94d758",
   "metadata": {},
   "outputs": [],
   "source": [
    "matrixNumpyList=np.array(matrixArray)"
   ]
  },
  {
   "cell_type": "code",
   "execution_count": 12,
   "id": "c50b9e5e",
   "metadata": {},
   "outputs": [
    {
     "data": {
      "text/plain": [
       "array([[12, 45, 78],\n",
       "       [45, 12, 63],\n",
       "       [36, 78, 12]])"
      ]
     },
     "execution_count": 12,
     "metadata": {},
     "output_type": "execute_result"
    }
   ],
   "source": [
    "matrixNumpyList"
   ]
  },
  {
   "cell_type": "markdown",
   "id": "53d4d4ed",
   "metadata": {},
   "source": [
    "### arange"
   ]
  },
  {
   "cell_type": "markdown",
   "id": "f448027d",
   "metadata": {},
   "source": [
    "**bu fonksiyon verdiğimiz sınırlar dahilinde bize int sayılar dönderir"
   ]
  },
  {
   "cell_type": "code",
   "execution_count": 15,
   "id": "2287db3d",
   "metadata": {},
   "outputs": [
    {
     "data": {
      "text/plain": [
       "array([0, 1, 2, 3, 4, 5, 6, 7, 8, 9])"
      ]
     },
     "execution_count": 15,
     "metadata": {},
     "output_type": "execute_result"
    }
   ],
   "source": [
    "np.arange(0,10)"
   ]
  },
  {
   "cell_type": "code",
   "execution_count": 16,
   "id": "c051c3a5",
   "metadata": {},
   "outputs": [
    {
     "data": {
      "text/plain": [
       "array([45, 46, 47, 48, 49, 50, 51, 52, 53, 54, 55, 56, 57, 58, 59, 60, 61,\n",
       "       62, 63, 64, 65, 66, 67, 68, 69, 70, 71, 72, 73, 74, 75, 76, 77, 78,\n",
       "       79, 80, 81, 82, 83, 84, 85, 86, 87, 88, 89, 90, 91, 92, 93, 94, 95])"
      ]
     },
     "execution_count": 16,
     "metadata": {},
     "output_type": "execute_result"
    }
   ],
   "source": [
    "np.arange(45,96)"
   ]
  },
  {
   "cell_type": "code",
   "execution_count": 17,
   "id": "01f99095",
   "metadata": {},
   "outputs": [
    {
     "data": {
      "text/plain": [
       "array([  0,   5,  10,  15,  20,  25,  30,  35,  40,  45,  50,  55,  60,\n",
       "        65,  70,  75,  80,  85,  90,  95, 100])"
      ]
     },
     "execution_count": 17,
     "metadata": {},
     "output_type": "execute_result"
    }
   ],
   "source": [
    "np.arange(0,101,5)"
   ]
  },
  {
   "cell_type": "markdown",
   "id": "538590bc",
   "metadata": {},
   "source": [
    "### zeros-ones"
   ]
  },
  {
   "cell_type": "markdown",
   "id": "197454db",
   "metadata": {},
   "source": [
    "** 0'lar oluşturmamıza yarar.Ones ise 1'ler oluşturmamıza yarar\n",
    "\n"
   ]
  },
  {
   "cell_type": "code",
   "execution_count": 22,
   "id": "c53a5aad",
   "metadata": {},
   "outputs": [
    {
     "data": {
      "text/plain": [
       "array([0., 0., 0., 0., 0.])"
      ]
     },
     "execution_count": 22,
     "metadata": {},
     "output_type": "execute_result"
    }
   ],
   "source": [
    "np.zeros(5)"
   ]
  },
  {
   "cell_type": "code",
   "execution_count": 23,
   "id": "3463b4cb",
   "metadata": {},
   "outputs": [
    {
     "data": {
      "text/plain": [
       "array([0., 0., 0., 0., 0., 0., 0., 0., 0., 0.])"
      ]
     },
     "execution_count": 23,
     "metadata": {},
     "output_type": "execute_result"
    }
   ],
   "source": [
    "np.zeros(10)"
   ]
  },
  {
   "cell_type": "code",
   "execution_count": 24,
   "id": "c5760221",
   "metadata": {},
   "outputs": [
    {
     "data": {
      "text/plain": [
       "array([[0., 0., 0., 0.],\n",
       "       [0., 0., 0., 0.],\n",
       "       [0., 0., 0., 0.],\n",
       "       [0., 0., 0., 0.]])"
      ]
     },
     "execution_count": 24,
     "metadata": {},
     "output_type": "execute_result"
    }
   ],
   "source": [
    "np.zeros((4,4))"
   ]
  },
  {
   "cell_type": "code",
   "execution_count": 25,
   "id": "8450ccc8",
   "metadata": {},
   "outputs": [
    {
     "data": {
      "text/plain": [
       "array([1., 1.])"
      ]
     },
     "execution_count": 25,
     "metadata": {},
     "output_type": "execute_result"
    }
   ],
   "source": [
    "np.ones(2)"
   ]
  },
  {
   "cell_type": "code",
   "execution_count": 26,
   "id": "d677481d",
   "metadata": {},
   "outputs": [
    {
     "data": {
      "text/plain": [
       "array([[1., 1., 1.],\n",
       "       [1., 1., 1.],\n",
       "       [1., 1., 1.]])"
      ]
     },
     "execution_count": 26,
     "metadata": {},
     "output_type": "execute_result"
    }
   ],
   "source": [
    "np.ones((3,3))"
   ]
  },
  {
   "cell_type": "markdown",
   "id": "50013017",
   "metadata": {},
   "source": [
    "### Linspace"
   ]
  },
  {
   "cell_type": "markdown",
   "id": "d183c8ca",
   "metadata": {},
   "source": [
    "** np.linspace(a,b,c)  a dan b ye kadar c tane sayı seç araları eşit olsun."
   ]
  },
  {
   "cell_type": "code",
   "execution_count": 27,
   "id": "6d49e170",
   "metadata": {},
   "outputs": [
    {
     "data": {
      "text/plain": [
       "array([10., 20.])"
      ]
     },
     "execution_count": 27,
     "metadata": {},
     "output_type": "execute_result"
    }
   ],
   "source": [
    "np.linspace(10,20,2)"
   ]
  },
  {
   "cell_type": "code",
   "execution_count": 30,
   "id": "959c3f52",
   "metadata": {},
   "outputs": [
    {
     "data": {
      "text/plain": [
       "array([ 0.        ,  5.55555556, 11.11111111, 16.66666667, 22.22222222,\n",
       "       27.77777778, 33.33333333, 38.88888889, 44.44444444, 50.        ])"
      ]
     },
     "execution_count": 30,
     "metadata": {},
     "output_type": "execute_result"
    }
   ],
   "source": [
    "np.linspace(0,50,10)"
   ]
  },
  {
   "cell_type": "code",
   "execution_count": 32,
   "id": "cc419ace",
   "metadata": {},
   "outputs": [
    {
     "data": {
      "text/plain": [
       "array([ 0.  , 11.25, 22.5 , 33.75, 45.  ])"
      ]
     },
     "execution_count": 32,
     "metadata": {},
     "output_type": "execute_result"
    }
   ],
   "source": [
    "np.linspace(0,45,5)"
   ]
  },
  {
   "cell_type": "markdown",
   "id": "c7f7a316",
   "metadata": {},
   "source": [
    "### eye"
   ]
  },
  {
   "cell_type": "code",
   "execution_count": 33,
   "id": "4c0c3bdd",
   "metadata": {},
   "outputs": [
    {
     "data": {
      "text/plain": [
       "array([[1., 0., 0., 0., 0., 0., 0., 0., 0., 0.],\n",
       "       [0., 1., 0., 0., 0., 0., 0., 0., 0., 0.],\n",
       "       [0., 0., 1., 0., 0., 0., 0., 0., 0., 0.],\n",
       "       [0., 0., 0., 1., 0., 0., 0., 0., 0., 0.],\n",
       "       [0., 0., 0., 0., 1., 0., 0., 0., 0., 0.],\n",
       "       [0., 0., 0., 0., 0., 1., 0., 0., 0., 0.],\n",
       "       [0., 0., 0., 0., 0., 0., 1., 0., 0., 0.],\n",
       "       [0., 0., 0., 0., 0., 0., 0., 1., 0., 0.],\n",
       "       [0., 0., 0., 0., 0., 0., 0., 0., 1., 0.],\n",
       "       [0., 0., 0., 0., 0., 0., 0., 0., 0., 1.]])"
      ]
     },
     "execution_count": 33,
     "metadata": {},
     "output_type": "execute_result"
    }
   ],
   "source": [
    "np.eye(10)"
   ]
  },
  {
   "cell_type": "code",
   "execution_count": 34,
   "id": "81ea554e",
   "metadata": {},
   "outputs": [
    {
     "data": {
      "text/plain": [
       "array([[1., 0., 0., 0., 0.],\n",
       "       [0., 1., 0., 0., 0.],\n",
       "       [0., 0., 1., 0., 0.],\n",
       "       [0., 0., 0., 1., 0.],\n",
       "       [0., 0., 0., 0., 1.]])"
      ]
     },
     "execution_count": 34,
     "metadata": {},
     "output_type": "execute_result"
    }
   ],
   "source": [
    "np.eye(5)"
   ]
  },
  {
   "cell_type": "markdown",
   "id": "f17c15b7",
   "metadata": {},
   "source": [
    "### random"
   ]
  },
  {
   "cell_type": "markdown",
   "id": "1a94938a",
   "metadata": {},
   "source": [
    "** rastgele sayı üretilir.\n"
   ]
  },
  {
   "cell_type": "code",
   "execution_count": 36,
   "id": "2b138546",
   "metadata": {},
   "outputs": [
    {
     "data": {
      "text/plain": [
       "array([-0.90303925,  0.07322909, -0.362625  ,  1.28233295, -1.16640784,\n",
       "       -0.78220427,  0.73835497, -0.59556709])"
      ]
     },
     "execution_count": 36,
     "metadata": {},
     "output_type": "execute_result"
    }
   ],
   "source": [
    "np.random.randn(8)"
   ]
  },
  {
   "cell_type": "code",
   "execution_count": 38,
   "id": "23418846",
   "metadata": {},
   "outputs": [
    {
     "data": {
      "text/plain": [
       "array([[-1.14308515, -0.53951762,  0.68983974,  1.1349146 ],\n",
       "       [-1.34877299, -0.16555412,  1.99899729, -0.28399201],\n",
       "       [ 1.26152154, -0.79428456,  0.9355919 , -1.2141204 ],\n",
       "       [-0.15396565, -0.01791193,  1.45201851, -0.81415734]])"
      ]
     },
     "execution_count": 38,
     "metadata": {},
     "output_type": "execute_result"
    }
   ],
   "source": [
    "np.random.randn(4,4)"
   ]
  },
  {
   "cell_type": "code",
   "execution_count": 39,
   "id": "bad8dedc",
   "metadata": {},
   "outputs": [
    {
     "data": {
      "text/plain": [
       "array([[-0.57051382,  0.71329791,  0.70835564],\n",
       "       [ 0.30607355, -0.95189919, -1.91082109],\n",
       "       [-0.44127474,  0.49202847, -0.09374092]])"
      ]
     },
     "execution_count": 39,
     "metadata": {},
     "output_type": "execute_result"
    }
   ],
   "source": [
    "np.random.randn(3,3)"
   ]
  },
  {
   "cell_type": "code",
   "execution_count": 40,
   "id": "a45c2a74",
   "metadata": {},
   "outputs": [
    {
     "data": {
      "text/plain": [
       "array([ 0.53855374,  0.45458039,  0.29832321, -1.75241386, -0.97086692,\n",
       "       -0.6584233 ])"
      ]
     },
     "execution_count": 40,
     "metadata": {},
     "output_type": "execute_result"
    }
   ],
   "source": [
    "np.random.randn(6)"
   ]
  },
  {
   "cell_type": "code",
   "execution_count": 41,
   "id": "25644cf1",
   "metadata": {},
   "outputs": [
    {
     "data": {
      "text/plain": [
       "4"
      ]
     },
     "execution_count": 41,
     "metadata": {},
     "output_type": "execute_result"
    }
   ],
   "source": [
    "np.random.randint(1,10)"
   ]
  },
  {
   "cell_type": "code",
   "execution_count": 42,
   "id": "17232219",
   "metadata": {},
   "outputs": [
    {
     "data": {
      "text/plain": [
       "array([1, 2, 3, 4, 5, 6, 7, 8, 9])"
      ]
     },
     "execution_count": 42,
     "metadata": {},
     "output_type": "execute_result"
    }
   ],
   "source": [
    "np.arange(1,10)"
   ]
  },
  {
   "cell_type": "code",
   "execution_count": 44,
   "id": "d4d4bb31",
   "metadata": {},
   "outputs": [
    {
     "data": {
      "text/plain": [
       "array([30, 44, 31, 43, 47])"
      ]
     },
     "execution_count": 44,
     "metadata": {},
     "output_type": "execute_result"
    }
   ],
   "source": [
    "np.random.randint(20,50,5)"
   ]
  },
  {
   "cell_type": "code",
   "execution_count": 48,
   "id": "aab9283e",
   "metadata": {},
   "outputs": [
    {
     "data": {
      "text/plain": [
       "array([10, 15])"
      ]
     },
     "execution_count": 48,
     "metadata": {},
     "output_type": "execute_result"
    }
   ],
   "source": [
    "np.arange(10,20,5)"
   ]
  },
  {
   "cell_type": "code",
   "execution_count": 49,
   "id": "487c36ac",
   "metadata": {},
   "outputs": [
    {
     "data": {
      "text/plain": [
       "array([0, 2, 4, 6, 8])"
      ]
     },
     "execution_count": 49,
     "metadata": {},
     "output_type": "execute_result"
    }
   ],
   "source": [
    "np.arange(0,10,2)"
   ]
  },
  {
   "cell_type": "markdown",
   "id": "25fcb272",
   "metadata": {},
   "source": [
    "### Numpy Dizi Methodları"
   ]
  },
  {
   "cell_type": "code",
   "execution_count": 78,
   "id": "c415729c",
   "metadata": {},
   "outputs": [],
   "source": [
    "myNumpyArray=np.arange(30)"
   ]
  },
  {
   "cell_type": "code",
   "execution_count": 79,
   "id": "bfc45a36",
   "metadata": {},
   "outputs": [],
   "source": [
    "#Listedeki elemanları 6 satır 5 sütüna böldü"
   ]
  },
  {
   "cell_type": "code",
   "execution_count": 80,
   "id": "552055cd",
   "metadata": {},
   "outputs": [
    {
     "data": {
      "text/plain": [
       "array([[ 0,  1,  2,  3,  4],\n",
       "       [ 5,  6,  7,  8,  9],\n",
       "       [10, 11, 12, 13, 14],\n",
       "       [15, 16, 17, 18, 19],\n",
       "       [20, 21, 22, 23, 24],\n",
       "       [25, 26, 27, 28, 29]])"
      ]
     },
     "execution_count": 80,
     "metadata": {},
     "output_type": "execute_result"
    }
   ],
   "source": [
    "myNumpyArray.reshape(6,5)  "
   ]
  },
  {
   "cell_type": "code",
   "execution_count": 81,
   "id": "fab3aa35",
   "metadata": {},
   "outputs": [
    {
     "data": {
      "text/plain": [
       "array([[ 0,  1,  2,  3,  4,  5],\n",
       "       [ 6,  7,  8,  9, 10, 11],\n",
       "       [12, 13, 14, 15, 16, 17],\n",
       "       [18, 19, 20, 21, 22, 23],\n",
       "       [24, 25, 26, 27, 28, 29]])"
      ]
     },
     "execution_count": 81,
     "metadata": {},
     "output_type": "execute_result"
    }
   ],
   "source": [
    "myNumpyArray.reshape(5,6)"
   ]
  },
  {
   "cell_type": "code",
   "execution_count": 82,
   "id": "6e0e8b0e",
   "metadata": {},
   "outputs": [],
   "source": [
    "myNumpyArray2=np.arange(20)"
   ]
  },
  {
   "cell_type": "code",
   "execution_count": 83,
   "id": "59abe8ff",
   "metadata": {},
   "outputs": [
    {
     "data": {
      "text/plain": [
       "array([[ 0,  1],\n",
       "       [ 2,  3],\n",
       "       [ 4,  5],\n",
       "       [ 6,  7],\n",
       "       [ 8,  9],\n",
       "       [10, 11],\n",
       "       [12, 13],\n",
       "       [14, 15],\n",
       "       [16, 17],\n",
       "       [18, 19]])"
      ]
     },
     "execution_count": 83,
     "metadata": {},
     "output_type": "execute_result"
    }
   ],
   "source": [
    "myNumpyArray2.reshape(10,2)"
   ]
  },
  {
   "cell_type": "code",
   "execution_count": 84,
   "id": "7842eef3",
   "metadata": {},
   "outputs": [
    {
     "data": {
      "text/plain": [
       "array([[ 0,  1,  2,  3,  4],\n",
       "       [ 5,  6,  7,  8,  9],\n",
       "       [10, 11, 12, 13, 14],\n",
       "       [15, 16, 17, 18, 19]])"
      ]
     },
     "execution_count": 84,
     "metadata": {},
     "output_type": "execute_result"
    }
   ],
   "source": [
    "myNumpyArray2.reshape(4,5)"
   ]
  },
  {
   "cell_type": "code",
   "execution_count": 85,
   "id": "b20798ba",
   "metadata": {},
   "outputs": [
    {
     "data": {
      "text/plain": [
       "array([[ 0,  1,  2,  3],\n",
       "       [ 4,  5,  6,  7],\n",
       "       [ 8,  9, 10, 11],\n",
       "       [12, 13, 14, 15],\n",
       "       [16, 17, 18, 19]])"
      ]
     },
     "execution_count": 85,
     "metadata": {},
     "output_type": "execute_result"
    }
   ],
   "source": [
    "myNumpyArray2.reshape(5,4)"
   ]
  },
  {
   "cell_type": "code",
   "execution_count": 86,
   "id": "3b5fc2d4",
   "metadata": {},
   "outputs": [],
   "source": [
    "myNumpyArray3=np.arange(100)"
   ]
  },
  {
   "cell_type": "code",
   "execution_count": 87,
   "id": "7bcff07c",
   "metadata": {},
   "outputs": [
    {
     "data": {
      "text/plain": [
       "array([[ 0,  1,  2,  3,  4,  5,  6,  7,  8,  9],\n",
       "       [10, 11, 12, 13, 14, 15, 16, 17, 18, 19],\n",
       "       [20, 21, 22, 23, 24, 25, 26, 27, 28, 29],\n",
       "       [30, 31, 32, 33, 34, 35, 36, 37, 38, 39],\n",
       "       [40, 41, 42, 43, 44, 45, 46, 47, 48, 49],\n",
       "       [50, 51, 52, 53, 54, 55, 56, 57, 58, 59],\n",
       "       [60, 61, 62, 63, 64, 65, 66, 67, 68, 69],\n",
       "       [70, 71, 72, 73, 74, 75, 76, 77, 78, 79],\n",
       "       [80, 81, 82, 83, 84, 85, 86, 87, 88, 89],\n",
       "       [90, 91, 92, 93, 94, 95, 96, 97, 98, 99]])"
      ]
     },
     "execution_count": 87,
     "metadata": {},
     "output_type": "execute_result"
    }
   ],
   "source": [
    "myNumpyArray3.reshape(10,10)"
   ]
  },
  {
   "cell_type": "code",
   "execution_count": 91,
   "id": "327d7228",
   "metadata": {},
   "outputs": [
    {
     "data": {
      "text/plain": [
       "29"
      ]
     },
     "execution_count": 91,
     "metadata": {},
     "output_type": "execute_result"
    }
   ],
   "source": [
    "myNumpyArray.max()"
   ]
  },
  {
   "cell_type": "code",
   "execution_count": 89,
   "id": "9695c06f",
   "metadata": {},
   "outputs": [
    {
     "data": {
      "text/plain": [
       "19"
      ]
     },
     "execution_count": 89,
     "metadata": {},
     "output_type": "execute_result"
    }
   ],
   "source": [
    "myNumpyArray2.max()\n"
   ]
  },
  {
   "cell_type": "code",
   "execution_count": 90,
   "id": "dc49fd4b",
   "metadata": {},
   "outputs": [
    {
     "data": {
      "text/plain": [
       "99"
      ]
     },
     "execution_count": 90,
     "metadata": {},
     "output_type": "execute_result"
    }
   ],
   "source": [
    "myNumpyArray3.max()"
   ]
  },
  {
   "cell_type": "code",
   "execution_count": 92,
   "id": "74505170",
   "metadata": {},
   "outputs": [
    {
     "data": {
      "text/plain": [
       "0"
      ]
     },
     "execution_count": 92,
     "metadata": {},
     "output_type": "execute_result"
    }
   ],
   "source": [
    "myNumpyArray.min()"
   ]
  },
  {
   "cell_type": "code",
   "execution_count": 93,
   "id": "d1af8370",
   "metadata": {},
   "outputs": [
    {
     "data": {
      "text/plain": [
       "0"
      ]
     },
     "execution_count": 93,
     "metadata": {},
     "output_type": "execute_result"
    }
   ],
   "source": [
    "myNumpyArray2.min()"
   ]
  },
  {
   "cell_type": "code",
   "execution_count": 94,
   "id": "4f06cbb3",
   "metadata": {},
   "outputs": [
    {
     "data": {
      "text/plain": [
       "0"
      ]
     },
     "execution_count": 94,
     "metadata": {},
     "output_type": "execute_result"
    }
   ],
   "source": [
    "myNumpyArray3.min()\n"
   ]
  },
  {
   "cell_type": "code",
   "execution_count": 95,
   "id": "1a662dc9",
   "metadata": {},
   "outputs": [
    {
     "data": {
      "text/plain": [
       "19"
      ]
     },
     "execution_count": 95,
     "metadata": {},
     "output_type": "execute_result"
    }
   ],
   "source": [
    "myNumpyArray2.argmax()"
   ]
  },
  {
   "cell_type": "code",
   "execution_count": 96,
   "id": "10e84de8",
   "metadata": {},
   "outputs": [
    {
     "data": {
      "text/plain": [
       "0"
      ]
     },
     "execution_count": 96,
     "metadata": {},
     "output_type": "execute_result"
    }
   ],
   "source": [
    "myNumpyArray3.argmin()"
   ]
  },
  {
   "cell_type": "code",
   "execution_count": 97,
   "id": "1414c1d2",
   "metadata": {},
   "outputs": [
    {
     "data": {
      "text/plain": [
       "99"
      ]
     },
     "execution_count": 97,
     "metadata": {},
     "output_type": "execute_result"
    }
   ],
   "source": [
    "myNumpyArray3.argmax()"
   ]
  },
  {
   "cell_type": "markdown",
   "id": "55a0b5d3",
   "metadata": {},
   "source": [
    "### Numpy İndeksler"
   ]
  },
  {
   "cell_type": "code",
   "execution_count": 114,
   "id": "f428b8a2",
   "metadata": {},
   "outputs": [],
   "source": [
    "myList2=np.arange(0,15)"
   ]
  },
  {
   "cell_type": "code",
   "execution_count": 115,
   "id": "a08dec8a",
   "metadata": {},
   "outputs": [
    {
     "data": {
      "text/plain": [
       "array([ 0,  1,  2,  3,  4,  5,  6,  7,  8,  9, 10, 11, 12, 13, 14])"
      ]
     },
     "execution_count": 115,
     "metadata": {},
     "output_type": "execute_result"
    }
   ],
   "source": [
    "myList2"
   ]
  },
  {
   "cell_type": "code",
   "execution_count": 116,
   "id": "b11fa9b4",
   "metadata": {},
   "outputs": [
    {
     "data": {
      "text/plain": [
       "2"
      ]
     },
     "execution_count": 116,
     "metadata": {},
     "output_type": "execute_result"
    }
   ],
   "source": [
    "myList2[2]"
   ]
  },
  {
   "cell_type": "code",
   "execution_count": 117,
   "id": "18716a9a",
   "metadata": {},
   "outputs": [
    {
     "data": {
      "text/plain": [
       "array([ 0,  1,  2,  3,  4,  5,  6,  7,  8,  9, 10, 11, 12, 13, 14])"
      ]
     },
     "execution_count": 117,
     "metadata": {},
     "output_type": "execute_result"
    }
   ],
   "source": [
    "myList2[0:]"
   ]
  },
  {
   "cell_type": "code",
   "execution_count": 118,
   "id": "c47e0477",
   "metadata": {},
   "outputs": [
    {
     "data": {
      "text/plain": [
       "array([2, 3, 4])"
      ]
     },
     "execution_count": 118,
     "metadata": {},
     "output_type": "execute_result"
    }
   ],
   "source": [
    "myList2[2:5]"
   ]
  },
  {
   "cell_type": "code",
   "execution_count": 119,
   "id": "aa93b14b",
   "metadata": {},
   "outputs": [
    {
     "data": {
      "text/plain": [
       "array([ 0,  1,  2,  3,  4,  5,  6,  7,  8,  9, 10, 11, 12, 13, 14])"
      ]
     },
     "execution_count": 119,
     "metadata": {},
     "output_type": "execute_result"
    }
   ],
   "source": [
    "myList2"
   ]
  },
  {
   "cell_type": "code",
   "execution_count": 120,
   "id": "94bd9a62",
   "metadata": {},
   "outputs": [],
   "source": [
    "myList3=np.arange(12)"
   ]
  },
  {
   "cell_type": "code",
   "execution_count": 121,
   "id": "da71ecc3",
   "metadata": {},
   "outputs": [
    {
     "data": {
      "text/plain": [
       "array([ 0,  1,  2,  3,  4,  5,  6,  7,  8,  9, 10, 11])"
      ]
     },
     "execution_count": 121,
     "metadata": {},
     "output_type": "execute_result"
    }
   ],
   "source": [
    "myList3"
   ]
  },
  {
   "cell_type": "code",
   "execution_count": 122,
   "id": "d2fd1ad8",
   "metadata": {},
   "outputs": [],
   "source": [
    "copyList=myList3.copy()"
   ]
  },
  {
   "cell_type": "code",
   "execution_count": 123,
   "id": "82a14bf5",
   "metadata": {},
   "outputs": [
    {
     "data": {
      "text/plain": [
       "array([ 0,  1,  2,  3,  4,  5,  6,  7,  8,  9, 10, 11])"
      ]
     },
     "execution_count": 123,
     "metadata": {},
     "output_type": "execute_result"
    }
   ],
   "source": [
    "copyList"
   ]
  },
  {
   "cell_type": "code",
   "execution_count": 124,
   "id": "8595dec0",
   "metadata": {},
   "outputs": [],
   "source": [
    "copyList[0:4]=-200"
   ]
  },
  {
   "cell_type": "code",
   "execution_count": 125,
   "id": "035eddb0",
   "metadata": {},
   "outputs": [
    {
     "data": {
      "text/plain": [
       "array([-200, -200, -200, -200,    4,    5,    6,    7,    8,    9,   10,\n",
       "         11])"
      ]
     },
     "execution_count": 125,
     "metadata": {},
     "output_type": "execute_result"
    }
   ],
   "source": [
    "copyList"
   ]
  },
  {
   "cell_type": "code",
   "execution_count": 127,
   "id": "94e7d6d1",
   "metadata": {},
   "outputs": [
    {
     "data": {
      "text/plain": [
       "array([ 0,  1,  2,  3,  4,  5,  6,  7,  8,  9, 10, 11])"
      ]
     },
     "execution_count": 127,
     "metadata": {},
     "output_type": "execute_result"
    }
   ],
   "source": [
    "myList3"
   ]
  },
  {
   "cell_type": "code",
   "execution_count": 128,
   "id": "69e30356",
   "metadata": {},
   "outputs": [
    {
     "data": {
      "text/plain": [
       "array([-200, -200, -200, -200,    4,    5,    6,    7,    8,    9,   10,\n",
       "         11])"
      ]
     },
     "execution_count": 128,
     "metadata": {},
     "output_type": "execute_result"
    }
   ],
   "source": [
    "copyList"
   ]
  },
  {
   "cell_type": "markdown",
   "id": "50117330",
   "metadata": {},
   "source": [
    "### Matrix İndeksleri"
   ]
  },
  {
   "cell_type": "code",
   "execution_count": 129,
   "id": "e867c2c5",
   "metadata": {},
   "outputs": [],
   "source": [
    "exampleList=matrixArray.copy()"
   ]
  },
  {
   "cell_type": "code",
   "execution_count": 130,
   "id": "406df611",
   "metadata": {},
   "outputs": [
    {
     "data": {
      "text/plain": [
       "[[12, 45, 78], [45, 12, 63], [36, 78, 12]]"
      ]
     },
     "execution_count": 130,
     "metadata": {},
     "output_type": "execute_result"
    }
   ],
   "source": [
    "exampleList"
   ]
  },
  {
   "cell_type": "code",
   "execution_count": 131,
   "id": "b4c16d8a",
   "metadata": {},
   "outputs": [],
   "source": [
    "matrixExampleList=np.array(exampleList)"
   ]
  },
  {
   "cell_type": "code",
   "execution_count": 132,
   "id": "ccdd9d2c",
   "metadata": {},
   "outputs": [
    {
     "data": {
      "text/plain": [
       "array([[12, 45, 78],\n",
       "       [45, 12, 63],\n",
       "       [36, 78, 12]])"
      ]
     },
     "execution_count": 132,
     "metadata": {},
     "output_type": "execute_result"
    }
   ],
   "source": [
    "matrixExampleList"
   ]
  },
  {
   "cell_type": "code",
   "execution_count": 133,
   "id": "5dc79c88",
   "metadata": {},
   "outputs": [
    {
     "data": {
      "text/plain": [
       "array([[36, 78, 12]])"
      ]
     },
     "execution_count": 133,
     "metadata": {},
     "output_type": "execute_result"
    }
   ],
   "source": [
    "matrixExampleList[2:]"
   ]
  },
  {
   "cell_type": "code",
   "execution_count": 134,
   "id": "329208c4",
   "metadata": {},
   "outputs": [
    {
     "data": {
      "text/plain": [
       "array([[12, 45, 78],\n",
       "       [45, 12, 63],\n",
       "       [36, 78, 12]])"
      ]
     },
     "execution_count": 134,
     "metadata": {},
     "output_type": "execute_result"
    }
   ],
   "source": [
    "matrixExampleList[:]"
   ]
  },
  {
   "cell_type": "code",
   "execution_count": 135,
   "id": "1bce7b4d",
   "metadata": {},
   "outputs": [
    {
     "data": {
      "text/plain": [
       "12"
      ]
     },
     "execution_count": 135,
     "metadata": {},
     "output_type": "execute_result"
    }
   ],
   "source": [
    "matrixExampleList[2][2]"
   ]
  },
  {
   "cell_type": "code",
   "execution_count": 136,
   "id": "55a712d4",
   "metadata": {},
   "outputs": [
    {
     "data": {
      "text/plain": [
       "12"
      ]
     },
     "execution_count": 136,
     "metadata": {},
     "output_type": "execute_result"
    }
   ],
   "source": [
    "matrixExampleList[2,2]"
   ]
  },
  {
   "cell_type": "code",
   "execution_count": 138,
   "id": "0b87d7f0",
   "metadata": {},
   "outputs": [
    {
     "data": {
      "text/plain": [
       "array([[12, 45, 78],\n",
       "       [36, 78, 12]])"
      ]
     },
     "execution_count": 138,
     "metadata": {},
     "output_type": "execute_result"
    }
   ],
   "source": [
    "matrixExampleList[[0,2]]"
   ]
  },
  {
   "cell_type": "markdown",
   "id": "edb19a48",
   "metadata": {},
   "source": [
    "### Operasyonlar"
   ]
  },
  {
   "cell_type": "code",
   "execution_count": 139,
   "id": "81c9fe20",
   "metadata": {},
   "outputs": [],
   "source": [
    "newArray=np.random.randint(0,100,20)"
   ]
  },
  {
   "cell_type": "code",
   "execution_count": 140,
   "id": "a2ffcd2a",
   "metadata": {},
   "outputs": [
    {
     "data": {
      "text/plain": [
       "array([72, 52, 62, 84, 57, 92, 85, 46, 40, 66, 46, 61, 32, 44, 24, 51, 60,\n",
       "        3, 93, 23])"
      ]
     },
     "execution_count": 140,
     "metadata": {},
     "output_type": "execute_result"
    }
   ],
   "source": [
    "newArray"
   ]
  },
  {
   "cell_type": "code",
   "execution_count": 141,
   "id": "34a7f5be",
   "metadata": {},
   "outputs": [
    {
     "data": {
      "text/plain": [
       "array([ True,  True,  True,  True,  True,  True,  True,  True,  True,\n",
       "        True,  True,  True,  True,  True, False,  True,  True, False,\n",
       "        True, False])"
      ]
     },
     "execution_count": 141,
     "metadata": {},
     "output_type": "execute_result"
    }
   ],
   "source": [
    "newArray>24"
   ]
  },
  {
   "cell_type": "code",
   "execution_count": 143,
   "id": "7e843ccf",
   "metadata": {},
   "outputs": [
    {
     "data": {
      "text/plain": [
       "array([ 3, 23])"
      ]
     },
     "execution_count": 143,
     "metadata": {},
     "output_type": "execute_result"
    }
   ],
   "source": [
    "newArray[newArray<24]"
   ]
  },
  {
   "cell_type": "code",
   "execution_count": 147,
   "id": "057fc85d",
   "metadata": {},
   "outputs": [],
   "source": [
    "newArray2=np.random.randint(0,50,10)"
   ]
  },
  {
   "cell_type": "code",
   "execution_count": 148,
   "id": "391b4ea7",
   "metadata": {},
   "outputs": [
    {
     "data": {
      "text/plain": [
       "array([36, 24,  6, 49, 17, 28,  3, 41, 20,  0])"
      ]
     },
     "execution_count": 148,
     "metadata": {},
     "output_type": "execute_result"
    }
   ],
   "source": [
    "newArray2"
   ]
  },
  {
   "cell_type": "code",
   "execution_count": 152,
   "id": "e0ea604c",
   "metadata": {},
   "outputs": [
    {
     "data": {
      "text/plain": [
       "array([False,  True,  True, False,  True, False,  True, False,  True,\n",
       "        True])"
      ]
     },
     "execution_count": 152,
     "metadata": {},
     "output_type": "execute_result"
    }
   ],
   "source": [
    "newArray2<25\n",
    "    "
   ]
  },
  {
   "cell_type": "code",
   "execution_count": 155,
   "id": "65eccfca",
   "metadata": {},
   "outputs": [
    {
     "data": {
      "text/plain": [
       "array([24,  6, 17,  3, 20,  0])"
      ]
     },
     "execution_count": 155,
     "metadata": {},
     "output_type": "execute_result"
    }
   ],
   "source": [
    "newArray2[newArray2<25]"
   ]
  },
  {
   "cell_type": "markdown",
   "id": "a0de03aa",
   "metadata": {},
   "source": [
    "** numpy ile diziler birbirleriyle dört işleme tabi tutulabilirler"
   ]
  },
  {
   "cell_type": "code",
   "execution_count": 158,
   "id": "a7d3c837",
   "metadata": {},
   "outputs": [],
   "source": [
    "newArray3=newArray2+newArray2"
   ]
  },
  {
   "cell_type": "code",
   "execution_count": 159,
   "id": "7844ce59",
   "metadata": {},
   "outputs": [
    {
     "data": {
      "text/plain": [
       "array([72, 48, 12, 98, 34, 56,  6, 82, 40,  0])"
      ]
     },
     "execution_count": 159,
     "metadata": {},
     "output_type": "execute_result"
    }
   ],
   "source": [
    "newArray3"
   ]
  },
  {
   "cell_type": "code",
   "execution_count": 160,
   "id": "8449c4a7",
   "metadata": {},
   "outputs": [],
   "source": [
    "newArray4=newArray2*newArray2"
   ]
  },
  {
   "cell_type": "code",
   "execution_count": 161,
   "id": "56d6f0ca",
   "metadata": {},
   "outputs": [
    {
     "data": {
      "text/plain": [
       "array([1296,  576,   36, 2401,  289,  784,    9, 1681,  400,    0])"
      ]
     },
     "execution_count": 161,
     "metadata": {},
     "output_type": "execute_result"
    }
   ],
   "source": [
    "newArray4"
   ]
  },
  {
   "cell_type": "code",
   "execution_count": 162,
   "id": "f28cc15b",
   "metadata": {},
   "outputs": [],
   "source": [
    "newArray5=newArray2-newArray2"
   ]
  },
  {
   "cell_type": "code",
   "execution_count": 163,
   "id": "0c7fc3c7",
   "metadata": {},
   "outputs": [
    {
     "data": {
      "text/plain": [
       "array([0, 0, 0, 0, 0, 0, 0, 0, 0, 0])"
      ]
     },
     "execution_count": 163,
     "metadata": {},
     "output_type": "execute_result"
    }
   ],
   "source": [
    "newArray5"
   ]
  },
  {
   "cell_type": "code",
   "execution_count": 165,
   "id": "e1495d40",
   "metadata": {},
   "outputs": [],
   "source": [
    "## newArray6=newArray2/newArray2"
   ]
  },
  {
   "cell_type": "code",
   "execution_count": null,
   "id": "f235c2bb",
   "metadata": {},
   "outputs": [],
   "source": []
  }
 ],
 "metadata": {
  "kernelspec": {
   "display_name": "Python 3 (ipykernel)",
   "language": "python",
   "name": "python3"
  },
  "language_info": {
   "codemirror_mode": {
    "name": "ipython",
    "version": 3
   },
   "file_extension": ".py",
   "mimetype": "text/x-python",
   "name": "python",
   "nbconvert_exporter": "python",
   "pygments_lexer": "ipython3",
   "version": "3.11.4"
  }
 },
 "nbformat": 4,
 "nbformat_minor": 5
}
