{
 "cells": [
  {
   "cell_type": "markdown",
   "id": "b0719439",
   "metadata": {},
   "source": [
    "#### try bloğunun içindeki koda bakılır eğer kodda yanlışlık varsa except bloğu çalıştırılır"
   ]
  },
  {
   "cell_type": "code",
   "execution_count": 3,
   "id": "1da80857",
   "metadata": {},
   "outputs": [
    {
     "name": "stdout",
     "output_type": "stream",
     "text": [
      "Except block worked\n"
     ]
    }
   ],
   "source": [
    "try:\n",
    "    x=0\n",
    "    y=1\n",
    "    resault=y/x\n",
    "   \n",
    "except:\n",
    "    print(\"Except block worked\")"
   ]
  },
  {
   "cell_type": "markdown",
   "id": "1196c36a",
   "metadata": {},
   "source": [
    "### try,except,else,finally\n"
   ]
  },
  {
   "cell_type": "code",
   "execution_count": 1,
   "id": "4d01ab60",
   "metadata": {},
   "outputs": [
    {
     "name": "stdout",
     "output_type": "stream",
     "text": [
      "Enter numbersude\n",
      "wrong enter\n",
      "Call did finally \n",
      "Enter number12\n",
      "Thank you\n",
      "Call did finally \n"
     ]
    }
   ],
   "source": [
    "while True:\n",
    "    try:\n",
    "        myInt=int(input(\"Enter number\"))\n",
    "    except:\n",
    "        print(\"wrong enter\")\n",
    "    else:\n",
    "        print(\"Thank you\")\n",
    "        break\n",
    "    finally:\n",
    "        print(\"Call did finally \")\n",
    "        "
   ]
  },
  {
   "cell_type": "code",
   "execution_count": null,
   "id": "435b2cfc",
   "metadata": {},
   "outputs": [],
   "source": []
  }
 ],
 "metadata": {
  "kernelspec": {
   "display_name": "Python 3 (ipykernel)",
   "language": "python",
   "name": "python3"
  },
  "language_info": {
   "codemirror_mode": {
    "name": "ipython",
    "version": 3
   },
   "file_extension": ".py",
   "mimetype": "text/x-python",
   "name": "python",
   "nbconvert_exporter": "python",
   "pygments_lexer": "ipython3",
   "version": "3.11.4"
  }
 },
 "nbformat": 4,
 "nbformat_minor": 5
}
